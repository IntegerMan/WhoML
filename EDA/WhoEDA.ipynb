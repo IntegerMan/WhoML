{
 "cells": [
  {
   "cell_type": "code",
   "execution_count": 26,
   "metadata": {},
   "outputs": [],
   "source": [
    "import pandas as pd\n",
    "import plotly.express as px"
   ]
  },
  {
   "cell_type": "code",
   "execution_count": 27,
   "metadata": {},
   "outputs": [
    {
     "data": {
      "text/html": [
       "<div>\n",
       "<style scoped>\n",
       "    .dataframe tbody tr th:only-of-type {\n",
       "        vertical-align: middle;\n",
       "    }\n",
       "\n",
       "    .dataframe tbody tr th {\n",
       "        vertical-align: top;\n",
       "    }\n",
       "\n",
       "    .dataframe thead th {\n",
       "        text-align: right;\n",
       "    }\n",
       "</style>\n",
       "<table border=\"1\" class=\"dataframe\">\n",
       "  <thead>\n",
       "    <tr style=\"text-align: right;\">\n",
       "      <th></th>\n",
       "      <th>Director</th>\n",
       "      <th>Has 10</th>\n",
       "      <th>Has 11</th>\n",
       "      <th>Has 12</th>\n",
       "      <th>Has 13</th>\n",
       "      <th>Has 9</th>\n",
       "      <th>Has Amy Pond</th>\n",
       "      <th>Has Auton</th>\n",
       "      <th>Has Bill</th>\n",
       "      <th>Has Captain Jack Harkness</th>\n",
       "      <th>...</th>\n",
       "      <th>doctorid</th>\n",
       "      <th>duration</th>\n",
       "      <th>episode_id</th>\n",
       "      <th>rating</th>\n",
       "      <th>season</th>\n",
       "      <th>share</th>\n",
       "      <th>title</th>\n",
       "      <th>views</th>\n",
       "      <th>votes</th>\n",
       "      <th>weekday</th>\n",
       "    </tr>\n",
       "  </thead>\n",
       "  <tbody>\n",
       "    <tr>\n",
       "      <th>0</th>\n",
       "      <td>Keith Boak</td>\n",
       "      <td>0</td>\n",
       "      <td>0</td>\n",
       "      <td>0</td>\n",
       "      <td>0</td>\n",
       "      <td>1</td>\n",
       "      <td>0.0</td>\n",
       "      <td>1.0</td>\n",
       "      <td>0.0</td>\n",
       "      <td>0.0</td>\n",
       "      <td>...</td>\n",
       "      <td>9</td>\n",
       "      <td>00:44:14</td>\n",
       "      <td>27-1</td>\n",
       "      <td>7.6</td>\n",
       "      <td>27</td>\n",
       "      <td>44.8</td>\n",
       "      <td>Rose</td>\n",
       "      <td>10.81</td>\n",
       "      <td>6504</td>\n",
       "      <td>Sat</td>\n",
       "    </tr>\n",
       "    <tr>\n",
       "      <th>1</th>\n",
       "      <td>Euros Lyn</td>\n",
       "      <td>0</td>\n",
       "      <td>0</td>\n",
       "      <td>0</td>\n",
       "      <td>0</td>\n",
       "      <td>1</td>\n",
       "      <td>0.0</td>\n",
       "      <td>0.0</td>\n",
       "      <td>0.0</td>\n",
       "      <td>0.0</td>\n",
       "      <td>...</td>\n",
       "      <td>9</td>\n",
       "      <td>00:44:45</td>\n",
       "      <td>27-2</td>\n",
       "      <td>7.6</td>\n",
       "      <td>27</td>\n",
       "      <td>37.8</td>\n",
       "      <td>The End of the World</td>\n",
       "      <td>7.97</td>\n",
       "      <td>5684</td>\n",
       "      <td>Sat</td>\n",
       "    </tr>\n",
       "    <tr>\n",
       "      <th>2</th>\n",
       "      <td>Euros Lyn</td>\n",
       "      <td>0</td>\n",
       "      <td>0</td>\n",
       "      <td>0</td>\n",
       "      <td>0</td>\n",
       "      <td>1</td>\n",
       "      <td>0.0</td>\n",
       "      <td>0.0</td>\n",
       "      <td>0.0</td>\n",
       "      <td>0.0</td>\n",
       "      <td>...</td>\n",
       "      <td>9</td>\n",
       "      <td>00:44:50</td>\n",
       "      <td>27-3</td>\n",
       "      <td>7.6</td>\n",
       "      <td>27</td>\n",
       "      <td>37.8</td>\n",
       "      <td>The Unquiet Dead</td>\n",
       "      <td>8.86</td>\n",
       "      <td>5326</td>\n",
       "      <td>Sat</td>\n",
       "    </tr>\n",
       "    <tr>\n",
       "      <th>3</th>\n",
       "      <td>Keith Boak</td>\n",
       "      <td>0</td>\n",
       "      <td>0</td>\n",
       "      <td>0</td>\n",
       "      <td>0</td>\n",
       "      <td>1</td>\n",
       "      <td>0.0</td>\n",
       "      <td>0.0</td>\n",
       "      <td>0.0</td>\n",
       "      <td>0.0</td>\n",
       "      <td>...</td>\n",
       "      <td>9</td>\n",
       "      <td>00:45:05</td>\n",
       "      <td>27-4</td>\n",
       "      <td>7.0</td>\n",
       "      <td>27</td>\n",
       "      <td>35.7</td>\n",
       "      <td>Aliens of London</td>\n",
       "      <td>7.63</td>\n",
       "      <td>5116</td>\n",
       "      <td>Sat</td>\n",
       "    </tr>\n",
       "    <tr>\n",
       "      <th>4</th>\n",
       "      <td>Keith Boak</td>\n",
       "      <td>0</td>\n",
       "      <td>0</td>\n",
       "      <td>0</td>\n",
       "      <td>0</td>\n",
       "      <td>1</td>\n",
       "      <td>0.0</td>\n",
       "      <td>0.0</td>\n",
       "      <td>0.0</td>\n",
       "      <td>0.0</td>\n",
       "      <td>...</td>\n",
       "      <td>9</td>\n",
       "      <td>00:40:40</td>\n",
       "      <td>27-5</td>\n",
       "      <td>7.1</td>\n",
       "      <td>27</td>\n",
       "      <td>40.2</td>\n",
       "      <td>World War Three</td>\n",
       "      <td>7.98</td>\n",
       "      <td>4943</td>\n",
       "      <td>Sat</td>\n",
       "    </tr>\n",
       "  </tbody>\n",
       "</table>\n",
       "<p>5 rows × 56 columns</p>\n",
       "</div>"
      ],
      "text/plain": [
       "     Director  Has 10  Has 11  Has 12  Has 13  Has 9  Has Amy Pond  Has Auton  \\\n",
       "0  Keith Boak       0       0       0       0      1           0.0        1.0   \n",
       "1   Euros Lyn       0       0       0       0      1           0.0        0.0   \n",
       "2   Euros Lyn       0       0       0       0      1           0.0        0.0   \n",
       "3  Keith Boak       0       0       0       0      1           0.0        0.0   \n",
       "4  Keith Boak       0       0       0       0      1           0.0        0.0   \n",
       "\n",
       "   Has Bill  Has Captain Jack Harkness  ...  doctorid  duration  episode_id  \\\n",
       "0       0.0                        0.0  ...         9  00:44:14        27-1   \n",
       "1       0.0                        0.0  ...         9  00:44:45        27-2   \n",
       "2       0.0                        0.0  ...         9  00:44:50        27-3   \n",
       "3       0.0                        0.0  ...         9  00:45:05        27-4   \n",
       "4       0.0                        0.0  ...         9  00:40:40        27-5   \n",
       "\n",
       "   rating  season  share                 title  views  votes  weekday  \n",
       "0     7.6      27   44.8                  Rose  10.81   6504      Sat  \n",
       "1     7.6      27   37.8  The End of the World   7.97   5684      Sat  \n",
       "2     7.6      27   37.8      The Unquiet Dead   8.86   5326      Sat  \n",
       "3     7.0      27   35.7      Aliens of London   7.63   5116      Sat  \n",
       "4     7.1      27   40.2       World War Three   7.98   4943      Sat  \n",
       "\n",
       "[5 rows x 56 columns]"
      ]
     },
     "execution_count": 27,
     "metadata": {},
     "output_type": "execute_result"
    }
   ],
   "source": [
    "df = pd.read_csv('../Data/Processed.csv')\n",
    "\n",
    "df.drop(columns=['Unnamed: 0'], inplace=True)\n",
    "\n",
    "df.head()"
   ]
  },
  {
   "cell_type": "code",
   "execution_count": 28,
   "metadata": {},
   "outputs": [],
   "source": [
    "# Common themes\n",
    "template='plotly_dark'\n",
    "theme_discrete = px.colors.qualitative.Prism\n",
    "theme_diverging_neutral = px.colors.diverging.RdYlBu\n",
    "theme_diverging = px.colors.diverging.Picnic_r\n",
    "theme_diverging_r = px.colors.diverging.Picnic\n",
    "theme_sequential = px.colors.sequential.Agsunset\n",
    "theme_continuous= px.colors.diverging.balance\n",
    "theme_hot = px.colors.sequential.Reds\n",
    "theme_cold = px.colors.sequential.Blues\n",
    "\n",
    "# Helper functions to standardize display\n",
    "def format_and_show_short(fig):\n",
    "    fig.update_layout(template=template,\n",
    "                      height=400)\n",
    "    fig.show()\n",
    "\n",
    "def format_and_show(fig):\n",
    "    fig.update_layout(template=template,\n",
    "                      height=550)\n",
    "    fig.show()\n",
    "\n",
    "def format_and_show_tall(fig):\n",
    "    fig.update_layout(template=template,\n",
    "                      height=800)\n",
    "    fig.show()\n",
    "\n",
    "def format_and_show_3d(fig):\n",
    "    fig.update_layout(template=template,\n",
    "                      width=800,\n",
    "                      height=600)\n",
    "    fig.show()\n",
    "\n",
    "def format_and_show_sunburst(fig):\n",
    "    fig.update_layout(template=template,\n",
    "                      width=1024,\n",
    "                      height=800)\n",
    "    fig.show()"
   ]
  },
  {
   "cell_type": "code",
   "execution_count": 29,
   "metadata": {},
   "outputs": [
    {
     "data": {
      "application/vnd.plotly.v1+json": {
       "config": {
        "plotlyServerURL": "https://plot.ly"
       },
       "data": [
        {
         "hovertemplate": "date=%{x}<br>rating=%{y}<br>season=%{marker.color}<extra></extra>",
         "legendgroup": "",
         "marker": {
          "color": [
           27,
           27,
           27,
           27,
           27,
           27,
           27,
           27,
           27,
           27,
           27,
           27,
           27,
           28,
           28,
           28,
           28,
           28,
           28,
           28,
           28,
           28,
           28,
           28,
           28,
           28,
           28,
           29,
           29,
           29,
           29,
           29,
           29,
           29,
           29,
           29,
           29,
           29,
           29,
           29,
           29,
           30,
           30,
           30,
           30,
           30,
           30,
           30,
           30,
           30,
           30,
           30,
           30,
           30,
           30,
           31,
           31,
           31,
           31,
           31,
           31,
           31,
           31,
           31,
           31,
           31,
           31,
           31,
           32,
           32,
           32,
           32,
           32,
           32,
           32,
           32,
           32,
           32,
           32,
           32,
           32,
           32,
           33,
           33,
           33,
           33,
           33,
           33,
           33,
           33,
           33,
           33,
           33,
           33,
           33,
           33,
           33,
           34,
           34,
           34,
           34,
           34,
           34,
           34,
           34,
           34,
           34,
           34,
           34,
           35,
           35,
           35,
           35,
           35,
           35,
           35,
           35,
           35,
           35,
           35,
           35,
           35,
           36,
           36,
           36,
           36,
           36,
           36,
           36,
           36,
           36,
           36,
           36,
           36,
           36,
           37,
           37,
           37,
           37,
           37,
           37,
           37,
           37,
           37,
           37,
           37
          ],
          "coloraxis": "coloraxis",
          "symbol": "circle"
         },
         "mode": "markers",
         "name": "",
         "orientation": "v",
         "showlegend": false,
         "type": "scatter",
         "x": [
          "2005-03-26",
          "2005-04-02",
          "2005-04-09",
          "2005-04-16",
          "2005-04-23",
          "2005-04-30",
          "2005-05-07",
          "2005-05-14",
          "2005-05-21",
          "2005-05-28",
          "2005-06-04",
          "2005-06-11",
          "2005-06-18",
          "2005-12-25",
          "2006-04-15",
          "2006-04-22",
          "2006-04-29",
          "2006-05-06",
          "2006-05-13",
          "2006-05-20",
          "2006-05-27",
          "2006-06-03",
          "2006-06-10",
          "2006-06-17",
          "2006-06-24",
          "2006-07-01",
          "2006-07-08",
          "2006-12-25",
          "2007-03-31",
          "2007-04-07",
          "2007-04-14",
          "2007-04-21",
          "2007-04-28",
          "2007-05-05",
          "2007-05-19",
          "2007-05-26",
          "2007-06-02",
          "2007-06-09",
          "2007-06-16",
          "2007-06-23",
          "2007-06-30",
          "2007-12-25",
          "2008-04-05",
          "2008-04-12",
          "2008-04-19",
          "2008-04-26",
          "2008-05-03",
          "2008-05-10",
          "2008-05-17",
          "2008-05-31",
          "2008-06-07",
          "2008-06-14",
          "2008-06-21",
          "2008-06-28",
          "2008-07-05",
          "2010-04-03",
          "2010-04-10",
          "2010-04-17",
          "2010-04-24",
          "2010-05-01",
          "2010-05-08",
          "2010-05-15",
          "2010-05-22",
          "2010-05-29",
          "2010-06-05",
          "2010-06-12",
          "2010-06-19",
          "2010-06-26",
          "2010-12-25",
          "2011-04-23",
          "2011-04-30",
          "2011-05-07",
          "2011-05-14",
          "2011-05-21",
          "2011-05-28",
          "2011-06-04",
          "2011-08-27",
          "2011-09-03",
          "2011-09-10",
          "2011-09-17",
          "2011-09-24",
          "2011-10-01",
          "2011-12-25",
          "2012-09-01",
          "2012-09-08",
          "2012-09-15",
          "2012-09-22",
          "2012-09-29",
          "2012-12-25",
          "2013-03-30",
          "2013-04-06",
          "2013-04-13",
          "2013-04-20",
          "2013-04-27",
          "2013-05-04",
          "2013-05-11",
          "2013-05-18",
          "2014-08-23",
          "2014-08-30",
          "2014-09-06",
          "2014-09-13",
          "2014-09-20",
          "2014-09-27",
          "2014-10-04",
          "2014-10-11",
          "2014-10-18",
          "2014-10-25",
          "2014-11-01",
          "2014-11-08",
          "2015-09-19",
          "2015-09-26",
          "2015-10-03",
          "2015-10-10",
          "2015-10-17",
          "2015-10-24",
          "2015-10-31",
          "2015-11-07",
          "2015-11-14",
          "2015-11-21",
          "2015-11-28",
          "2015-12-05",
          "2015-12-25",
          "2016-12-25",
          "2017-04-15",
          "2017-04-22",
          "2017-04-29",
          "2017-05-06",
          "2017-05-13",
          "2017-05-20",
          "2017-05-27",
          "2017-06-03",
          "2017-06-10",
          "2017-06-17",
          "2017-06-24",
          "2017-07-01",
          "2018-10-07",
          "2018-10-14",
          "2018-10-21",
          "2018-10-28",
          "2018-11-04",
          "2018-11-11",
          "2018-11-18",
          "2018-11-25",
          "2018-12-02",
          "2018-12-09",
          "2019-01-01"
         ],
         "xaxis": "x",
         "y": [
          7.6,
          7.6,
          7.6,
          7,
          7.1,
          8.7,
          7.2,
          8.4,
          9.2,
          9.1,
          7.2,
          8.7,
          9.1,
          8.2,
          7.5,
          7.9,
          8.4,
          9.3,
          7.8,
          7.9,
          6.9,
          8.7,
          8.8,
          6.2,
          6.1,
          8.5,
          9.3,
          7.6,
          8,
          7.8,
          8.1,
          7,
          7,
          6.7,
          7.5,
          9,
          9.2,
          9.8,
          8.8,
          8.7,
          8.4,
          7.7,
          7.8,
          8.1,
          8.1,
          7.5,
          7.6,
          7.7,
          7.8,
          9.4,
          9.5,
          9,
          8.9,
          9.1,
          9.1,
          8.8,
          7.6,
          6.8,
          8.7,
          8.6,
          7.1,
          8.2,
          7.3,
          7.5,
          9.3,
          8.3,
          9.1,
          9.2,
          8.6,
          8.9,
          8.9,
          6.8,
          9,
          7.3,
          7.5,
          9.1,
          8.1,
          7.1,
          8.5,
          8.1,
          7.7,
          8.6,
          7.3,
          8.7,
          7.5,
          7.5,
          7.6,
          9,
          8.5,
          8,
          7.4,
          7.3,
          7.8,
          7.5,
          7.4,
          7.4,
          9.1,
          8,
          7.8,
          7.1,
          8.9,
          8,
          7.4,
          7,
          8.5,
          8.5,
          6.1,
          8.7,
          7.9,
          8.5,
          8.5,
          8.3,
          8.1,
          7.7,
          7.6,
          7.9,
          8.6,
          6,
          8.6,
          9.6,
          8.7,
          8.6,
          7.5,
          7.9,
          7.2,
          7.3,
          7.5,
          8.1,
          8.5,
          7.7,
          7.2,
          7.1,
          7,
          9.2,
          9,
          7.1,
          6.2,
          7.1,
          5.3,
          5.2,
          6.6,
          6.4,
          5.9,
          6.4,
          5.5,
          6
         ],
         "yaxis": "y"
        }
       ],
       "layout": {
        "coloraxis": {
         "colorbar": {
          "title": {
           "text": "season"
          }
         },
         "colorscale": [
          [
           0,
           "rgb(75, 41, 145)"
          ],
          [
           0.16666666666666666,
           "rgb(135, 44, 162)"
          ],
          [
           0.3333333333333333,
           "rgb(192, 54, 157)"
          ],
          [
           0.5,
           "rgb(234, 79, 136)"
          ],
          [
           0.6666666666666666,
           "rgb(250, 120, 118)"
          ],
          [
           0.8333333333333334,
           "rgb(246, 169, 122)"
          ],
          [
           1,
           "rgb(237, 217, 163)"
          ]
         ]
        },
        "height": 550,
        "legend": {
         "tracegroupgap": 0
        },
        "template": {
         "data": {
          "bar": [
           {
            "error_x": {
             "color": "#f2f5fa"
            },
            "error_y": {
             "color": "#f2f5fa"
            },
            "marker": {
             "line": {
              "color": "rgb(17,17,17)",
              "width": 0.5
             },
             "pattern": {
              "fillmode": "overlay",
              "size": 10,
              "solidity": 0.2
             }
            },
            "type": "bar"
           }
          ],
          "barpolar": [
           {
            "marker": {
             "line": {
              "color": "rgb(17,17,17)",
              "width": 0.5
             },
             "pattern": {
              "fillmode": "overlay",
              "size": 10,
              "solidity": 0.2
             }
            },
            "type": "barpolar"
           }
          ],
          "carpet": [
           {
            "aaxis": {
             "endlinecolor": "#A2B1C6",
             "gridcolor": "#506784",
             "linecolor": "#506784",
             "minorgridcolor": "#506784",
             "startlinecolor": "#A2B1C6"
            },
            "baxis": {
             "endlinecolor": "#A2B1C6",
             "gridcolor": "#506784",
             "linecolor": "#506784",
             "minorgridcolor": "#506784",
             "startlinecolor": "#A2B1C6"
            },
            "type": "carpet"
           }
          ],
          "choropleth": [
           {
            "colorbar": {
             "outlinewidth": 0,
             "ticks": ""
            },
            "type": "choropleth"
           }
          ],
          "contour": [
           {
            "colorbar": {
             "outlinewidth": 0,
             "ticks": ""
            },
            "colorscale": [
             [
              0,
              "#0d0887"
             ],
             [
              0.1111111111111111,
              "#46039f"
             ],
             [
              0.2222222222222222,
              "#7201a8"
             ],
             [
              0.3333333333333333,
              "#9c179e"
             ],
             [
              0.4444444444444444,
              "#bd3786"
             ],
             [
              0.5555555555555556,
              "#d8576b"
             ],
             [
              0.6666666666666666,
              "#ed7953"
             ],
             [
              0.7777777777777778,
              "#fb9f3a"
             ],
             [
              0.8888888888888888,
              "#fdca26"
             ],
             [
              1,
              "#f0f921"
             ]
            ],
            "type": "contour"
           }
          ],
          "contourcarpet": [
           {
            "colorbar": {
             "outlinewidth": 0,
             "ticks": ""
            },
            "type": "contourcarpet"
           }
          ],
          "heatmap": [
           {
            "colorbar": {
             "outlinewidth": 0,
             "ticks": ""
            },
            "colorscale": [
             [
              0,
              "#0d0887"
             ],
             [
              0.1111111111111111,
              "#46039f"
             ],
             [
              0.2222222222222222,
              "#7201a8"
             ],
             [
              0.3333333333333333,
              "#9c179e"
             ],
             [
              0.4444444444444444,
              "#bd3786"
             ],
             [
              0.5555555555555556,
              "#d8576b"
             ],
             [
              0.6666666666666666,
              "#ed7953"
             ],
             [
              0.7777777777777778,
              "#fb9f3a"
             ],
             [
              0.8888888888888888,
              "#fdca26"
             ],
             [
              1,
              "#f0f921"
             ]
            ],
            "type": "heatmap"
           }
          ],
          "heatmapgl": [
           {
            "colorbar": {
             "outlinewidth": 0,
             "ticks": ""
            },
            "colorscale": [
             [
              0,
              "#0d0887"
             ],
             [
              0.1111111111111111,
              "#46039f"
             ],
             [
              0.2222222222222222,
              "#7201a8"
             ],
             [
              0.3333333333333333,
              "#9c179e"
             ],
             [
              0.4444444444444444,
              "#bd3786"
             ],
             [
              0.5555555555555556,
              "#d8576b"
             ],
             [
              0.6666666666666666,
              "#ed7953"
             ],
             [
              0.7777777777777778,
              "#fb9f3a"
             ],
             [
              0.8888888888888888,
              "#fdca26"
             ],
             [
              1,
              "#f0f921"
             ]
            ],
            "type": "heatmapgl"
           }
          ],
          "histogram": [
           {
            "marker": {
             "pattern": {
              "fillmode": "overlay",
              "size": 10,
              "solidity": 0.2
             }
            },
            "type": "histogram"
           }
          ],
          "histogram2d": [
           {
            "colorbar": {
             "outlinewidth": 0,
             "ticks": ""
            },
            "colorscale": [
             [
              0,
              "#0d0887"
             ],
             [
              0.1111111111111111,
              "#46039f"
             ],
             [
              0.2222222222222222,
              "#7201a8"
             ],
             [
              0.3333333333333333,
              "#9c179e"
             ],
             [
              0.4444444444444444,
              "#bd3786"
             ],
             [
              0.5555555555555556,
              "#d8576b"
             ],
             [
              0.6666666666666666,
              "#ed7953"
             ],
             [
              0.7777777777777778,
              "#fb9f3a"
             ],
             [
              0.8888888888888888,
              "#fdca26"
             ],
             [
              1,
              "#f0f921"
             ]
            ],
            "type": "histogram2d"
           }
          ],
          "histogram2dcontour": [
           {
            "colorbar": {
             "outlinewidth": 0,
             "ticks": ""
            },
            "colorscale": [
             [
              0,
              "#0d0887"
             ],
             [
              0.1111111111111111,
              "#46039f"
             ],
             [
              0.2222222222222222,
              "#7201a8"
             ],
             [
              0.3333333333333333,
              "#9c179e"
             ],
             [
              0.4444444444444444,
              "#bd3786"
             ],
             [
              0.5555555555555556,
              "#d8576b"
             ],
             [
              0.6666666666666666,
              "#ed7953"
             ],
             [
              0.7777777777777778,
              "#fb9f3a"
             ],
             [
              0.8888888888888888,
              "#fdca26"
             ],
             [
              1,
              "#f0f921"
             ]
            ],
            "type": "histogram2dcontour"
           }
          ],
          "mesh3d": [
           {
            "colorbar": {
             "outlinewidth": 0,
             "ticks": ""
            },
            "type": "mesh3d"
           }
          ],
          "parcoords": [
           {
            "line": {
             "colorbar": {
              "outlinewidth": 0,
              "ticks": ""
             }
            },
            "type": "parcoords"
           }
          ],
          "pie": [
           {
            "automargin": true,
            "type": "pie"
           }
          ],
          "scatter": [
           {
            "marker": {
             "line": {
              "color": "#283442"
             }
            },
            "type": "scatter"
           }
          ],
          "scatter3d": [
           {
            "line": {
             "colorbar": {
              "outlinewidth": 0,
              "ticks": ""
             }
            },
            "marker": {
             "colorbar": {
              "outlinewidth": 0,
              "ticks": ""
             }
            },
            "type": "scatter3d"
           }
          ],
          "scattercarpet": [
           {
            "marker": {
             "colorbar": {
              "outlinewidth": 0,
              "ticks": ""
             }
            },
            "type": "scattercarpet"
           }
          ],
          "scattergeo": [
           {
            "marker": {
             "colorbar": {
              "outlinewidth": 0,
              "ticks": ""
             }
            },
            "type": "scattergeo"
           }
          ],
          "scattergl": [
           {
            "marker": {
             "line": {
              "color": "#283442"
             }
            },
            "type": "scattergl"
           }
          ],
          "scattermapbox": [
           {
            "marker": {
             "colorbar": {
              "outlinewidth": 0,
              "ticks": ""
             }
            },
            "type": "scattermapbox"
           }
          ],
          "scatterpolar": [
           {
            "marker": {
             "colorbar": {
              "outlinewidth": 0,
              "ticks": ""
             }
            },
            "type": "scatterpolar"
           }
          ],
          "scatterpolargl": [
           {
            "marker": {
             "colorbar": {
              "outlinewidth": 0,
              "ticks": ""
             }
            },
            "type": "scatterpolargl"
           }
          ],
          "scatterternary": [
           {
            "marker": {
             "colorbar": {
              "outlinewidth": 0,
              "ticks": ""
             }
            },
            "type": "scatterternary"
           }
          ],
          "surface": [
           {
            "colorbar": {
             "outlinewidth": 0,
             "ticks": ""
            },
            "colorscale": [
             [
              0,
              "#0d0887"
             ],
             [
              0.1111111111111111,
              "#46039f"
             ],
             [
              0.2222222222222222,
              "#7201a8"
             ],
             [
              0.3333333333333333,
              "#9c179e"
             ],
             [
              0.4444444444444444,
              "#bd3786"
             ],
             [
              0.5555555555555556,
              "#d8576b"
             ],
             [
              0.6666666666666666,
              "#ed7953"
             ],
             [
              0.7777777777777778,
              "#fb9f3a"
             ],
             [
              0.8888888888888888,
              "#fdca26"
             ],
             [
              1,
              "#f0f921"
             ]
            ],
            "type": "surface"
           }
          ],
          "table": [
           {
            "cells": {
             "fill": {
              "color": "#506784"
             },
             "line": {
              "color": "rgb(17,17,17)"
             }
            },
            "header": {
             "fill": {
              "color": "#2a3f5f"
             },
             "line": {
              "color": "rgb(17,17,17)"
             }
            },
            "type": "table"
           }
          ]
         },
         "layout": {
          "annotationdefaults": {
           "arrowcolor": "#f2f5fa",
           "arrowhead": 0,
           "arrowwidth": 1
          },
          "autotypenumbers": "strict",
          "coloraxis": {
           "colorbar": {
            "outlinewidth": 0,
            "ticks": ""
           }
          },
          "colorscale": {
           "diverging": [
            [
             0,
             "#8e0152"
            ],
            [
             0.1,
             "#c51b7d"
            ],
            [
             0.2,
             "#de77ae"
            ],
            [
             0.3,
             "#f1b6da"
            ],
            [
             0.4,
             "#fde0ef"
            ],
            [
             0.5,
             "#f7f7f7"
            ],
            [
             0.6,
             "#e6f5d0"
            ],
            [
             0.7,
             "#b8e186"
            ],
            [
             0.8,
             "#7fbc41"
            ],
            [
             0.9,
             "#4d9221"
            ],
            [
             1,
             "#276419"
            ]
           ],
           "sequential": [
            [
             0,
             "#0d0887"
            ],
            [
             0.1111111111111111,
             "#46039f"
            ],
            [
             0.2222222222222222,
             "#7201a8"
            ],
            [
             0.3333333333333333,
             "#9c179e"
            ],
            [
             0.4444444444444444,
             "#bd3786"
            ],
            [
             0.5555555555555556,
             "#d8576b"
            ],
            [
             0.6666666666666666,
             "#ed7953"
            ],
            [
             0.7777777777777778,
             "#fb9f3a"
            ],
            [
             0.8888888888888888,
             "#fdca26"
            ],
            [
             1,
             "#f0f921"
            ]
           ],
           "sequentialminus": [
            [
             0,
             "#0d0887"
            ],
            [
             0.1111111111111111,
             "#46039f"
            ],
            [
             0.2222222222222222,
             "#7201a8"
            ],
            [
             0.3333333333333333,
             "#9c179e"
            ],
            [
             0.4444444444444444,
             "#bd3786"
            ],
            [
             0.5555555555555556,
             "#d8576b"
            ],
            [
             0.6666666666666666,
             "#ed7953"
            ],
            [
             0.7777777777777778,
             "#fb9f3a"
            ],
            [
             0.8888888888888888,
             "#fdca26"
            ],
            [
             1,
             "#f0f921"
            ]
           ]
          },
          "colorway": [
           "#636efa",
           "#EF553B",
           "#00cc96",
           "#ab63fa",
           "#FFA15A",
           "#19d3f3",
           "#FF6692",
           "#B6E880",
           "#FF97FF",
           "#FECB52"
          ],
          "font": {
           "color": "#f2f5fa"
          },
          "geo": {
           "bgcolor": "rgb(17,17,17)",
           "lakecolor": "rgb(17,17,17)",
           "landcolor": "rgb(17,17,17)",
           "showlakes": true,
           "showland": true,
           "subunitcolor": "#506784"
          },
          "hoverlabel": {
           "align": "left"
          },
          "hovermode": "closest",
          "mapbox": {
           "style": "dark"
          },
          "paper_bgcolor": "rgb(17,17,17)",
          "plot_bgcolor": "rgb(17,17,17)",
          "polar": {
           "angularaxis": {
            "gridcolor": "#506784",
            "linecolor": "#506784",
            "ticks": ""
           },
           "bgcolor": "rgb(17,17,17)",
           "radialaxis": {
            "gridcolor": "#506784",
            "linecolor": "#506784",
            "ticks": ""
           }
          },
          "scene": {
           "xaxis": {
            "backgroundcolor": "rgb(17,17,17)",
            "gridcolor": "#506784",
            "gridwidth": 2,
            "linecolor": "#506784",
            "showbackground": true,
            "ticks": "",
            "zerolinecolor": "#C8D4E3"
           },
           "yaxis": {
            "backgroundcolor": "rgb(17,17,17)",
            "gridcolor": "#506784",
            "gridwidth": 2,
            "linecolor": "#506784",
            "showbackground": true,
            "ticks": "",
            "zerolinecolor": "#C8D4E3"
           },
           "zaxis": {
            "backgroundcolor": "rgb(17,17,17)",
            "gridcolor": "#506784",
            "gridwidth": 2,
            "linecolor": "#506784",
            "showbackground": true,
            "ticks": "",
            "zerolinecolor": "#C8D4E3"
           }
          },
          "shapedefaults": {
           "line": {
            "color": "#f2f5fa"
           }
          },
          "sliderdefaults": {
           "bgcolor": "#C8D4E3",
           "bordercolor": "rgb(17,17,17)",
           "borderwidth": 1,
           "tickwidth": 0
          },
          "ternary": {
           "aaxis": {
            "gridcolor": "#506784",
            "linecolor": "#506784",
            "ticks": ""
           },
           "baxis": {
            "gridcolor": "#506784",
            "linecolor": "#506784",
            "ticks": ""
           },
           "bgcolor": "rgb(17,17,17)",
           "caxis": {
            "gridcolor": "#506784",
            "linecolor": "#506784",
            "ticks": ""
           }
          },
          "title": {
           "x": 0.05
          },
          "updatemenudefaults": {
           "bgcolor": "#506784",
           "borderwidth": 0
          },
          "xaxis": {
           "automargin": true,
           "gridcolor": "#283442",
           "linecolor": "#506784",
           "ticks": "",
           "title": {
            "standoff": 15
           },
           "zerolinecolor": "#283442",
           "zerolinewidth": 2
          },
          "yaxis": {
           "automargin": true,
           "gridcolor": "#283442",
           "linecolor": "#506784",
           "ticks": "",
           "title": {
            "standoff": 15
           },
           "zerolinecolor": "#283442",
           "zerolinewidth": 2
          }
         }
        },
        "title": {
         "text": "Ratings by Season"
        },
        "xaxis": {
         "anchor": "y",
         "domain": [
          0,
          1
         ],
         "title": {
          "text": "date"
         }
        },
        "yaxis": {
         "anchor": "x",
         "domain": [
          0,
          1
         ],
         "title": {
          "text": "rating"
         }
        }
       }
      }
     },
     "metadata": {},
     "output_type": "display_data"
    }
   ],
   "source": [
    "fig = px.scatter(df, \n",
    "    x='date', \n",
    "    y='rating', \n",
    "    color='season', \n",
    "    title='Ratings by Season',\n",
    "    color_continuous_scale=theme_sequential)\n",
    "    \n",
    "format_and_show(fig)"
   ]
  },
  {
   "cell_type": "code",
   "execution_count": 40,
   "metadata": {},
   "outputs": [
    {
     "data": {
      "application/vnd.plotly.v1+json": {
       "config": {
        "plotlyServerURL": "https://plot.ly"
       },
       "data": [
        {
         "hovertemplate": "Producer=%{x}<br>Writer=%{y}<br>rating=%{marker.color}<extra></extra>",
         "legendgroup": "",
         "marker": {
          "color": [
           7.6,
           7.6,
           7.6,
           7,
           7.1,
           8.7,
           7.2,
           8.4,
           9.2,
           9.1,
           7.2,
           8.7,
           9.1,
           8.2,
           7.5,
           7.9,
           8.4,
           9.3,
           7.8,
           7.9,
           6.9,
           8.7,
           8.8,
           6.2,
           6.1,
           8.5,
           9.3,
           7.6,
           8,
           7.8,
           8.1,
           7,
           7,
           6.7,
           7.5,
           9,
           9.2,
           9.8,
           8.8,
           8.7,
           8.4,
           7.7,
           7.8,
           8.1,
           8.1,
           7.5,
           7.6,
           7.7,
           7.8,
           9.4,
           9.5,
           9,
           8.9,
           9.1,
           9.1,
           8.8,
           7.6,
           6.8,
           8.7,
           8.6,
           7.1,
           8.2,
           7.3,
           7.5,
           9.3,
           8.3,
           9.1,
           9.2,
           8.6,
           8.9,
           8.9,
           6.8,
           9,
           7.3,
           7.5,
           9.1,
           8.1,
           7.1,
           8.5,
           8.1,
           7.7,
           8.6,
           7.3,
           8.7,
           7.5,
           7.5,
           7.6,
           9,
           8.5,
           8,
           7.4,
           7.3,
           7.8,
           7.5,
           7.4,
           7.4,
           9.1,
           8,
           7.8,
           7.1,
           8.9,
           8,
           7.4,
           7,
           8.5,
           8.5,
           6.1,
           8.7,
           7.9,
           8.5,
           8.5,
           8.3,
           8.1,
           7.7,
           7.6,
           7.9,
           8.6,
           6,
           8.6,
           9.6,
           8.7,
           8.6,
           7.5,
           7.9,
           7.2,
           7.3,
           7.5,
           8.1,
           8.5,
           7.7,
           7.2,
           7.1,
           7,
           9.2,
           9,
           7.1,
           6.2,
           7.1,
           5.3,
           5.2,
           6.6,
           6.4,
           5.9,
           6.4,
           5.5,
           6
          ],
          "coloraxis": "coloraxis",
          "symbol": "circle"
         },
         "mode": "markers",
         "name": "",
         "scene": "scene",
         "showlegend": false,
         "type": "scatter3d",
         "x": [
          "Phil Collinson",
          "Phil Collinson",
          "Phil Collinson",
          "Phil Collinson",
          "Phil Collinson",
          "Phil Collinson",
          "Phil Collinson",
          "Phil Collinson",
          "Phil Collinson",
          "Phil Collinson",
          "Phil Collinson",
          "Phil Collinson",
          "Phil Collinson",
          "Phil Collinson",
          "Phil Collinson",
          "Phil Collinson",
          "Phil Collinson",
          "Phil Collinson",
          "Phil Collinson",
          "Phil Collinson",
          "Phil Collinson",
          "Phil Collinson",
          "Phil Collinson",
          "Phil Collinson",
          "Phil Collinson",
          "Phil Collinson",
          "Phil Collinson",
          "Phil Collinson",
          "Phil Collinson",
          "Phil Collinson",
          "Phil Collinson",
          "Phil Collinson",
          "Phil Collinson",
          "Phil Collinson",
          "Phil Collinson",
          "Susie Liggat",
          "Susie Liggat",
          "Phil Collinson",
          "Phil Collinson",
          "Phil Collinson",
          "Phil Collinson",
          "Phil Collinson",
          "Phil Collinson",
          "Phil Collinson",
          "Susie Liggat",
          "Susie Liggat",
          "Susie Liggat",
          "Phil Collinson",
          "Susie Liggat",
          "Phil Collinson",
          "Phil Collinson",
          "Phil Collinson",
          "Susie Liggat",
          "Phil Collinson",
          "Phil Collinson",
          "Tracie Simpson",
          "Peter Bennett",
          "Peter Bennett",
          "Tracie Simpson",
          "Tracie Simpson",
          "Patrick Schweitzer",
          "Tracie Simpson",
          "Peter Bennett",
          "Peter Bennett",
          "Patrick Schweitzer",
          "Tracie Simpson",
          "Peter Bennett",
          "Peter Bennett",
          "Sanne Wohlenberg",
          "Marcus Wilson",
          "Marcus Wilson",
          "Marcus Wilson",
          "Sanne Wohlenberg",
          "Marcus Wilson",
          "Marcus Wilson",
          "Marcus Wilson",
          "Marcus Wilson",
          "Sanne Wohlenberg",
          "Marcus Wilson",
          "Marcus Wilson",
          "0",
          "Marcus Wilson",
          "Marcus Wilson",
          "Marcus Wilson",
          "Marcus Wilson",
          "Marcus Wilson",
          "Marcus Wilson",
          "Marcus Wilson",
          "Marcus Wilson",
          "Denise Paul",
          "Denise Paul",
          "Marcus Wilson",
          "Marcus Wilson",
          "Marcus Wilson",
          "Marcus Wilson",
          "Denise Paul",
          "Denise Paul",
          "Nikki Wilson",
          "Nikki Wilson",
          "Nikki Wilson",
          "Peter Bennett",
          "Peter Bennett",
          "Nikki Wilson",
          "Peter Bennett",
          "Peter Bennett",
          "Nikki Wilson",
          "Paul Frift",
          "Peter Bennett",
          "Peter Bennett",
          "Peter Bennett",
          "Peter Bennett",
          "Derek Ritchie",
          "Derek Ritchie",
          "Derek Ritchie",
          "Derek Ritchie",
          "Peter Bennett",
          "Peter Bennett",
          "Nikki Wilson",
          "Nikki Wilson",
          "Peter Bennett",
          "Peter Bennett",
          "Nikki Wilson",
          "Peter Bennett",
          "Peter Bennett",
          "Peter Bennett",
          "Nikki Wilson",
          "Nikki Wilson",
          "Nikki Wilson",
          "Peter Bennett",
          "Peter Bennett",
          "Nikki Wilson",
          "Nikki Wilson",
          "Nicola Wilson",
          "Peter Bennett",
          "Peter Bennett",
          "Alex Mercer",
          "Nicola Wilson",
          "Alex Mercer",
          "Alex Mercer",
          "Alex Mercer",
          "Alex Mercer",
          "Alex Mercer",
          "Alex Mercer",
          "Alex Mercer",
          "Alex Mercer",
          "Alex Mercer"
         ],
         "y": [
          "Russell T Davies",
          "Russell T Davies",
          "Mark Gatiss",
          "Russell T Davies",
          "Russell T Davies",
          "Robert Shearman",
          "Russell T Davies",
          "Paul Cornell",
          "Steven Moffat",
          "Steven Moffat",
          "Russell T Davies",
          "Russell T Davies",
          "Russell T Davies",
          "Russell T Davies",
          "Russell T Davies",
          "Russell T Davies",
          "Toby Whithouse",
          "Steven Moffat",
          "Tom MacRae",
          "Tom MacRae",
          "Mark Gatiss",
          "Matt Jones",
          "Matt Jones",
          "Russell T Davies",
          "Matthew Graham",
          "Russell T Davies",
          "Russell T Davies",
          "Russell T Davies",
          "Russell T Davies",
          "Gareth Roberts",
          "Russell T Davies",
          "Helen Raynor",
          "Helen Raynor",
          "Stephen Greenhorn",
          "Chris Chibnall",
          "Paul Cornell",
          "Paul Cornell",
          "Steven Moffat",
          "Russell T Davies",
          "Russell T Davies",
          "Russell T Davies",
          "Russell T Davies",
          "Russell T Davies",
          "James Moran",
          "Keith Temple",
          "Helen Raynor",
          "Helen Raynor",
          "Stephen Greenhorn",
          "Gareth Roberts",
          "Steven Moffat",
          "Steven Moffat",
          "Russell T Davies",
          "Russell T Davies",
          "Russell T Davies",
          "Russell T Davies",
          "Steven Moffat",
          "Steven Moffat",
          "Mark Gatiss",
          "Steven Moffat",
          "Steven Moffat",
          "Toby Whithouse",
          "Simon Nye",
          "Chris Chibnall",
          "Chris Chibnall",
          "Richard Curtis",
          "Gareth Roberts",
          "Steven Moffat",
          "Steven Moffat",
          "Steven Moffat",
          "Steven Moffat",
          "Steven Moffat",
          "Steve Thompson",
          "Neil Gaiman",
          "Matthew Graham",
          "Matthew Graham",
          "Steven Moffat",
          "Steven Moffat",
          "Mark Gatiss",
          "Tom MacRae",
          "Toby Whithouse",
          "Gareth Roberts",
          "Steven Moffat",
          "Steven Moffat",
          "Steven Moffat",
          "Chris Chibnall",
          "Toby Whithouse",
          "Chris Chibnall",
          "Steven Moffat",
          "Steven Moffat",
          "Steven Moffat",
          "Neil Cross",
          "Mark Gatiss",
          "Neil Cross",
          "Steve Thompson",
          "Mark Gatiss",
          "Neil Gaiman",
          "Steven Moffat",
          "Steven Moffat",
          "Steven Moffat",
          "Mark Gatiss",
          "Steven Moffat",
          "Steven Moffat",
          "Steven Moffat",
          "Peter Harness",
          "Jamie Mathieson",
          "Jamie Mathieson",
          "Frank Cottrell-Boyce",
          "Steven Moffat",
          "Steven Moffat",
          "Steven Moffat",
          "Steven Moffat",
          "Toby Whithouse",
          "Toby Whithouse",
          "Steven Moffat",
          "Catherine Tregenna",
          "Peter Harness",
          "Steven Moffat",
          "Mark Gatiss",
          "Sarah Dollard",
          "Steven Moffat",
          "Steven Moffat",
          "Steven Moffat",
          "Steven Moffat",
          "Steven Moffat",
          "Frank Cottrell-Boyce",
          "Sarah Dollard",
          "Mike Bartlett",
          "Jamie Mathieson",
          "Steven Moffat",
          "Steven Moffat",
          "Toby Whithouse",
          "Mark Gatiss",
          "Rona Munro",
          "Steven Moffat",
          "Steven Moffat",
          "Chris Chibnall",
          "Chris Chibnall",
          "Chris Chibnall",
          "Chris Chibnall",
          "Chris Chibnall",
          "Vinay Patel",
          "Pete McTighe",
          "Joy Wilkinson",
          "Ed Hime",
          "Chris Chibnall",
          "Chris Chibnall"
         ],
         "z": [
          7.6,
          7.6,
          7.6,
          7,
          7.1,
          8.7,
          7.2,
          8.4,
          9.2,
          9.1,
          7.2,
          8.7,
          9.1,
          8.2,
          7.5,
          7.9,
          8.4,
          9.3,
          7.8,
          7.9,
          6.9,
          8.7,
          8.8,
          6.2,
          6.1,
          8.5,
          9.3,
          7.6,
          8,
          7.8,
          8.1,
          7,
          7,
          6.7,
          7.5,
          9,
          9.2,
          9.8,
          8.8,
          8.7,
          8.4,
          7.7,
          7.8,
          8.1,
          8.1,
          7.5,
          7.6,
          7.7,
          7.8,
          9.4,
          9.5,
          9,
          8.9,
          9.1,
          9.1,
          8.8,
          7.6,
          6.8,
          8.7,
          8.6,
          7.1,
          8.2,
          7.3,
          7.5,
          9.3,
          8.3,
          9.1,
          9.2,
          8.6,
          8.9,
          8.9,
          6.8,
          9,
          7.3,
          7.5,
          9.1,
          8.1,
          7.1,
          8.5,
          8.1,
          7.7,
          8.6,
          7.3,
          8.7,
          7.5,
          7.5,
          7.6,
          9,
          8.5,
          8,
          7.4,
          7.3,
          7.8,
          7.5,
          7.4,
          7.4,
          9.1,
          8,
          7.8,
          7.1,
          8.9,
          8,
          7.4,
          7,
          8.5,
          8.5,
          6.1,
          8.7,
          7.9,
          8.5,
          8.5,
          8.3,
          8.1,
          7.7,
          7.6,
          7.9,
          8.6,
          6,
          8.6,
          9.6,
          8.7,
          8.6,
          7.5,
          7.9,
          7.2,
          7.3,
          7.5,
          8.1,
          8.5,
          7.7,
          7.2,
          7.1,
          7,
          9.2,
          9,
          7.1,
          6.2,
          7.1,
          5.3,
          5.2,
          6.6,
          6.4,
          5.9,
          6.4,
          5.5,
          6
         ]
        }
       ],
       "layout": {
        "coloraxis": {
         "colorbar": {
          "title": {
           "text": "rating"
          }
         },
         "colorscale": [
          [
           0,
           "rgb(75, 41, 145)"
          ],
          [
           0.16666666666666666,
           "rgb(135, 44, 162)"
          ],
          [
           0.3333333333333333,
           "rgb(192, 54, 157)"
          ],
          [
           0.5,
           "rgb(234, 79, 136)"
          ],
          [
           0.6666666666666666,
           "rgb(250, 120, 118)"
          ],
          [
           0.8333333333333334,
           "rgb(246, 169, 122)"
          ],
          [
           1,
           "rgb(237, 217, 163)"
          ]
         ]
        },
        "height": 600,
        "legend": {
         "tracegroupgap": 0
        },
        "scene": {
         "domain": {
          "x": [
           0,
           1
          ],
          "y": [
           0,
           1
          ]
         },
         "xaxis": {
          "title": {
           "text": "Producer"
          }
         },
         "yaxis": {
          "title": {
           "text": "Writer"
          }
         },
         "zaxis": {
          "title": {
           "text": "rating"
          }
         }
        },
        "template": {
         "data": {
          "bar": [
           {
            "error_x": {
             "color": "#f2f5fa"
            },
            "error_y": {
             "color": "#f2f5fa"
            },
            "marker": {
             "line": {
              "color": "rgb(17,17,17)",
              "width": 0.5
             },
             "pattern": {
              "fillmode": "overlay",
              "size": 10,
              "solidity": 0.2
             }
            },
            "type": "bar"
           }
          ],
          "barpolar": [
           {
            "marker": {
             "line": {
              "color": "rgb(17,17,17)",
              "width": 0.5
             },
             "pattern": {
              "fillmode": "overlay",
              "size": 10,
              "solidity": 0.2
             }
            },
            "type": "barpolar"
           }
          ],
          "carpet": [
           {
            "aaxis": {
             "endlinecolor": "#A2B1C6",
             "gridcolor": "#506784",
             "linecolor": "#506784",
             "minorgridcolor": "#506784",
             "startlinecolor": "#A2B1C6"
            },
            "baxis": {
             "endlinecolor": "#A2B1C6",
             "gridcolor": "#506784",
             "linecolor": "#506784",
             "minorgridcolor": "#506784",
             "startlinecolor": "#A2B1C6"
            },
            "type": "carpet"
           }
          ],
          "choropleth": [
           {
            "colorbar": {
             "outlinewidth": 0,
             "ticks": ""
            },
            "type": "choropleth"
           }
          ],
          "contour": [
           {
            "colorbar": {
             "outlinewidth": 0,
             "ticks": ""
            },
            "colorscale": [
             [
              0,
              "#0d0887"
             ],
             [
              0.1111111111111111,
              "#46039f"
             ],
             [
              0.2222222222222222,
              "#7201a8"
             ],
             [
              0.3333333333333333,
              "#9c179e"
             ],
             [
              0.4444444444444444,
              "#bd3786"
             ],
             [
              0.5555555555555556,
              "#d8576b"
             ],
             [
              0.6666666666666666,
              "#ed7953"
             ],
             [
              0.7777777777777778,
              "#fb9f3a"
             ],
             [
              0.8888888888888888,
              "#fdca26"
             ],
             [
              1,
              "#f0f921"
             ]
            ],
            "type": "contour"
           }
          ],
          "contourcarpet": [
           {
            "colorbar": {
             "outlinewidth": 0,
             "ticks": ""
            },
            "type": "contourcarpet"
           }
          ],
          "heatmap": [
           {
            "colorbar": {
             "outlinewidth": 0,
             "ticks": ""
            },
            "colorscale": [
             [
              0,
              "#0d0887"
             ],
             [
              0.1111111111111111,
              "#46039f"
             ],
             [
              0.2222222222222222,
              "#7201a8"
             ],
             [
              0.3333333333333333,
              "#9c179e"
             ],
             [
              0.4444444444444444,
              "#bd3786"
             ],
             [
              0.5555555555555556,
              "#d8576b"
             ],
             [
              0.6666666666666666,
              "#ed7953"
             ],
             [
              0.7777777777777778,
              "#fb9f3a"
             ],
             [
              0.8888888888888888,
              "#fdca26"
             ],
             [
              1,
              "#f0f921"
             ]
            ],
            "type": "heatmap"
           }
          ],
          "heatmapgl": [
           {
            "colorbar": {
             "outlinewidth": 0,
             "ticks": ""
            },
            "colorscale": [
             [
              0,
              "#0d0887"
             ],
             [
              0.1111111111111111,
              "#46039f"
             ],
             [
              0.2222222222222222,
              "#7201a8"
             ],
             [
              0.3333333333333333,
              "#9c179e"
             ],
             [
              0.4444444444444444,
              "#bd3786"
             ],
             [
              0.5555555555555556,
              "#d8576b"
             ],
             [
              0.6666666666666666,
              "#ed7953"
             ],
             [
              0.7777777777777778,
              "#fb9f3a"
             ],
             [
              0.8888888888888888,
              "#fdca26"
             ],
             [
              1,
              "#f0f921"
             ]
            ],
            "type": "heatmapgl"
           }
          ],
          "histogram": [
           {
            "marker": {
             "pattern": {
              "fillmode": "overlay",
              "size": 10,
              "solidity": 0.2
             }
            },
            "type": "histogram"
           }
          ],
          "histogram2d": [
           {
            "colorbar": {
             "outlinewidth": 0,
             "ticks": ""
            },
            "colorscale": [
             [
              0,
              "#0d0887"
             ],
             [
              0.1111111111111111,
              "#46039f"
             ],
             [
              0.2222222222222222,
              "#7201a8"
             ],
             [
              0.3333333333333333,
              "#9c179e"
             ],
             [
              0.4444444444444444,
              "#bd3786"
             ],
             [
              0.5555555555555556,
              "#d8576b"
             ],
             [
              0.6666666666666666,
              "#ed7953"
             ],
             [
              0.7777777777777778,
              "#fb9f3a"
             ],
             [
              0.8888888888888888,
              "#fdca26"
             ],
             [
              1,
              "#f0f921"
             ]
            ],
            "type": "histogram2d"
           }
          ],
          "histogram2dcontour": [
           {
            "colorbar": {
             "outlinewidth": 0,
             "ticks": ""
            },
            "colorscale": [
             [
              0,
              "#0d0887"
             ],
             [
              0.1111111111111111,
              "#46039f"
             ],
             [
              0.2222222222222222,
              "#7201a8"
             ],
             [
              0.3333333333333333,
              "#9c179e"
             ],
             [
              0.4444444444444444,
              "#bd3786"
             ],
             [
              0.5555555555555556,
              "#d8576b"
             ],
             [
              0.6666666666666666,
              "#ed7953"
             ],
             [
              0.7777777777777778,
              "#fb9f3a"
             ],
             [
              0.8888888888888888,
              "#fdca26"
             ],
             [
              1,
              "#f0f921"
             ]
            ],
            "type": "histogram2dcontour"
           }
          ],
          "mesh3d": [
           {
            "colorbar": {
             "outlinewidth": 0,
             "ticks": ""
            },
            "type": "mesh3d"
           }
          ],
          "parcoords": [
           {
            "line": {
             "colorbar": {
              "outlinewidth": 0,
              "ticks": ""
             }
            },
            "type": "parcoords"
           }
          ],
          "pie": [
           {
            "automargin": true,
            "type": "pie"
           }
          ],
          "scatter": [
           {
            "marker": {
             "line": {
              "color": "#283442"
             }
            },
            "type": "scatter"
           }
          ],
          "scatter3d": [
           {
            "line": {
             "colorbar": {
              "outlinewidth": 0,
              "ticks": ""
             }
            },
            "marker": {
             "colorbar": {
              "outlinewidth": 0,
              "ticks": ""
             }
            },
            "type": "scatter3d"
           }
          ],
          "scattercarpet": [
           {
            "marker": {
             "colorbar": {
              "outlinewidth": 0,
              "ticks": ""
             }
            },
            "type": "scattercarpet"
           }
          ],
          "scattergeo": [
           {
            "marker": {
             "colorbar": {
              "outlinewidth": 0,
              "ticks": ""
             }
            },
            "type": "scattergeo"
           }
          ],
          "scattergl": [
           {
            "marker": {
             "line": {
              "color": "#283442"
             }
            },
            "type": "scattergl"
           }
          ],
          "scattermapbox": [
           {
            "marker": {
             "colorbar": {
              "outlinewidth": 0,
              "ticks": ""
             }
            },
            "type": "scattermapbox"
           }
          ],
          "scatterpolar": [
           {
            "marker": {
             "colorbar": {
              "outlinewidth": 0,
              "ticks": ""
             }
            },
            "type": "scatterpolar"
           }
          ],
          "scatterpolargl": [
           {
            "marker": {
             "colorbar": {
              "outlinewidth": 0,
              "ticks": ""
             }
            },
            "type": "scatterpolargl"
           }
          ],
          "scatterternary": [
           {
            "marker": {
             "colorbar": {
              "outlinewidth": 0,
              "ticks": ""
             }
            },
            "type": "scatterternary"
           }
          ],
          "surface": [
           {
            "colorbar": {
             "outlinewidth": 0,
             "ticks": ""
            },
            "colorscale": [
             [
              0,
              "#0d0887"
             ],
             [
              0.1111111111111111,
              "#46039f"
             ],
             [
              0.2222222222222222,
              "#7201a8"
             ],
             [
              0.3333333333333333,
              "#9c179e"
             ],
             [
              0.4444444444444444,
              "#bd3786"
             ],
             [
              0.5555555555555556,
              "#d8576b"
             ],
             [
              0.6666666666666666,
              "#ed7953"
             ],
             [
              0.7777777777777778,
              "#fb9f3a"
             ],
             [
              0.8888888888888888,
              "#fdca26"
             ],
             [
              1,
              "#f0f921"
             ]
            ],
            "type": "surface"
           }
          ],
          "table": [
           {
            "cells": {
             "fill": {
              "color": "#506784"
             },
             "line": {
              "color": "rgb(17,17,17)"
             }
            },
            "header": {
             "fill": {
              "color": "#2a3f5f"
             },
             "line": {
              "color": "rgb(17,17,17)"
             }
            },
            "type": "table"
           }
          ]
         },
         "layout": {
          "annotationdefaults": {
           "arrowcolor": "#f2f5fa",
           "arrowhead": 0,
           "arrowwidth": 1
          },
          "autotypenumbers": "strict",
          "coloraxis": {
           "colorbar": {
            "outlinewidth": 0,
            "ticks": ""
           }
          },
          "colorscale": {
           "diverging": [
            [
             0,
             "#8e0152"
            ],
            [
             0.1,
             "#c51b7d"
            ],
            [
             0.2,
             "#de77ae"
            ],
            [
             0.3,
             "#f1b6da"
            ],
            [
             0.4,
             "#fde0ef"
            ],
            [
             0.5,
             "#f7f7f7"
            ],
            [
             0.6,
             "#e6f5d0"
            ],
            [
             0.7,
             "#b8e186"
            ],
            [
             0.8,
             "#7fbc41"
            ],
            [
             0.9,
             "#4d9221"
            ],
            [
             1,
             "#276419"
            ]
           ],
           "sequential": [
            [
             0,
             "#0d0887"
            ],
            [
             0.1111111111111111,
             "#46039f"
            ],
            [
             0.2222222222222222,
             "#7201a8"
            ],
            [
             0.3333333333333333,
             "#9c179e"
            ],
            [
             0.4444444444444444,
             "#bd3786"
            ],
            [
             0.5555555555555556,
             "#d8576b"
            ],
            [
             0.6666666666666666,
             "#ed7953"
            ],
            [
             0.7777777777777778,
             "#fb9f3a"
            ],
            [
             0.8888888888888888,
             "#fdca26"
            ],
            [
             1,
             "#f0f921"
            ]
           ],
           "sequentialminus": [
            [
             0,
             "#0d0887"
            ],
            [
             0.1111111111111111,
             "#46039f"
            ],
            [
             0.2222222222222222,
             "#7201a8"
            ],
            [
             0.3333333333333333,
             "#9c179e"
            ],
            [
             0.4444444444444444,
             "#bd3786"
            ],
            [
             0.5555555555555556,
             "#d8576b"
            ],
            [
             0.6666666666666666,
             "#ed7953"
            ],
            [
             0.7777777777777778,
             "#fb9f3a"
            ],
            [
             0.8888888888888888,
             "#fdca26"
            ],
            [
             1,
             "#f0f921"
            ]
           ]
          },
          "colorway": [
           "#636efa",
           "#EF553B",
           "#00cc96",
           "#ab63fa",
           "#FFA15A",
           "#19d3f3",
           "#FF6692",
           "#B6E880",
           "#FF97FF",
           "#FECB52"
          ],
          "font": {
           "color": "#f2f5fa"
          },
          "geo": {
           "bgcolor": "rgb(17,17,17)",
           "lakecolor": "rgb(17,17,17)",
           "landcolor": "rgb(17,17,17)",
           "showlakes": true,
           "showland": true,
           "subunitcolor": "#506784"
          },
          "hoverlabel": {
           "align": "left"
          },
          "hovermode": "closest",
          "mapbox": {
           "style": "dark"
          },
          "paper_bgcolor": "rgb(17,17,17)",
          "plot_bgcolor": "rgb(17,17,17)",
          "polar": {
           "angularaxis": {
            "gridcolor": "#506784",
            "linecolor": "#506784",
            "ticks": ""
           },
           "bgcolor": "rgb(17,17,17)",
           "radialaxis": {
            "gridcolor": "#506784",
            "linecolor": "#506784",
            "ticks": ""
           }
          },
          "scene": {
           "xaxis": {
            "backgroundcolor": "rgb(17,17,17)",
            "gridcolor": "#506784",
            "gridwidth": 2,
            "linecolor": "#506784",
            "showbackground": true,
            "ticks": "",
            "zerolinecolor": "#C8D4E3"
           },
           "yaxis": {
            "backgroundcolor": "rgb(17,17,17)",
            "gridcolor": "#506784",
            "gridwidth": 2,
            "linecolor": "#506784",
            "showbackground": true,
            "ticks": "",
            "zerolinecolor": "#C8D4E3"
           },
           "zaxis": {
            "backgroundcolor": "rgb(17,17,17)",
            "gridcolor": "#506784",
            "gridwidth": 2,
            "linecolor": "#506784",
            "showbackground": true,
            "ticks": "",
            "zerolinecolor": "#C8D4E3"
           }
          },
          "shapedefaults": {
           "line": {
            "color": "#f2f5fa"
           }
          },
          "sliderdefaults": {
           "bgcolor": "#C8D4E3",
           "bordercolor": "rgb(17,17,17)",
           "borderwidth": 1,
           "tickwidth": 0
          },
          "ternary": {
           "aaxis": {
            "gridcolor": "#506784",
            "linecolor": "#506784",
            "ticks": ""
           },
           "baxis": {
            "gridcolor": "#506784",
            "linecolor": "#506784",
            "ticks": ""
           },
           "bgcolor": "rgb(17,17,17)",
           "caxis": {
            "gridcolor": "#506784",
            "linecolor": "#506784",
            "ticks": ""
           }
          },
          "title": {
           "x": 0.05
          },
          "updatemenudefaults": {
           "bgcolor": "#506784",
           "borderwidth": 0
          },
          "xaxis": {
           "automargin": true,
           "gridcolor": "#283442",
           "linecolor": "#506784",
           "ticks": "",
           "title": {
            "standoff": 15
           },
           "zerolinecolor": "#283442",
           "zerolinewidth": 2
          },
          "yaxis": {
           "automargin": true,
           "gridcolor": "#283442",
           "linecolor": "#506784",
           "ticks": "",
           "title": {
            "standoff": 15
           },
           "zerolinecolor": "#283442",
           "zerolinewidth": 2
          }
         }
        },
        "title": {
         "text": "Ratings by Season & Doctor"
        },
        "width": 800
       }
      }
     },
     "metadata": {},
     "output_type": "display_data"
    }
   ],
   "source": [
    "fig = px.scatter_3d(df, \n",
    "    x='Producer', \n",
    "    y='Writer',\n",
    "    z='rating',\n",
    "    color='rating', \n",
    "    title='Ratings by Season & Doctor',\n",
    "    color_continuous_scale=theme_sequential)\n",
    "\n",
    "format_and_show_3d(fig)"
   ]
  },
  {
   "cell_type": "code",
   "execution_count": 74,
   "metadata": {},
   "outputs": [
    {
     "data": {
      "application/vnd.plotly.v1+json": {
       "config": {
        "plotlyServerURL": "https://plot.ly"
       },
       "data": [
        {
         "alignmentgroup": "True",
         "boxpoints": "all",
         "hovertemplate": "Writer=%{y}<br>rating=%{x}<extra></extra>",
         "jitter": 1,
         "legendgroup": "Chris Chibnall",
         "marker": {
          "color": "rgb(95, 70, 144)"
         },
         "name": "Chris Chibnall",
         "notched": false,
         "offsetgroup": "Chris Chibnall",
         "orientation": "h",
         "quartilemethod": "linear",
         "showlegend": false,
         "type": "box",
         "x": [
          5.2,
          5.3,
          5.5,
          6,
          6.2,
          7.1,
          7.1,
          7.3,
          7.5,
          7.5,
          7.5,
          7.6
         ],
         "x0": " ",
         "xaxis": "x",
         "y": [
          "Chris Chibnall",
          "Chris Chibnall",
          "Chris Chibnall",
          "Chris Chibnall",
          "Chris Chibnall",
          "Chris Chibnall",
          "Chris Chibnall",
          "Chris Chibnall",
          "Chris Chibnall",
          "Chris Chibnall",
          "Chris Chibnall",
          "Chris Chibnall"
         ],
         "y0": " ",
         "yaxis": "y"
        },
        {
         "alignmentgroup": "True",
         "boxpoints": "all",
         "hovertemplate": "Writer=%{y}<br>rating=%{x}<extra></extra>",
         "jitter": 1,
         "legendgroup": "Joy Wilkinson",
         "marker": {
          "color": "rgb(29, 105, 150)"
         },
         "name": "Joy Wilkinson",
         "notched": false,
         "offsetgroup": "Joy Wilkinson",
         "orientation": "h",
         "quartilemethod": "linear",
         "showlegend": false,
         "type": "box",
         "x": [
          5.9
         ],
         "x0": " ",
         "xaxis": "x",
         "y": [
          "Joy Wilkinson"
         ],
         "y0": " ",
         "yaxis": "y"
        },
        {
         "alignmentgroup": "True",
         "boxpoints": "all",
         "hovertemplate": "Writer=%{y}<br>rating=%{x}<extra></extra>",
         "jitter": 1,
         "legendgroup": "Mark Gatiss",
         "marker": {
          "color": "rgb(56, 166, 165)"
         },
         "name": "Mark Gatiss",
         "notched": false,
         "offsetgroup": "Mark Gatiss",
         "orientation": "h",
         "quartilemethod": "linear",
         "showlegend": false,
         "type": "box",
         "x": [
          6,
          6.8,
          6.9,
          7.1,
          7.1,
          7.1,
          7.3,
          7.4,
          7.6
         ],
         "x0": " ",
         "xaxis": "x",
         "y": [
          "Mark Gatiss",
          "Mark Gatiss",
          "Mark Gatiss",
          "Mark Gatiss",
          "Mark Gatiss",
          "Mark Gatiss",
          "Mark Gatiss",
          "Mark Gatiss",
          "Mark Gatiss"
         ],
         "y0": " ",
         "yaxis": "y"
        },
        {
         "alignmentgroup": "True",
         "boxpoints": "all",
         "hovertemplate": "Writer=%{y}<br>rating=%{x}<extra></extra>",
         "jitter": 1,
         "legendgroup": "Frank Cottrell-Boyce",
         "marker": {
          "color": "rgb(15, 133, 84)"
         },
         "name": "Frank Cottrell-Boyce",
         "notched": false,
         "offsetgroup": "Frank Cottrell-Boyce",
         "orientation": "h",
         "quartilemethod": "linear",
         "showlegend": false,
         "type": "box",
         "x": [
          6.1,
          7.2
         ],
         "x0": " ",
         "xaxis": "x",
         "y": [
          "Frank Cottrell-Boyce",
          "Frank Cottrell-Boyce"
         ],
         "y0": " ",
         "yaxis": "y"
        },
        {
         "alignmentgroup": "True",
         "boxpoints": "all",
         "hovertemplate": "Writer=%{y}<br>rating=%{x}<extra></extra>",
         "jitter": 1,
         "legendgroup": "Matthew Graham",
         "marker": {
          "color": "rgb(115, 175, 72)"
         },
         "name": "Matthew Graham",
         "notched": false,
         "offsetgroup": "Matthew Graham",
         "orientation": "h",
         "quartilemethod": "linear",
         "showlegend": false,
         "type": "box",
         "x": [
          6.1,
          7.3,
          7.5
         ],
         "x0": " ",
         "xaxis": "x",
         "y": [
          "Matthew Graham",
          "Matthew Graham",
          "Matthew Graham"
         ],
         "y0": " ",
         "yaxis": "y"
        },
        {
         "alignmentgroup": "True",
         "boxpoints": "all",
         "hovertemplate": "Writer=%{y}<br>rating=%{x}<extra></extra>",
         "jitter": 1,
         "legendgroup": "Russell T Davies",
         "marker": {
          "color": "rgb(237, 173, 8)"
         },
         "name": "Russell T Davies",
         "notched": false,
         "offsetgroup": "Russell T Davies",
         "orientation": "h",
         "quartilemethod": "linear",
         "showlegend": false,
         "type": "box",
         "x": [
          6.2,
          7,
          7.1,
          7.2,
          7.2,
          7.5,
          7.6,
          7.6,
          7.6,
          7.7,
          7.8,
          7.9,
          8,
          8.1,
          8.2,
          8.4,
          8.5,
          8.7,
          8.7,
          8.8,
          8.9,
          9,
          9.1,
          9.1,
          9.1,
          9.3
         ],
         "x0": " ",
         "xaxis": "x",
         "y": [
          "Russell T Davies",
          "Russell T Davies",
          "Russell T Davies",
          "Russell T Davies",
          "Russell T Davies",
          "Russell T Davies",
          "Russell T Davies",
          "Russell T Davies",
          "Russell T Davies",
          "Russell T Davies",
          "Russell T Davies",
          "Russell T Davies",
          "Russell T Davies",
          "Russell T Davies",
          "Russell T Davies",
          "Russell T Davies",
          "Russell T Davies",
          "Russell T Davies",
          "Russell T Davies",
          "Russell T Davies",
          "Russell T Davies",
          "Russell T Davies",
          "Russell T Davies",
          "Russell T Davies",
          "Russell T Davies",
          "Russell T Davies"
         ],
         "y0": " ",
         "yaxis": "y"
        },
        {
         "alignmentgroup": "True",
         "boxpoints": "all",
         "hovertemplate": "Writer=%{y}<br>rating=%{x}<extra></extra>",
         "jitter": 1,
         "legendgroup": "Ed Hime",
         "marker": {
          "color": "rgb(225, 124, 5)"
         },
         "name": "Ed Hime",
         "notched": false,
         "offsetgroup": "Ed Hime",
         "orientation": "h",
         "quartilemethod": "linear",
         "showlegend": false,
         "type": "box",
         "x": [
          6.4
         ],
         "x0": " ",
         "xaxis": "x",
         "y": [
          "Ed Hime"
         ],
         "y0": " ",
         "yaxis": "y"
        },
        {
         "alignmentgroup": "True",
         "boxpoints": "all",
         "hovertemplate": "Writer=%{y}<br>rating=%{x}<extra></extra>",
         "jitter": 1,
         "legendgroup": "Pete McTighe",
         "marker": {
          "color": "rgb(204, 80, 62)"
         },
         "name": "Pete McTighe",
         "notched": false,
         "offsetgroup": "Pete McTighe",
         "orientation": "h",
         "quartilemethod": "linear",
         "showlegend": false,
         "type": "box",
         "x": [
          6.4
         ],
         "x0": " ",
         "xaxis": "x",
         "y": [
          "Pete McTighe"
         ],
         "y0": " ",
         "yaxis": "y"
        },
        {
         "alignmentgroup": "True",
         "boxpoints": "all",
         "hovertemplate": "Writer=%{y}<br>rating=%{x}<extra></extra>",
         "jitter": 1,
         "legendgroup": "Vinay Patel",
         "marker": {
          "color": "rgb(148, 52, 110)"
         },
         "name": "Vinay Patel",
         "notched": false,
         "offsetgroup": "Vinay Patel",
         "orientation": "h",
         "quartilemethod": "linear",
         "showlegend": false,
         "type": "box",
         "x": [
          6.6
         ],
         "x0": " ",
         "xaxis": "x",
         "y": [
          "Vinay Patel"
         ],
         "y0": " ",
         "yaxis": "y"
        },
        {
         "alignmentgroup": "True",
         "boxpoints": "all",
         "hovertemplate": "Writer=%{y}<br>rating=%{x}<extra></extra>",
         "jitter": 1,
         "legendgroup": "Stephen Greenhorn",
         "marker": {
          "color": "rgb(111, 64, 112)"
         },
         "name": "Stephen Greenhorn",
         "notched": false,
         "offsetgroup": "Stephen Greenhorn",
         "orientation": "h",
         "quartilemethod": "linear",
         "showlegend": false,
         "type": "box",
         "x": [
          6.7,
          7.7
         ],
         "x0": " ",
         "xaxis": "x",
         "y": [
          "Stephen Greenhorn",
          "Stephen Greenhorn"
         ],
         "y0": " ",
         "yaxis": "y"
        },
        {
         "alignmentgroup": "True",
         "boxpoints": "all",
         "hovertemplate": "Writer=%{y}<br>rating=%{x}<extra></extra>",
         "jitter": 1,
         "legendgroup": "Steve Thompson",
         "marker": {
          "color": "rgb(102, 102, 102)"
         },
         "name": "Steve Thompson",
         "notched": false,
         "offsetgroup": "Steve Thompson",
         "orientation": "h",
         "quartilemethod": "linear",
         "showlegend": false,
         "type": "box",
         "x": [
          6.8,
          7.5
         ],
         "x0": " ",
         "xaxis": "x",
         "y": [
          "Steve Thompson",
          "Steve Thompson"
         ],
         "y0": " ",
         "yaxis": "y"
        },
        {
         "alignmentgroup": "True",
         "boxpoints": "all",
         "hovertemplate": "Writer=%{y}<br>rating=%{x}<extra></extra>",
         "jitter": 1,
         "legendgroup": "Helen Raynor",
         "marker": {
          "color": "rgb(95, 70, 144)"
         },
         "name": "Helen Raynor",
         "notched": false,
         "offsetgroup": "Helen Raynor",
         "orientation": "h",
         "quartilemethod": "linear",
         "showlegend": false,
         "type": "box",
         "x": [
          7,
          7,
          7.5,
          7.6
         ],
         "x0": " ",
         "xaxis": "x",
         "y": [
          "Helen Raynor",
          "Helen Raynor",
          "Helen Raynor",
          "Helen Raynor"
         ],
         "y0": " ",
         "yaxis": "y"
        },
        {
         "alignmentgroup": "True",
         "boxpoints": "all",
         "hovertemplate": "Writer=%{y}<br>rating=%{x}<extra></extra>",
         "jitter": 1,
         "legendgroup": "Peter Harness",
         "marker": {
          "color": "rgb(29, 105, 150)"
         },
         "name": "Peter Harness",
         "notched": false,
         "offsetgroup": "Peter Harness",
         "orientation": "h",
         "quartilemethod": "linear",
         "showlegend": false,
         "type": "box",
         "x": [
          7,
          7.9
         ],
         "x0": " ",
         "xaxis": "x",
         "y": [
          "Peter Harness",
          "Peter Harness"
         ],
         "y0": " ",
         "yaxis": "y"
        },
        {
         "alignmentgroup": "True",
         "boxpoints": "all",
         "hovertemplate": "Writer=%{y}<br>rating=%{x}<extra></extra>",
         "jitter": 1,
         "legendgroup": "Rona Munro",
         "marker": {
          "color": "rgb(56, 166, 165)"
         },
         "name": "Rona Munro",
         "notched": false,
         "offsetgroup": "Rona Munro",
         "orientation": "h",
         "quartilemethod": "linear",
         "showlegend": false,
         "type": "box",
         "x": [
          7
         ],
         "x0": " ",
         "xaxis": "x",
         "y": [
          "Rona Munro"
         ],
         "y0": " ",
         "yaxis": "y"
        },
        {
         "alignmentgroup": "True",
         "boxpoints": "all",
         "hovertemplate": "Writer=%{y}<br>rating=%{x}<extra></extra>",
         "jitter": 1,
         "legendgroup": "Toby Whithouse",
         "marker": {
          "color": "rgb(15, 133, 84)"
         },
         "name": "Toby Whithouse",
         "notched": false,
         "offsetgroup": "Toby Whithouse",
         "orientation": "h",
         "quartilemethod": "linear",
         "showlegend": false,
         "type": "box",
         "x": [
          7.1,
          7.2,
          7.5,
          8.1,
          8.1,
          8.3,
          8.4
         ],
         "x0": " ",
         "xaxis": "x",
         "y": [
          "Toby Whithouse",
          "Toby Whithouse",
          "Toby Whithouse",
          "Toby Whithouse",
          "Toby Whithouse",
          "Toby Whithouse",
          "Toby Whithouse"
         ],
         "y0": " ",
         "yaxis": "y"
        },
        {
         "alignmentgroup": "True",
         "boxpoints": "all",
         "hovertemplate": "Writer=%{y}<br>rating=%{x}<extra></extra>",
         "jitter": 1,
         "legendgroup": "Sarah Dollard",
         "marker": {
          "color": "rgb(115, 175, 72)"
         },
         "name": "Sarah Dollard",
         "notched": false,
         "offsetgroup": "Sarah Dollard",
         "orientation": "h",
         "quartilemethod": "linear",
         "showlegend": false,
         "type": "box",
         "x": [
          7.3,
          8.6
         ],
         "x0": " ",
         "xaxis": "x",
         "y": [
          "Sarah Dollard",
          "Sarah Dollard"
         ],
         "y0": " ",
         "yaxis": "y"
        },
        {
         "alignmentgroup": "True",
         "boxpoints": "all",
         "hovertemplate": "Writer=%{y}<br>rating=%{x}<extra></extra>",
         "jitter": 1,
         "legendgroup": "Steven Moffat",
         "marker": {
          "color": "rgb(237, 173, 8)"
         },
         "name": "Steven Moffat",
         "notched": false,
         "offsetgroup": "Steven Moffat",
         "orientation": "h",
         "quartilemethod": "linear",
         "showlegend": false,
         "type": "box",
         "x": [
          7.3,
          7.4,
          7.5,
          7.6,
          7.7,
          7.7,
          7.8,
          7.9,
          7.9,
          8,
          8,
          8,
          8.1,
          8.5,
          8.5,
          8.5,
          8.5,
          8.6,
          8.6,
          8.6,
          8.6,
          8.6,
          8.7,
          8.7,
          8.7,
          8.7,
          8.8,
          8.9,
          8.9,
          8.9,
          9,
          9,
          9.1,
          9.1,
          9.1,
          9.1,
          9.2,
          9.2,
          9.2,
          9.3,
          9.4,
          9.5,
          9.6,
          9.8
         ],
         "x0": " ",
         "xaxis": "x",
         "y": [
          "Steven Moffat",
          "Steven Moffat",
          "Steven Moffat",
          "Steven Moffat",
          "Steven Moffat",
          "Steven Moffat",
          "Steven Moffat",
          "Steven Moffat",
          "Steven Moffat",
          "Steven Moffat",
          "Steven Moffat",
          "Steven Moffat",
          "Steven Moffat",
          "Steven Moffat",
          "Steven Moffat",
          "Steven Moffat",
          "Steven Moffat",
          "Steven Moffat",
          "Steven Moffat",
          "Steven Moffat",
          "Steven Moffat",
          "Steven Moffat",
          "Steven Moffat",
          "Steven Moffat",
          "Steven Moffat",
          "Steven Moffat",
          "Steven Moffat",
          "Steven Moffat",
          "Steven Moffat",
          "Steven Moffat",
          "Steven Moffat",
          "Steven Moffat",
          "Steven Moffat",
          "Steven Moffat",
          "Steven Moffat",
          "Steven Moffat",
          "Steven Moffat",
          "Steven Moffat",
          "Steven Moffat",
          "Steven Moffat",
          "Steven Moffat",
          "Steven Moffat",
          "Steven Moffat",
          "Steven Moffat"
         ],
         "y0": " ",
         "yaxis": "y"
        },
        {
         "alignmentgroup": "True",
         "boxpoints": "all",
         "hovertemplate": "Writer=%{y}<br>rating=%{x}<extra></extra>",
         "jitter": 1,
         "legendgroup": "Neil Cross",
         "marker": {
          "color": "rgb(225, 124, 5)"
         },
         "name": "Neil Cross",
         "notched": false,
         "offsetgroup": "Neil Cross",
         "orientation": "h",
         "quartilemethod": "linear",
         "showlegend": false,
         "type": "box",
         "x": [
          7.4,
          7.8
         ],
         "x0": " ",
         "xaxis": "x",
         "y": [
          "Neil Cross",
          "Neil Cross"
         ],
         "y0": " ",
         "yaxis": "y"
        },
        {
         "alignmentgroup": "True",
         "boxpoints": "all",
         "hovertemplate": "Writer=%{y}<br>rating=%{x}<extra></extra>",
         "jitter": 1,
         "legendgroup": "Neil Gaiman",
         "marker": {
          "color": "rgb(204, 80, 62)"
         },
         "name": "Neil Gaiman",
         "notched": false,
         "offsetgroup": "Neil Gaiman",
         "orientation": "h",
         "quartilemethod": "linear",
         "showlegend": false,
         "type": "box",
         "x": [
          7.4,
          9
         ],
         "x0": " ",
         "xaxis": "x",
         "y": [
          "Neil Gaiman",
          "Neil Gaiman"
         ],
         "y0": " ",
         "yaxis": "y"
        },
        {
         "alignmentgroup": "True",
         "boxpoints": "all",
         "hovertemplate": "Writer=%{y}<br>rating=%{x}<extra></extra>",
         "jitter": 1,
         "legendgroup": "Mike Bartlett",
         "marker": {
          "color": "rgb(148, 52, 110)"
         },
         "name": "Mike Bartlett",
         "notched": false,
         "offsetgroup": "Mike Bartlett",
         "orientation": "h",
         "quartilemethod": "linear",
         "showlegend": false,
         "type": "box",
         "x": [
          7.5
         ],
         "x0": " ",
         "xaxis": "x",
         "y": [
          "Mike Bartlett"
         ],
         "y0": " ",
         "yaxis": "y"
        },
        {
         "alignmentgroup": "True",
         "boxpoints": "all",
         "hovertemplate": "Writer=%{y}<br>rating=%{x}<extra></extra>",
         "jitter": 1,
         "legendgroup": "Catherine Tregenna",
         "marker": {
          "color": "rgb(111, 64, 112)"
         },
         "name": "Catherine Tregenna",
         "notched": false,
         "offsetgroup": "Catherine Tregenna",
         "orientation": "h",
         "quartilemethod": "linear",
         "showlegend": false,
         "type": "box",
         "x": [
          7.6
         ],
         "x0": " ",
         "xaxis": "x",
         "y": [
          "Catherine Tregenna"
         ],
         "y0": " ",
         "yaxis": "y"
        },
        {
         "alignmentgroup": "True",
         "boxpoints": "all",
         "hovertemplate": "Writer=%{y}<br>rating=%{x}<extra></extra>",
         "jitter": 1,
         "legendgroup": "Gareth Roberts",
         "marker": {
          "color": "rgb(102, 102, 102)"
         },
         "name": "Gareth Roberts",
         "notched": false,
         "offsetgroup": "Gareth Roberts",
         "orientation": "h",
         "quartilemethod": "linear",
         "showlegend": false,
         "type": "box",
         "x": [
          7.7,
          7.8,
          7.8,
          8.3
         ],
         "x0": " ",
         "xaxis": "x",
         "y": [
          "Gareth Roberts",
          "Gareth Roberts",
          "Gareth Roberts",
          "Gareth Roberts"
         ],
         "y0": " ",
         "yaxis": "y"
        },
        {
         "alignmentgroup": "True",
         "boxpoints": "all",
         "hovertemplate": "Writer=%{y}<br>rating=%{x}<extra></extra>",
         "jitter": 1,
         "legendgroup": "Tom MacRae",
         "marker": {
          "color": "rgb(95, 70, 144)"
         },
         "name": "Tom MacRae",
         "notched": false,
         "offsetgroup": "Tom MacRae",
         "orientation": "h",
         "quartilemethod": "linear",
         "showlegend": false,
         "type": "box",
         "x": [
          7.8,
          7.9,
          8.5
         ],
         "x0": " ",
         "xaxis": "x",
         "y": [
          "Tom MacRae",
          "Tom MacRae",
          "Tom MacRae"
         ],
         "y0": " ",
         "yaxis": "y"
        },
        {
         "alignmentgroup": "True",
         "boxpoints": "all",
         "hovertemplate": "Writer=%{y}<br>rating=%{x}<extra></extra>",
         "jitter": 1,
         "legendgroup": "James Moran",
         "marker": {
          "color": "rgb(29, 105, 150)"
         },
         "name": "James Moran",
         "notched": false,
         "offsetgroup": "James Moran",
         "orientation": "h",
         "quartilemethod": "linear",
         "showlegend": false,
         "type": "box",
         "x": [
          8.1
         ],
         "x0": " ",
         "xaxis": "x",
         "y": [
          "James Moran"
         ],
         "y0": " ",
         "yaxis": "y"
        },
        {
         "alignmentgroup": "True",
         "boxpoints": "all",
         "hovertemplate": "Writer=%{y}<br>rating=%{x}<extra></extra>",
         "jitter": 1,
         "legendgroup": "Jamie Mathieson",
         "marker": {
          "color": "rgb(56, 166, 165)"
         },
         "name": "Jamie Mathieson",
         "notched": false,
         "offsetgroup": "Jamie Mathieson",
         "orientation": "h",
         "quartilemethod": "linear",
         "showlegend": false,
         "type": "box",
         "x": [
          8.1,
          8.5,
          8.5
         ],
         "x0": " ",
         "xaxis": "x",
         "y": [
          "Jamie Mathieson",
          "Jamie Mathieson",
          "Jamie Mathieson"
         ],
         "y0": " ",
         "yaxis": "y"
        },
        {
         "alignmentgroup": "True",
         "boxpoints": "all",
         "hovertemplate": "Writer=%{y}<br>rating=%{x}<extra></extra>",
         "jitter": 1,
         "legendgroup": "Keith Temple",
         "marker": {
          "color": "rgb(15, 133, 84)"
         },
         "name": "Keith Temple",
         "notched": false,
         "offsetgroup": "Keith Temple",
         "orientation": "h",
         "quartilemethod": "linear",
         "showlegend": false,
         "type": "box",
         "x": [
          8.1
         ],
         "x0": " ",
         "xaxis": "x",
         "y": [
          "Keith Temple"
         ],
         "y0": " ",
         "yaxis": "y"
        },
        {
         "alignmentgroup": "True",
         "boxpoints": "all",
         "hovertemplate": "Writer=%{y}<br>rating=%{x}<extra></extra>",
         "jitter": 1,
         "legendgroup": "Simon Nye",
         "marker": {
          "color": "rgb(115, 175, 72)"
         },
         "name": "Simon Nye",
         "notched": false,
         "offsetgroup": "Simon Nye",
         "orientation": "h",
         "quartilemethod": "linear",
         "showlegend": false,
         "type": "box",
         "x": [
          8.2
         ],
         "x0": " ",
         "xaxis": "x",
         "y": [
          "Simon Nye"
         ],
         "y0": " ",
         "yaxis": "y"
        },
        {
         "alignmentgroup": "True",
         "boxpoints": "all",
         "hovertemplate": "Writer=%{y}<br>rating=%{x}<extra></extra>",
         "jitter": 1,
         "legendgroup": "Paul Cornell",
         "marker": {
          "color": "rgb(237, 173, 8)"
         },
         "name": "Paul Cornell",
         "notched": false,
         "offsetgroup": "Paul Cornell",
         "orientation": "h",
         "quartilemethod": "linear",
         "showlegend": false,
         "type": "box",
         "x": [
          8.4,
          9,
          9.2
         ],
         "x0": " ",
         "xaxis": "x",
         "y": [
          "Paul Cornell",
          "Paul Cornell",
          "Paul Cornell"
         ],
         "y0": " ",
         "yaxis": "y"
        },
        {
         "alignmentgroup": "True",
         "boxpoints": "all",
         "hovertemplate": "Writer=%{y}<br>rating=%{x}<extra></extra>",
         "jitter": 1,
         "legendgroup": "Matt Jones",
         "marker": {
          "color": "rgb(225, 124, 5)"
         },
         "name": "Matt Jones",
         "notched": false,
         "offsetgroup": "Matt Jones",
         "orientation": "h",
         "quartilemethod": "linear",
         "showlegend": false,
         "type": "box",
         "x": [
          8.7,
          8.8
         ],
         "x0": " ",
         "xaxis": "x",
         "y": [
          "Matt Jones",
          "Matt Jones"
         ],
         "y0": " ",
         "yaxis": "y"
        },
        {
         "alignmentgroup": "True",
         "boxpoints": "all",
         "hovertemplate": "Writer=%{y}<br>rating=%{x}<extra></extra>",
         "jitter": 1,
         "legendgroup": "Robert Shearman",
         "marker": {
          "color": "rgb(204, 80, 62)"
         },
         "name": "Robert Shearman",
         "notched": false,
         "offsetgroup": "Robert Shearman",
         "orientation": "h",
         "quartilemethod": "linear",
         "showlegend": false,
         "type": "box",
         "x": [
          8.7
         ],
         "x0": " ",
         "xaxis": "x",
         "y": [
          "Robert Shearman"
         ],
         "y0": " ",
         "yaxis": "y"
        },
        {
         "alignmentgroup": "True",
         "boxpoints": "all",
         "hovertemplate": "Writer=%{y}<br>rating=%{x}<extra></extra>",
         "jitter": 1,
         "legendgroup": "Richard Curtis",
         "marker": {
          "color": "rgb(148, 52, 110)"
         },
         "name": "Richard Curtis",
         "notched": false,
         "offsetgroup": "Richard Curtis",
         "orientation": "h",
         "quartilemethod": "linear",
         "showlegend": false,
         "type": "box",
         "x": [
          9.3
         ],
         "x0": " ",
         "xaxis": "x",
         "y": [
          "Richard Curtis"
         ],
         "y0": " ",
         "yaxis": "y"
        }
       ],
       "layout": {
        "boxmode": "overlay",
        "height": 800,
        "legend": {
         "title": {
          "text": "Writer"
         },
         "tracegroupgap": 0
        },
        "template": {
         "data": {
          "bar": [
           {
            "error_x": {
             "color": "#f2f5fa"
            },
            "error_y": {
             "color": "#f2f5fa"
            },
            "marker": {
             "line": {
              "color": "rgb(17,17,17)",
              "width": 0.5
             },
             "pattern": {
              "fillmode": "overlay",
              "size": 10,
              "solidity": 0.2
             }
            },
            "type": "bar"
           }
          ],
          "barpolar": [
           {
            "marker": {
             "line": {
              "color": "rgb(17,17,17)",
              "width": 0.5
             },
             "pattern": {
              "fillmode": "overlay",
              "size": 10,
              "solidity": 0.2
             }
            },
            "type": "barpolar"
           }
          ],
          "carpet": [
           {
            "aaxis": {
             "endlinecolor": "#A2B1C6",
             "gridcolor": "#506784",
             "linecolor": "#506784",
             "minorgridcolor": "#506784",
             "startlinecolor": "#A2B1C6"
            },
            "baxis": {
             "endlinecolor": "#A2B1C6",
             "gridcolor": "#506784",
             "linecolor": "#506784",
             "minorgridcolor": "#506784",
             "startlinecolor": "#A2B1C6"
            },
            "type": "carpet"
           }
          ],
          "choropleth": [
           {
            "colorbar": {
             "outlinewidth": 0,
             "ticks": ""
            },
            "type": "choropleth"
           }
          ],
          "contour": [
           {
            "colorbar": {
             "outlinewidth": 0,
             "ticks": ""
            },
            "colorscale": [
             [
              0,
              "#0d0887"
             ],
             [
              0.1111111111111111,
              "#46039f"
             ],
             [
              0.2222222222222222,
              "#7201a8"
             ],
             [
              0.3333333333333333,
              "#9c179e"
             ],
             [
              0.4444444444444444,
              "#bd3786"
             ],
             [
              0.5555555555555556,
              "#d8576b"
             ],
             [
              0.6666666666666666,
              "#ed7953"
             ],
             [
              0.7777777777777778,
              "#fb9f3a"
             ],
             [
              0.8888888888888888,
              "#fdca26"
             ],
             [
              1,
              "#f0f921"
             ]
            ],
            "type": "contour"
           }
          ],
          "contourcarpet": [
           {
            "colorbar": {
             "outlinewidth": 0,
             "ticks": ""
            },
            "type": "contourcarpet"
           }
          ],
          "heatmap": [
           {
            "colorbar": {
             "outlinewidth": 0,
             "ticks": ""
            },
            "colorscale": [
             [
              0,
              "#0d0887"
             ],
             [
              0.1111111111111111,
              "#46039f"
             ],
             [
              0.2222222222222222,
              "#7201a8"
             ],
             [
              0.3333333333333333,
              "#9c179e"
             ],
             [
              0.4444444444444444,
              "#bd3786"
             ],
             [
              0.5555555555555556,
              "#d8576b"
             ],
             [
              0.6666666666666666,
              "#ed7953"
             ],
             [
              0.7777777777777778,
              "#fb9f3a"
             ],
             [
              0.8888888888888888,
              "#fdca26"
             ],
             [
              1,
              "#f0f921"
             ]
            ],
            "type": "heatmap"
           }
          ],
          "heatmapgl": [
           {
            "colorbar": {
             "outlinewidth": 0,
             "ticks": ""
            },
            "colorscale": [
             [
              0,
              "#0d0887"
             ],
             [
              0.1111111111111111,
              "#46039f"
             ],
             [
              0.2222222222222222,
              "#7201a8"
             ],
             [
              0.3333333333333333,
              "#9c179e"
             ],
             [
              0.4444444444444444,
              "#bd3786"
             ],
             [
              0.5555555555555556,
              "#d8576b"
             ],
             [
              0.6666666666666666,
              "#ed7953"
             ],
             [
              0.7777777777777778,
              "#fb9f3a"
             ],
             [
              0.8888888888888888,
              "#fdca26"
             ],
             [
              1,
              "#f0f921"
             ]
            ],
            "type": "heatmapgl"
           }
          ],
          "histogram": [
           {
            "marker": {
             "pattern": {
              "fillmode": "overlay",
              "size": 10,
              "solidity": 0.2
             }
            },
            "type": "histogram"
           }
          ],
          "histogram2d": [
           {
            "colorbar": {
             "outlinewidth": 0,
             "ticks": ""
            },
            "colorscale": [
             [
              0,
              "#0d0887"
             ],
             [
              0.1111111111111111,
              "#46039f"
             ],
             [
              0.2222222222222222,
              "#7201a8"
             ],
             [
              0.3333333333333333,
              "#9c179e"
             ],
             [
              0.4444444444444444,
              "#bd3786"
             ],
             [
              0.5555555555555556,
              "#d8576b"
             ],
             [
              0.6666666666666666,
              "#ed7953"
             ],
             [
              0.7777777777777778,
              "#fb9f3a"
             ],
             [
              0.8888888888888888,
              "#fdca26"
             ],
             [
              1,
              "#f0f921"
             ]
            ],
            "type": "histogram2d"
           }
          ],
          "histogram2dcontour": [
           {
            "colorbar": {
             "outlinewidth": 0,
             "ticks": ""
            },
            "colorscale": [
             [
              0,
              "#0d0887"
             ],
             [
              0.1111111111111111,
              "#46039f"
             ],
             [
              0.2222222222222222,
              "#7201a8"
             ],
             [
              0.3333333333333333,
              "#9c179e"
             ],
             [
              0.4444444444444444,
              "#bd3786"
             ],
             [
              0.5555555555555556,
              "#d8576b"
             ],
             [
              0.6666666666666666,
              "#ed7953"
             ],
             [
              0.7777777777777778,
              "#fb9f3a"
             ],
             [
              0.8888888888888888,
              "#fdca26"
             ],
             [
              1,
              "#f0f921"
             ]
            ],
            "type": "histogram2dcontour"
           }
          ],
          "mesh3d": [
           {
            "colorbar": {
             "outlinewidth": 0,
             "ticks": ""
            },
            "type": "mesh3d"
           }
          ],
          "parcoords": [
           {
            "line": {
             "colorbar": {
              "outlinewidth": 0,
              "ticks": ""
             }
            },
            "type": "parcoords"
           }
          ],
          "pie": [
           {
            "automargin": true,
            "type": "pie"
           }
          ],
          "scatter": [
           {
            "marker": {
             "line": {
              "color": "#283442"
             }
            },
            "type": "scatter"
           }
          ],
          "scatter3d": [
           {
            "line": {
             "colorbar": {
              "outlinewidth": 0,
              "ticks": ""
             }
            },
            "marker": {
             "colorbar": {
              "outlinewidth": 0,
              "ticks": ""
             }
            },
            "type": "scatter3d"
           }
          ],
          "scattercarpet": [
           {
            "marker": {
             "colorbar": {
              "outlinewidth": 0,
              "ticks": ""
             }
            },
            "type": "scattercarpet"
           }
          ],
          "scattergeo": [
           {
            "marker": {
             "colorbar": {
              "outlinewidth": 0,
              "ticks": ""
             }
            },
            "type": "scattergeo"
           }
          ],
          "scattergl": [
           {
            "marker": {
             "line": {
              "color": "#283442"
             }
            },
            "type": "scattergl"
           }
          ],
          "scattermapbox": [
           {
            "marker": {
             "colorbar": {
              "outlinewidth": 0,
              "ticks": ""
             }
            },
            "type": "scattermapbox"
           }
          ],
          "scatterpolar": [
           {
            "marker": {
             "colorbar": {
              "outlinewidth": 0,
              "ticks": ""
             }
            },
            "type": "scatterpolar"
           }
          ],
          "scatterpolargl": [
           {
            "marker": {
             "colorbar": {
              "outlinewidth": 0,
              "ticks": ""
             }
            },
            "type": "scatterpolargl"
           }
          ],
          "scatterternary": [
           {
            "marker": {
             "colorbar": {
              "outlinewidth": 0,
              "ticks": ""
             }
            },
            "type": "scatterternary"
           }
          ],
          "surface": [
           {
            "colorbar": {
             "outlinewidth": 0,
             "ticks": ""
            },
            "colorscale": [
             [
              0,
              "#0d0887"
             ],
             [
              0.1111111111111111,
              "#46039f"
             ],
             [
              0.2222222222222222,
              "#7201a8"
             ],
             [
              0.3333333333333333,
              "#9c179e"
             ],
             [
              0.4444444444444444,
              "#bd3786"
             ],
             [
              0.5555555555555556,
              "#d8576b"
             ],
             [
              0.6666666666666666,
              "#ed7953"
             ],
             [
              0.7777777777777778,
              "#fb9f3a"
             ],
             [
              0.8888888888888888,
              "#fdca26"
             ],
             [
              1,
              "#f0f921"
             ]
            ],
            "type": "surface"
           }
          ],
          "table": [
           {
            "cells": {
             "fill": {
              "color": "#506784"
             },
             "line": {
              "color": "rgb(17,17,17)"
             }
            },
            "header": {
             "fill": {
              "color": "#2a3f5f"
             },
             "line": {
              "color": "rgb(17,17,17)"
             }
            },
            "type": "table"
           }
          ]
         },
         "layout": {
          "annotationdefaults": {
           "arrowcolor": "#f2f5fa",
           "arrowhead": 0,
           "arrowwidth": 1
          },
          "autotypenumbers": "strict",
          "coloraxis": {
           "colorbar": {
            "outlinewidth": 0,
            "ticks": ""
           }
          },
          "colorscale": {
           "diverging": [
            [
             0,
             "#8e0152"
            ],
            [
             0.1,
             "#c51b7d"
            ],
            [
             0.2,
             "#de77ae"
            ],
            [
             0.3,
             "#f1b6da"
            ],
            [
             0.4,
             "#fde0ef"
            ],
            [
             0.5,
             "#f7f7f7"
            ],
            [
             0.6,
             "#e6f5d0"
            ],
            [
             0.7,
             "#b8e186"
            ],
            [
             0.8,
             "#7fbc41"
            ],
            [
             0.9,
             "#4d9221"
            ],
            [
             1,
             "#276419"
            ]
           ],
           "sequential": [
            [
             0,
             "#0d0887"
            ],
            [
             0.1111111111111111,
             "#46039f"
            ],
            [
             0.2222222222222222,
             "#7201a8"
            ],
            [
             0.3333333333333333,
             "#9c179e"
            ],
            [
             0.4444444444444444,
             "#bd3786"
            ],
            [
             0.5555555555555556,
             "#d8576b"
            ],
            [
             0.6666666666666666,
             "#ed7953"
            ],
            [
             0.7777777777777778,
             "#fb9f3a"
            ],
            [
             0.8888888888888888,
             "#fdca26"
            ],
            [
             1,
             "#f0f921"
            ]
           ],
           "sequentialminus": [
            [
             0,
             "#0d0887"
            ],
            [
             0.1111111111111111,
             "#46039f"
            ],
            [
             0.2222222222222222,
             "#7201a8"
            ],
            [
             0.3333333333333333,
             "#9c179e"
            ],
            [
             0.4444444444444444,
             "#bd3786"
            ],
            [
             0.5555555555555556,
             "#d8576b"
            ],
            [
             0.6666666666666666,
             "#ed7953"
            ],
            [
             0.7777777777777778,
             "#fb9f3a"
            ],
            [
             0.8888888888888888,
             "#fdca26"
            ],
            [
             1,
             "#f0f921"
            ]
           ]
          },
          "colorway": [
           "#636efa",
           "#EF553B",
           "#00cc96",
           "#ab63fa",
           "#FFA15A",
           "#19d3f3",
           "#FF6692",
           "#B6E880",
           "#FF97FF",
           "#FECB52"
          ],
          "font": {
           "color": "#f2f5fa"
          },
          "geo": {
           "bgcolor": "rgb(17,17,17)",
           "lakecolor": "rgb(17,17,17)",
           "landcolor": "rgb(17,17,17)",
           "showlakes": true,
           "showland": true,
           "subunitcolor": "#506784"
          },
          "hoverlabel": {
           "align": "left"
          },
          "hovermode": "closest",
          "mapbox": {
           "style": "dark"
          },
          "paper_bgcolor": "rgb(17,17,17)",
          "plot_bgcolor": "rgb(17,17,17)",
          "polar": {
           "angularaxis": {
            "gridcolor": "#506784",
            "linecolor": "#506784",
            "ticks": ""
           },
           "bgcolor": "rgb(17,17,17)",
           "radialaxis": {
            "gridcolor": "#506784",
            "linecolor": "#506784",
            "ticks": ""
           }
          },
          "scene": {
           "xaxis": {
            "backgroundcolor": "rgb(17,17,17)",
            "gridcolor": "#506784",
            "gridwidth": 2,
            "linecolor": "#506784",
            "showbackground": true,
            "ticks": "",
            "zerolinecolor": "#C8D4E3"
           },
           "yaxis": {
            "backgroundcolor": "rgb(17,17,17)",
            "gridcolor": "#506784",
            "gridwidth": 2,
            "linecolor": "#506784",
            "showbackground": true,
            "ticks": "",
            "zerolinecolor": "#C8D4E3"
           },
           "zaxis": {
            "backgroundcolor": "rgb(17,17,17)",
            "gridcolor": "#506784",
            "gridwidth": 2,
            "linecolor": "#506784",
            "showbackground": true,
            "ticks": "",
            "zerolinecolor": "#C8D4E3"
           }
          },
          "shapedefaults": {
           "line": {
            "color": "#f2f5fa"
           }
          },
          "sliderdefaults": {
           "bgcolor": "#C8D4E3",
           "bordercolor": "rgb(17,17,17)",
           "borderwidth": 1,
           "tickwidth": 0
          },
          "ternary": {
           "aaxis": {
            "gridcolor": "#506784",
            "linecolor": "#506784",
            "ticks": ""
           },
           "baxis": {
            "gridcolor": "#506784",
            "linecolor": "#506784",
            "ticks": ""
           },
           "bgcolor": "rgb(17,17,17)",
           "caxis": {
            "gridcolor": "#506784",
            "linecolor": "#506784",
            "ticks": ""
           }
          },
          "title": {
           "x": 0.05
          },
          "updatemenudefaults": {
           "bgcolor": "#506784",
           "borderwidth": 0
          },
          "xaxis": {
           "automargin": true,
           "gridcolor": "#283442",
           "linecolor": "#506784",
           "ticks": "",
           "title": {
            "standoff": 15
           },
           "zerolinecolor": "#283442",
           "zerolinewidth": 2
          },
          "yaxis": {
           "automargin": true,
           "gridcolor": "#283442",
           "linecolor": "#506784",
           "ticks": "",
           "title": {
            "standoff": 15
           },
           "zerolinecolor": "#283442",
           "zerolinewidth": 2
          }
         }
        },
        "title": {
         "text": "Ratings by Writer"
        },
        "xaxis": {
         "anchor": "y",
         "domain": [
          0,
          1
         ],
         "title": {
          "text": "rating"
         }
        },
        "yaxis": {
         "anchor": "x",
         "categoryarray": [
          "Richard Curtis",
          "Robert Shearman",
          "Matt Jones",
          "Paul Cornell",
          "Simon Nye",
          "Keith Temple",
          "Jamie Mathieson",
          "James Moran",
          "Tom MacRae",
          "Gareth Roberts",
          "Catherine Tregenna",
          "Mike Bartlett",
          "Neil Gaiman",
          "Neil Cross",
          "Steven Moffat",
          "Sarah Dollard",
          "Toby Whithouse",
          "Rona Munro",
          "Peter Harness",
          "Helen Raynor",
          "Steve Thompson",
          "Stephen Greenhorn",
          "Vinay Patel",
          "Pete McTighe",
          "Ed Hime",
          "Russell T Davies",
          "Matthew Graham",
          "Frank Cottrell-Boyce",
          "Mark Gatiss",
          "Joy Wilkinson",
          "Chris Chibnall"
         ],
         "categoryorder": "array",
         "domain": [
          0,
          1
         ],
         "title": {
          "text": "Writer"
         }
        }
       }
      }
     },
     "metadata": {},
     "output_type": "display_data"
    }
   ],
   "source": [
    "fig = px.box(df.sort_values(['rating','Writer']), \n",
    "    x='rating', \n",
    "    y='Writer',\n",
    "    color='Writer',\n",
    "    points='all',\n",
    "    title='Ratings by Writer',\n",
    "    color_discrete_sequence=theme_discrete)\n",
    "\n",
    "fig.update_traces(quartilemethod='linear', jitter=1, showlegend=False)\n",
    "\n",
    "format_and_show_tall(fig)"
   ]
  },
  {
   "cell_type": "code",
   "execution_count": 76,
   "metadata": {},
   "outputs": [
    {
     "data": {
      "application/vnd.plotly.v1+json": {
       "config": {
        "plotlyServerURL": "https://plot.ly"
       },
       "data": [
        {
         "alignmentgroup": "True",
         "boxpoints": "all",
         "hovertemplate": "Director=%{y}<br>rating=%{x}<extra></extra>",
         "jitter": 1,
         "legendgroup": "Jennifer Perrott",
         "marker": {
          "color": "rgb(95, 70, 144)"
         },
         "name": "Jennifer Perrott",
         "notched": false,
         "offsetgroup": "Jennifer Perrott",
         "orientation": "h",
         "quartilemethod": "linear",
         "showlegend": false,
         "type": "box",
         "x": [
          5.2,
          6.4
         ],
         "x0": " ",
         "xaxis": "x",
         "y": [
          "Jennifer Perrott",
          "Jennifer Perrott"
         ],
         "y0": " ",
         "yaxis": "y"
        },
        {
         "alignmentgroup": "True",
         "boxpoints": "all",
         "hovertemplate": "Director=%{y}<br>rating=%{x}<extra></extra>",
         "jitter": 1,
         "legendgroup": "Sallie Aprahamian",
         "marker": {
          "color": "rgb(29, 105, 150)"
         },
         "name": "Sallie Aprahamian",
         "notched": false,
         "offsetgroup": "Sallie Aprahamian",
         "orientation": "h",
         "quartilemethod": "linear",
         "showlegend": false,
         "type": "box",
         "x": [
          5.3,
          5.9
         ],
         "x0": " ",
         "xaxis": "x",
         "y": [
          "Sallie Aprahamian",
          "Sallie Aprahamian"
         ],
         "y0": " ",
         "yaxis": "y"
        },
        {
         "alignmentgroup": "True",
         "boxpoints": "all",
         "hovertemplate": "Director=%{y}<br>rating=%{x}<extra></extra>",
         "jitter": 1,
         "legendgroup": "Jamie Childs",
         "marker": {
          "color": "rgb(56, 166, 165)"
         },
         "name": "Jamie Childs",
         "notched": false,
         "offsetgroup": "Jamie Childs",
         "orientation": "h",
         "quartilemethod": "linear",
         "showlegend": false,
         "type": "box",
         "x": [
          5.5,
          6.4,
          6.6,
          7.1
         ],
         "x0": " ",
         "xaxis": "x",
         "y": [
          "Jamie Childs",
          "Jamie Childs",
          "Jamie Childs",
          "Jamie Childs"
         ],
         "y0": " ",
         "yaxis": "y"
        },
        {
         "alignmentgroup": "True",
         "boxpoints": "all",
         "hovertemplate": "Director=%{y}<br>rating=%{x}<extra></extra>",
         "jitter": 1,
         "legendgroup": "Justin Molotnikov",
         "marker": {
          "color": "rgb(15, 133, 84)"
         },
         "name": "Justin Molotnikov",
         "notched": false,
         "offsetgroup": "Justin Molotnikov",
         "orientation": "h",
         "quartilemethod": "linear",
         "showlegend": false,
         "type": "box",
         "x": [
          6,
          8.6
         ],
         "x0": " ",
         "xaxis": "x",
         "y": [
          "Justin Molotnikov",
          "Justin Molotnikov"
         ],
         "y0": " ",
         "yaxis": "y"
        },
        {
         "alignmentgroup": "True",
         "boxpoints": "all",
         "hovertemplate": "Director=%{y}<br>rating=%{x}<extra></extra>",
         "jitter": 1,
         "legendgroup": "Wayne Che Yip",
         "marker": {
          "color": "rgb(115, 175, 72)"
         },
         "name": "Wayne Che Yip",
         "notched": false,
         "offsetgroup": "Wayne Che Yip",
         "orientation": "h",
         "quartilemethod": "linear",
         "showlegend": false,
         "type": "box",
         "x": [
          6
         ],
         "x0": " ",
         "xaxis": "x",
         "y": [
          "Wayne Che Yip"
         ],
         "y0": " ",
         "yaxis": "y"
        },
        {
         "alignmentgroup": "True",
         "boxpoints": "all",
         "hovertemplate": "Director=%{y}<br>rating=%{x}<extra></extra>",
         "jitter": 1,
         "legendgroup": "Euros Lyn",
         "marker": {
          "color": "rgb(237, 173, 8)"
         },
         "name": "Euros Lyn",
         "notched": false,
         "offsetgroup": "Euros Lyn",
         "orientation": "h",
         "quartilemethod": "linear",
         "showlegend": false,
         "type": "box",
         "x": [
          6.1,
          6.9,
          7.6,
          7.6,
          7.6,
          7.9,
          9.3,
          9.4,
          9.5
         ],
         "x0": " ",
         "xaxis": "x",
         "y": [
          "Euros Lyn",
          "Euros Lyn",
          "Euros Lyn",
          "Euros Lyn",
          "Euros Lyn",
          "Euros Lyn",
          "Euros Lyn",
          "Euros Lyn",
          "Euros Lyn"
         ],
         "y0": " ",
         "yaxis": "y"
        },
        {
         "alignmentgroup": "True",
         "boxpoints": "all",
         "hovertemplate": "Director=%{y}<br>rating=%{x}<extra></extra>",
         "jitter": 1,
         "legendgroup": "Sheree Folkson",
         "marker": {
          "color": "rgb(225, 124, 5)"
         },
         "name": "Sheree Folkson",
         "notched": false,
         "offsetgroup": "Sheree Folkson",
         "orientation": "h",
         "quartilemethod": "linear",
         "showlegend": false,
         "type": "box",
         "x": [
          6.1
         ],
         "x0": " ",
         "xaxis": "x",
         "y": [
          "Sheree Folkson"
         ],
         "y0": " ",
         "yaxis": "y"
        },
        {
         "alignmentgroup": "True",
         "boxpoints": "all",
         "hovertemplate": "Director=%{y}<br>rating=%{x}<extra></extra>",
         "jitter": 1,
         "legendgroup": "Dan Zeff",
         "marker": {
          "color": "rgb(204, 80, 62)"
         },
         "name": "Dan Zeff",
         "notched": false,
         "offsetgroup": "Dan Zeff",
         "orientation": "h",
         "quartilemethod": "linear",
         "showlegend": false,
         "type": "box",
         "x": [
          6.2
         ],
         "x0": " ",
         "xaxis": "x",
         "y": [
          "Dan Zeff"
         ],
         "y0": " ",
         "yaxis": "y"
        },
        {
         "alignmentgroup": "True",
         "boxpoints": "all",
         "hovertemplate": "Director=%{y}<br>rating=%{x}<extra></extra>",
         "jitter": 1,
         "legendgroup": "Mark Tonderai",
         "marker": {
          "color": "rgb(148, 52, 110)"
         },
         "name": "Mark Tonderai",
         "notched": false,
         "offsetgroup": "Mark Tonderai",
         "orientation": "h",
         "quartilemethod": "linear",
         "showlegend": false,
         "type": "box",
         "x": [
          6.2,
          7.1
         ],
         "x0": " ",
         "xaxis": "x",
         "y": [
          "Mark Tonderai",
          "Mark Tonderai"
         ],
         "y0": " ",
         "yaxis": "y"
        },
        {
         "alignmentgroup": "True",
         "boxpoints": "all",
         "hovertemplate": "Director=%{y}<br>rating=%{x}<extra></extra>",
         "jitter": 1,
         "legendgroup": "Richard Clark",
         "marker": {
          "color": "rgb(111, 64, 112)"
         },
         "name": "Richard Clark",
         "notched": false,
         "offsetgroup": "Richard Clark",
         "orientation": "h",
         "quartilemethod": "linear",
         "showlegend": false,
         "type": "box",
         "x": [
          6.7,
          7.1,
          8.1,
          9
         ],
         "x0": " ",
         "xaxis": "x",
         "y": [
          "Richard Clark",
          "Richard Clark",
          "Richard Clark",
          "Richard Clark"
         ],
         "y0": " ",
         "yaxis": "y"
        },
        {
         "alignmentgroup": "True",
         "boxpoints": "all",
         "hovertemplate": "Director=%{y}<br>rating=%{x}<extra></extra>",
         "jitter": 1,
         "legendgroup": "Andrew Gunn",
         "marker": {
          "color": "rgb(102, 102, 102)"
         },
         "name": "Andrew Gunn",
         "notched": false,
         "offsetgroup": "Andrew Gunn",
         "orientation": "h",
         "quartilemethod": "linear",
         "showlegend": false,
         "type": "box",
         "x": [
          6.8,
          7.6
         ],
         "x0": " ",
         "xaxis": "x",
         "y": [
          "Andrew Gunn",
          "Andrew Gunn"
         ],
         "y0": " ",
         "yaxis": "y"
        },
        {
         "alignmentgroup": "True",
         "boxpoints": "all",
         "hovertemplate": "Director=%{y}<br>rating=%{x}<extra></extra>",
         "jitter": 1,
         "legendgroup": "Jeremy Webb",
         "marker": {
          "color": "rgb(95, 70, 144)"
         },
         "name": "Jeremy Webb",
         "notched": false,
         "offsetgroup": "Jeremy Webb",
         "orientation": "h",
         "quartilemethod": "linear",
         "showlegend": false,
         "type": "box",
         "x": [
          6.8,
          8.6
         ],
         "x0": " ",
         "xaxis": "x",
         "y": [
          "Jeremy Webb",
          "Jeremy Webb"
         ],
         "y0": " ",
         "yaxis": "y"
        },
        {
         "alignmentgroup": "True",
         "boxpoints": "all",
         "hovertemplate": "Director=%{y}<br>rating=%{x}<extra></extra>",
         "jitter": 1,
         "legendgroup": "Charles Palmer",
         "marker": {
          "color": "rgb(29, 105, 150)"
         },
         "name": "Charles Palmer",
         "notched": false,
         "offsetgroup": "Charles Palmer",
         "orientation": "h",
         "quartilemethod": "linear",
         "showlegend": false,
         "type": "box",
         "x": [
          7,
          7.8,
          8,
          8.1,
          9,
          9.2
         ],
         "x0": " ",
         "xaxis": "x",
         "y": [
          "Charles Palmer",
          "Charles Palmer",
          "Charles Palmer",
          "Charles Palmer",
          "Charles Palmer",
          "Charles Palmer"
         ],
         "y0": " ",
         "yaxis": "y"
        },
        {
         "alignmentgroup": "True",
         "boxpoints": "all",
         "hovertemplate": "Director=%{y}<br>rating=%{x}<extra></extra>",
         "jitter": 1,
         "legendgroup": "James Strong",
         "marker": {
          "color": "rgb(56, 166, 165)"
         },
         "name": "James Strong",
         "notched": false,
         "offsetgroup": "James Strong",
         "orientation": "h",
         "quartilemethod": "linear",
         "showlegend": false,
         "type": "box",
         "x": [
          7,
          7,
          7.7,
          7.8,
          8.7,
          8.8
         ],
         "x0": " ",
         "xaxis": "x",
         "y": [
          "James Strong",
          "James Strong",
          "James Strong",
          "James Strong",
          "James Strong",
          "James Strong"
         ],
         "y0": " ",
         "yaxis": "y"
        },
        {
         "alignmentgroup": "True",
         "boxpoints": "all",
         "hovertemplate": "Director=%{y}<br>rating=%{x}<extra></extra>",
         "jitter": 1,
         "legendgroup": "Keith Boak",
         "marker": {
          "color": "rgb(15, 133, 84)"
         },
         "name": "Keith Boak",
         "notched": false,
         "offsetgroup": "Keith Boak",
         "orientation": "h",
         "quartilemethod": "linear",
         "showlegend": false,
         "type": "box",
         "x": [
          7,
          7.1,
          7.6
         ],
         "x0": " ",
         "xaxis": "x",
         "y": [
          "Keith Boak",
          "Keith Boak",
          "Keith Boak"
         ],
         "y0": " ",
         "yaxis": "y"
        },
        {
         "alignmentgroup": "True",
         "boxpoints": "all",
         "hovertemplate": "Director=%{y}<br>rating=%{x}<extra></extra>",
         "jitter": 1,
         "legendgroup": "Paul Wilmshurst",
         "marker": {
          "color": "rgb(115, 175, 72)"
         },
         "name": "Paul Wilmshurst",
         "notched": false,
         "offsetgroup": "Paul Wilmshurst",
         "orientation": "h",
         "quartilemethod": "linear",
         "showlegend": false,
         "type": "box",
         "x": [
          7,
          8.5
         ],
         "x0": " ",
         "xaxis": "x",
         "y": [
          "Paul Wilmshurst",
          "Paul Wilmshurst"
         ],
         "y0": " ",
         "yaxis": "y"
        },
        {
         "alignmentgroup": "True",
         "boxpoints": "all",
         "hovertemplate": "Director=%{y}<br>rating=%{x}<extra></extra>",
         "jitter": 1,
         "legendgroup": "Jonny Campbell",
         "marker": {
          "color": "rgb(237, 173, 8)"
         },
         "name": "Jonny Campbell",
         "notched": false,
         "offsetgroup": "Jonny Campbell",
         "orientation": "h",
         "quartilemethod": "linear",
         "showlegend": false,
         "type": "box",
         "x": [
          7.1,
          9.3
         ],
         "x0": " ",
         "xaxis": "x",
         "y": [
          "Jonny Campbell",
          "Jonny Campbell"
         ],
         "y0": " ",
         "yaxis": "y"
        },
        {
         "alignmentgroup": "True",
         "boxpoints": "all",
         "hovertemplate": "Director=%{y}<br>rating=%{x}<extra></extra>",
         "jitter": 1,
         "legendgroup": "Paul Murphy",
         "marker": {
          "color": "rgb(225, 124, 5)"
         },
         "name": "Paul Murphy",
         "notched": false,
         "offsetgroup": "Paul Murphy",
         "orientation": "h",
         "quartilemethod": "linear",
         "showlegend": false,
         "type": "box",
         "x": [
          7.1,
          7.4
         ],
         "x0": " ",
         "xaxis": "x",
         "y": [
          "Paul Murphy",
          "Paul Murphy"
         ],
         "y0": " ",
         "yaxis": "y"
        },
        {
         "alignmentgroup": "True",
         "boxpoints": "all",
         "hovertemplate": "Director=%{y}<br>rating=%{x}<extra></extra>",
         "jitter": 1,
         "legendgroup": "Wayne Yip",
         "marker": {
          "color": "rgb(204, 80, 62)"
         },
         "name": "Wayne Yip",
         "notched": false,
         "offsetgroup": "Wayne Yip",
         "orientation": "h",
         "quartilemethod": "linear",
         "showlegend": false,
         "type": "box",
         "x": [
          7.1,
          7.2
         ],
         "x0": " ",
         "xaxis": "x",
         "y": [
          "Wayne Yip",
          "Wayne Yip"
         ],
         "y0": " ",
         "yaxis": "y"
        },
        {
         "alignmentgroup": "True",
         "boxpoints": "all",
         "hovertemplate": "Director=%{y}<br>rating=%{x}<extra></extra>",
         "jitter": 1,
         "legendgroup": "Brian Grant",
         "marker": {
          "color": "rgb(148, 52, 110)"
         },
         "name": "Brian Grant",
         "notched": false,
         "offsetgroup": "Brian Grant",
         "orientation": "h",
         "quartilemethod": "linear",
         "showlegend": false,
         "type": "box",
         "x": [
          7.2
         ],
         "x0": " ",
         "xaxis": "x",
         "y": [
          "Brian Grant"
         ],
         "y0": " ",
         "yaxis": "y"
        },
        {
         "alignmentgroup": "True",
         "boxpoints": "all",
         "hovertemplate": "Director=%{y}<br>rating=%{x}<extra></extra>",
         "jitter": 1,
         "legendgroup": "Joe Ahearne",
         "marker": {
          "color": "rgb(111, 64, 112)"
         },
         "name": "Joe Ahearne",
         "notched": false,
         "offsetgroup": "Joe Ahearne",
         "orientation": "h",
         "quartilemethod": "linear",
         "showlegend": false,
         "type": "box",
         "x": [
          7.2,
          8.4,
          8.7,
          8.7,
          9.1
         ],
         "x0": " ",
         "xaxis": "x",
         "y": [
          "Joe Ahearne",
          "Joe Ahearne",
          "Joe Ahearne",
          "Joe Ahearne",
          "Joe Ahearne"
         ],
         "y0": " ",
         "yaxis": "y"
        },
        {
         "alignmentgroup": "True",
         "boxpoints": "all",
         "hovertemplate": "Director=%{y}<br>rating=%{x}<extra></extra>",
         "jitter": 1,
         "legendgroup": "Lawrence Gough",
         "marker": {
          "color": "rgb(102, 102, 102)"
         },
         "name": "Lawrence Gough",
         "notched": false,
         "offsetgroup": "Lawrence Gough",
         "orientation": "h",
         "quartilemethod": "linear",
         "showlegend": false,
         "type": "box",
         "x": [
          7.2,
          7.9
         ],
         "x0": " ",
         "xaxis": "x",
         "y": [
          "Lawrence Gough",
          "Lawrence Gough"
         ],
         "y0": " ",
         "yaxis": "y"
        },
        {
         "alignmentgroup": "True",
         "boxpoints": "all",
         "hovertemplate": "Director=%{y}<br>rating=%{x}<extra></extra>",
         "jitter": 1,
         "legendgroup": "Ashley Way",
         "marker": {
          "color": "rgb(95, 70, 144)"
         },
         "name": "Ashley Way",
         "notched": false,
         "offsetgroup": "Ashley Way",
         "orientation": "h",
         "quartilemethod": "linear",
         "showlegend": false,
         "type": "box",
         "x": [
          7.3,
          7.5
         ],
         "x0": " ",
         "xaxis": "x",
         "y": [
          "Ashley Way",
          "Ashley Way"
         ],
         "y0": " ",
         "yaxis": "y"
        },
        {
         "alignmentgroup": "True",
         "boxpoints": "all",
         "hovertemplate": "Director=%{y}<br>rating=%{x}<extra></extra>",
         "jitter": 1,
         "legendgroup": "Bill Anderson",
         "marker": {
          "color": "rgb(29, 105, 150)"
         },
         "name": "Bill Anderson",
         "notched": false,
         "offsetgroup": "Bill Anderson",
         "orientation": "h",
         "quartilemethod": "linear",
         "showlegend": false,
         "type": "box",
         "x": [
          7.3,
          7.5
         ],
         "x0": " ",
         "xaxis": "x",
         "y": [
          "Bill Anderson",
          "Bill Anderson"
         ],
         "y0": " ",
         "yaxis": "y"
        },
        {
         "alignmentgroup": "True",
         "boxpoints": "all",
         "hovertemplate": "Director=%{y}<br>rating=%{x}<extra></extra>",
         "jitter": 1,
         "legendgroup": "Douglas Mackinnon",
         "marker": {
          "color": "rgb(56, 166, 165)"
         },
         "name": "Douglas Mackinnon",
         "notched": false,
         "offsetgroup": "Douglas Mackinnon",
         "orientation": "h",
         "quartilemethod": "linear",
         "showlegend": false,
         "type": "box",
         "x": [
          7.3,
          7.5,
          7.6,
          8,
          8.5,
          8.6,
          8.9
         ],
         "x0": " ",
         "xaxis": "x",
         "y": [
          "Douglas Mackinnon",
          "Douglas Mackinnon",
          "Douglas Mackinnon",
          "Douglas Mackinnon",
          "Douglas Mackinnon",
          "Douglas Mackinnon",
          "Douglas Mackinnon"
         ],
         "y0": " ",
         "yaxis": "y"
        },
        {
         "alignmentgroup": "True",
         "boxpoints": "all",
         "hovertemplate": "Director=%{y}<br>rating=%{x}<extra></extra>",
         "jitter": 1,
         "legendgroup": "Farren Blackburn",
         "marker": {
          "color": "rgb(15, 133, 84)"
         },
         "name": "Farren Blackburn",
         "notched": false,
         "offsetgroup": "Farren Blackburn",
         "orientation": "h",
         "quartilemethod": "linear",
         "showlegend": false,
         "type": "box",
         "x": [
          7.3,
          7.4
         ],
         "x0": " ",
         "xaxis": "x",
         "y": [
          "Farren Blackburn",
          "Farren Blackburn"
         ],
         "y0": " ",
         "yaxis": "y"
        },
        {
         "alignmentgroup": "True",
         "boxpoints": "all",
         "hovertemplate": "Director=%{y}<br>rating=%{x}<extra></extra>",
         "jitter": 1,
         "legendgroup": "Julian Simpson",
         "marker": {
          "color": "rgb(115, 175, 72)"
         },
         "name": "Julian Simpson",
         "notched": false,
         "offsetgroup": "Julian Simpson",
         "orientation": "h",
         "quartilemethod": "linear",
         "showlegend": false,
         "type": "box",
         "x": [
          7.3,
          7.5
         ],
         "x0": " ",
         "xaxis": "x",
         "y": [
          "Julian Simpson",
          "Julian Simpson"
         ],
         "y0": " ",
         "yaxis": "y"
        },
        {
         "alignmentgroup": "True",
         "boxpoints": "all",
         "hovertemplate": "Director=%{y}<br>rating=%{x}<extra></extra>",
         "jitter": 1,
         "legendgroup": "Saul Metzstein",
         "marker": {
          "color": "rgb(237, 173, 8)"
         },
         "name": "Saul Metzstein",
         "notched": false,
         "offsetgroup": "Saul Metzstein",
         "orientation": "h",
         "quartilemethod": "linear",
         "showlegend": false,
         "type": "box",
         "x": [
          7.4,
          7.5,
          7.5,
          8.5,
          9.1
         ],
         "x0": " ",
         "xaxis": "x",
         "y": [
          "Saul Metzstein",
          "Saul Metzstein",
          "Saul Metzstein",
          "Saul Metzstein",
          "Saul Metzstein"
         ],
         "y0": " ",
         "yaxis": "y"
        },
        {
         "alignmentgroup": "True",
         "boxpoints": "all",
         "hovertemplate": "Director=%{y}<br>rating=%{x}<extra></extra>",
         "jitter": 1,
         "legendgroup": "Stephen Woolfenden",
         "marker": {
          "color": "rgb(225, 124, 5)"
         },
         "name": "Stephen Woolfenden",
         "notched": false,
         "offsetgroup": "Stephen Woolfenden",
         "orientation": "h",
         "quartilemethod": "linear",
         "showlegend": false,
         "type": "box",
         "x": [
          7.4
         ],
         "x0": " ",
         "xaxis": "x",
         "y": [
          "Stephen Woolfenden"
         ],
         "y0": " ",
         "yaxis": "y"
        },
        {
         "alignmentgroup": "True",
         "boxpoints": "all",
         "hovertemplate": "Director=%{y}<br>rating=%{x}<extra></extra>",
         "jitter": 1,
         "legendgroup": "Ed Bazalgette",
         "marker": {
          "color": "rgb(204, 80, 62)"
         },
         "name": "Ed Bazalgette",
         "notched": false,
         "offsetgroup": "Ed Bazalgette",
         "orientation": "h",
         "quartilemethod": "linear",
         "showlegend": false,
         "type": "box",
         "x": [
          7.5,
          7.6,
          7.7
         ],
         "x0": " ",
         "xaxis": "x",
         "y": [
          "Ed Bazalgette",
          "Ed Bazalgette",
          "Ed Bazalgette"
         ],
         "y0": " ",
         "yaxis": "y"
        },
        {
         "alignmentgroup": "True",
         "boxpoints": "all",
         "hovertemplate": "Director=%{y}<br>rating=%{x}<extra></extra>",
         "jitter": 1,
         "legendgroup": "Graeme Harper",
         "marker": {
          "color": "rgb(148, 52, 110)"
         },
         "name": "Graeme Harper",
         "notched": false,
         "offsetgroup": "Graeme Harper",
         "orientation": "h",
         "quartilemethod": "linear",
         "showlegend": false,
         "type": "box",
         "x": [
          7.5,
          7.8,
          7.8,
          7.9,
          8.1,
          8.5,
          8.8,
          8.9,
          9.1,
          9.1,
          9.3
         ],
         "x0": " ",
         "xaxis": "x",
         "y": [
          "Graeme Harper",
          "Graeme Harper",
          "Graeme Harper",
          "Graeme Harper",
          "Graeme Harper",
          "Graeme Harper",
          "Graeme Harper",
          "Graeme Harper",
          "Graeme Harper",
          "Graeme Harper",
          "Graeme Harper"
         ],
         "y0": " ",
         "yaxis": "y"
        },
        {
         "alignmentgroup": "True",
         "boxpoints": "all",
         "hovertemplate": "Director=%{y}<br>rating=%{x}<extra></extra>",
         "jitter": 1,
         "legendgroup": "James Hawes",
         "marker": {
          "color": "rgb(111, 64, 112)"
         },
         "name": "James Hawes",
         "notched": false,
         "offsetgroup": "James Hawes",
         "orientation": "h",
         "quartilemethod": "linear",
         "showlegend": false,
         "type": "box",
         "x": [
          7.5,
          8.2,
          8.4,
          9.1,
          9.2
         ],
         "x0": " ",
         "xaxis": "x",
         "y": [
          "James Hawes",
          "James Hawes",
          "James Hawes",
          "James Hawes",
          "James Hawes"
         ],
         "y0": " ",
         "yaxis": "y"
        },
        {
         "alignmentgroup": "True",
         "boxpoints": "all",
         "hovertemplate": "Director=%{y}<br>rating=%{x}<extra></extra>",
         "jitter": 1,
         "legendgroup": "Mat King",
         "marker": {
          "color": "rgb(102, 102, 102)"
         },
         "name": "Mat King",
         "notched": false,
         "offsetgroup": "Mat King",
         "orientation": "h",
         "quartilemethod": "linear",
         "showlegend": false,
         "type": "box",
         "x": [
          7.5
         ],
         "x0": " ",
         "xaxis": "x",
         "y": [
          "Mat King"
         ],
         "y0": " ",
         "yaxis": "y"
        },
        {
         "alignmentgroup": "True",
         "boxpoints": "all",
         "hovertemplate": "Director=%{y}<br>rating=%{x}<extra></extra>",
         "jitter": 1,
         "legendgroup": "0",
         "marker": {
          "color": "rgb(95, 70, 144)"
         },
         "name": "0",
         "notched": false,
         "offsetgroup": "0",
         "orientation": "h",
         "quartilemethod": "linear",
         "showlegend": false,
         "type": "box",
         "x": [
          7.6
         ],
         "x0": " ",
         "xaxis": "x",
         "y": [
          "0"
         ],
         "y0": " ",
         "yaxis": "y"
        },
        {
         "alignmentgroup": "True",
         "boxpoints": "all",
         "hovertemplate": "Director=%{y}<br>rating=%{x}<extra></extra>",
         "jitter": 1,
         "legendgroup": "Alice Troughton",
         "marker": {
          "color": "rgb(29, 105, 150)"
         },
         "name": "Alice Troughton",
         "notched": false,
         "offsetgroup": "Alice Troughton",
         "orientation": "h",
         "quartilemethod": "linear",
         "showlegend": false,
         "type": "box",
         "x": [
          7.7,
          9
         ],
         "x0": " ",
         "xaxis": "x",
         "y": [
          "Alice Troughton",
          "Alice Troughton"
         ],
         "y0": " ",
         "yaxis": "y"
        },
        {
         "alignmentgroup": "True",
         "boxpoints": "all",
         "hovertemplate": "Director=%{y}<br>rating=%{x}<extra></extra>",
         "jitter": 1,
         "legendgroup": "Daniel Nettheim",
         "marker": {
          "color": "rgb(56, 166, 165)"
         },
         "name": "Daniel Nettheim",
         "notched": false,
         "offsetgroup": "Daniel Nettheim",
         "orientation": "h",
         "quartilemethod": "linear",
         "showlegend": false,
         "type": "box",
         "x": [
          7.7,
          7.9,
          8.5,
          8.6
         ],
         "x0": " ",
         "xaxis": "x",
         "y": [
          "Daniel Nettheim",
          "Daniel Nettheim",
          "Daniel Nettheim",
          "Daniel Nettheim"
         ],
         "y0": " ",
         "yaxis": "y"
        },
        {
         "alignmentgroup": "True",
         "boxpoints": "all",
         "hovertemplate": "Director=%{y}<br>rating=%{x}<extra></extra>",
         "jitter": 1,
         "legendgroup": "Steve Hughes",
         "marker": {
          "color": "rgb(15, 133, 84)"
         },
         "name": "Steve Hughes",
         "notched": false,
         "offsetgroup": "Steve Hughes",
         "orientation": "h",
         "quartilemethod": "linear",
         "showlegend": false,
         "type": "box",
         "x": [
          7.7
         ],
         "x0": " ",
         "xaxis": "x",
         "y": [
          "Steve Hughes"
         ],
         "y0": " ",
         "yaxis": "y"
        },
        {
         "alignmentgroup": "True",
         "boxpoints": "all",
         "hovertemplate": "Director=%{y}<br>rating=%{x}<extra></extra>",
         "jitter": 1,
         "legendgroup": "Ben Wheatley",
         "marker": {
          "color": "rgb(115, 175, 72)"
         },
         "name": "Ben Wheatley",
         "notched": false,
         "offsetgroup": "Ben Wheatley",
         "orientation": "h",
         "quartilemethod": "linear",
         "showlegend": false,
         "type": "box",
         "x": [
          7.8,
          8
         ],
         "x0": " ",
         "xaxis": "x",
         "y": [
          "Ben Wheatley",
          "Ben Wheatley"
         ],
         "y0": " ",
         "yaxis": "y"
        },
        {
         "alignmentgroup": "True",
         "boxpoints": "all",
         "hovertemplate": "Director=%{y}<br>rating=%{x}<extra></extra>",
         "jitter": 1,
         "legendgroup": "Jamie Payne",
         "marker": {
          "color": "rgb(237, 173, 8)"
         },
         "name": "Jamie Payne",
         "notched": false,
         "offsetgroup": "Jamie Payne",
         "orientation": "h",
         "quartilemethod": "linear",
         "showlegend": false,
         "type": "box",
         "x": [
          7.8
         ],
         "x0": " ",
         "xaxis": "x",
         "y": [
          "Jamie Payne"
         ],
         "y0": " ",
         "yaxis": "y"
        },
        {
         "alignmentgroup": "True",
         "boxpoints": "all",
         "hovertemplate": "Director=%{y}<br>rating=%{x}<extra></extra>",
         "jitter": 1,
         "legendgroup": "Rachel Talalay",
         "marker": {
          "color": "rgb(225, 124, 5)"
         },
         "name": "Rachel Talalay",
         "notched": false,
         "offsetgroup": "Rachel Talalay",
         "orientation": "h",
         "quartilemethod": "linear",
         "showlegend": false,
         "type": "box",
         "x": [
          7.9,
          8.7,
          8.7,
          9,
          9.2,
          9.6
         ],
         "x0": " ",
         "xaxis": "x",
         "y": [
          "Rachel Talalay",
          "Rachel Talalay",
          "Rachel Talalay",
          "Rachel Talalay",
          "Rachel Talalay",
          "Rachel Talalay"
         ],
         "y0": " ",
         "yaxis": "y"
        },
        {
         "alignmentgroup": "True",
         "boxpoints": "all",
         "hovertemplate": "Director=%{y}<br>rating=%{x}<extra></extra>",
         "jitter": 1,
         "legendgroup": "Colm McCarthy",
         "marker": {
          "color": "rgb(204, 80, 62)"
         },
         "name": "Colm McCarthy",
         "notched": false,
         "offsetgroup": "Colm McCarthy",
         "orientation": "h",
         "quartilemethod": "linear",
         "showlegend": false,
         "type": "box",
         "x": [
          8
         ],
         "x0": " ",
         "xaxis": "x",
         "y": [
          "Colm McCarthy"
         ],
         "y0": " ",
         "yaxis": "y"
        },
        {
         "alignmentgroup": "True",
         "boxpoints": "all",
         "hovertemplate": "Director=%{y}<br>rating=%{x}<extra></extra>",
         "jitter": 1,
         "legendgroup": "Colin Teague",
         "marker": {
          "color": "rgb(148, 52, 110)"
         },
         "name": "Colin Teague",
         "notched": false,
         "offsetgroup": "Colin Teague",
         "orientation": "h",
         "quartilemethod": "linear",
         "showlegend": false,
         "type": "box",
         "x": [
          8.1,
          8.4,
          8.7
         ],
         "x0": " ",
         "xaxis": "x",
         "y": [
          "Colin Teague",
          "Colin Teague",
          "Colin Teague"
         ],
         "y0": " ",
         "yaxis": "y"
        },
        {
         "alignmentgroup": "True",
         "boxpoints": "all",
         "hovertemplate": "Director=%{y}<br>rating=%{x}<extra></extra>",
         "jitter": 1,
         "legendgroup": "Daniel O'Hara",
         "marker": {
          "color": "rgb(111, 64, 112)"
         },
         "name": "Daniel O'Hara",
         "notched": false,
         "offsetgroup": "Daniel O'Hara",
         "orientation": "h",
         "quartilemethod": "linear",
         "showlegend": false,
         "type": "box",
         "x": [
          8.1,
          8.3
         ],
         "x0": " ",
         "xaxis": "x",
         "y": [
          "Daniel O'Hara",
          "Daniel O'Hara"
         ],
         "y0": " ",
         "yaxis": "y"
        },
        {
         "alignmentgroup": "True",
         "boxpoints": "all",
         "hovertemplate": "Director=%{y}<br>rating=%{x}<extra></extra>",
         "jitter": 1,
         "legendgroup": "Nick Hurran",
         "marker": {
          "color": "rgb(102, 102, 102)"
         },
         "name": "Nick Hurran",
         "notched": false,
         "offsetgroup": "Nick Hurran",
         "orientation": "h",
         "quartilemethod": "linear",
         "showlegend": false,
         "type": "box",
         "x": [
          8.1,
          8.5,
          8.7,
          9
         ],
         "x0": " ",
         "xaxis": "x",
         "y": [
          "Nick Hurran",
          "Nick Hurran",
          "Nick Hurran",
          "Nick Hurran"
         ],
         "y0": " ",
         "yaxis": "y"
        },
        {
         "alignmentgroup": "True",
         "boxpoints": "all",
         "hovertemplate": "Director=%{y}<br>rating=%{x}<extra></extra>",
         "jitter": 1,
         "legendgroup": "Richard Senior",
         "marker": {
          "color": "rgb(95, 70, 144)"
         },
         "name": "Richard Senior",
         "notched": false,
         "offsetgroup": "Richard Senior",
         "orientation": "h",
         "quartilemethod": "linear",
         "showlegend": false,
         "type": "box",
         "x": [
          8.1
         ],
         "x0": " ",
         "xaxis": "x",
         "y": [
          "Richard Senior"
         ],
         "y0": " ",
         "yaxis": "y"
        },
        {
         "alignmentgroup": "True",
         "boxpoints": "all",
         "hovertemplate": "Director=%{y}<br>rating=%{x}<extra></extra>",
         "jitter": 1,
         "legendgroup": "Catherine Morshead",
         "marker": {
          "color": "rgb(29, 105, 150)"
         },
         "name": "Catherine Morshead",
         "notched": false,
         "offsetgroup": "Catherine Morshead",
         "orientation": "h",
         "quartilemethod": "linear",
         "showlegend": false,
         "type": "box",
         "x": [
          8.2,
          8.3
         ],
         "x0": " ",
         "xaxis": "x",
         "y": [
          "Catherine Morshead",
          "Catherine Morshead"
         ],
         "y0": " ",
         "yaxis": "y"
        },
        {
         "alignmentgroup": "True",
         "boxpoints": "all",
         "hovertemplate": "Director=%{y}<br>rating=%{x}<extra></extra>",
         "jitter": 1,
         "legendgroup": "Hettie MacDonald",
         "marker": {
          "color": "rgb(56, 166, 165)"
         },
         "name": "Hettie MacDonald",
         "notched": false,
         "offsetgroup": "Hettie MacDonald",
         "orientation": "h",
         "quartilemethod": "linear",
         "showlegend": false,
         "type": "box",
         "x": [
          8.5,
          8.5,
          9.8
         ],
         "x0": " ",
         "xaxis": "x",
         "y": [
          "Hettie MacDonald",
          "Hettie MacDonald",
          "Hettie MacDonald"
         ],
         "y0": " ",
         "yaxis": "y"
        },
        {
         "alignmentgroup": "True",
         "boxpoints": "all",
         "hovertemplate": "Director=%{y}<br>rating=%{x}<extra></extra>",
         "jitter": 1,
         "legendgroup": "Adam Smith",
         "marker": {
          "color": "rgb(15, 133, 84)"
         },
         "name": "Adam Smith",
         "notched": false,
         "offsetgroup": "Adam Smith",
         "orientation": "h",
         "quartilemethod": "linear",
         "showlegend": false,
         "type": "box",
         "x": [
          8.6,
          8.7,
          8.8
         ],
         "x0": " ",
         "xaxis": "x",
         "y": [
          "Adam Smith",
          "Adam Smith",
          "Adam Smith"
         ],
         "y0": " ",
         "yaxis": "y"
        },
        {
         "alignmentgroup": "True",
         "boxpoints": "all",
         "hovertemplate": "Director=%{y}<br>rating=%{x}<extra></extra>",
         "jitter": 1,
         "legendgroup": "Toby Haynes",
         "marker": {
          "color": "rgb(115, 175, 72)"
         },
         "name": "Toby Haynes",
         "notched": false,
         "offsetgroup": "Toby Haynes",
         "orientation": "h",
         "quartilemethod": "linear",
         "showlegend": false,
         "type": "box",
         "x": [
          8.6,
          8.9,
          8.9,
          9.1,
          9.2
         ],
         "x0": " ",
         "xaxis": "x",
         "y": [
          "Toby Haynes",
          "Toby Haynes",
          "Toby Haynes",
          "Toby Haynes",
          "Toby Haynes"
         ],
         "y0": " ",
         "yaxis": "y"
        },
        {
         "alignmentgroup": "True",
         "boxpoints": "all",
         "hovertemplate": "Director=%{y}<br>rating=%{x}<extra></extra>",
         "jitter": 1,
         "legendgroup": "Peter Hoar",
         "marker": {
          "color": "rgb(237, 173, 8)"
         },
         "name": "Peter Hoar",
         "notched": false,
         "offsetgroup": "Peter Hoar",
         "orientation": "h",
         "quartilemethod": "linear",
         "showlegend": false,
         "type": "box",
         "x": [
          9.1
         ],
         "x0": " ",
         "xaxis": "x",
         "y": [
          "Peter Hoar"
         ],
         "y0": " ",
         "yaxis": "y"
        }
       ],
       "layout": {
        "boxmode": "overlay",
        "height": 800,
        "legend": {
         "title": {
          "text": "Director"
         },
         "tracegroupgap": 0
        },
        "template": {
         "data": {
          "bar": [
           {
            "error_x": {
             "color": "#f2f5fa"
            },
            "error_y": {
             "color": "#f2f5fa"
            },
            "marker": {
             "line": {
              "color": "rgb(17,17,17)",
              "width": 0.5
             },
             "pattern": {
              "fillmode": "overlay",
              "size": 10,
              "solidity": 0.2
             }
            },
            "type": "bar"
           }
          ],
          "barpolar": [
           {
            "marker": {
             "line": {
              "color": "rgb(17,17,17)",
              "width": 0.5
             },
             "pattern": {
              "fillmode": "overlay",
              "size": 10,
              "solidity": 0.2
             }
            },
            "type": "barpolar"
           }
          ],
          "carpet": [
           {
            "aaxis": {
             "endlinecolor": "#A2B1C6",
             "gridcolor": "#506784",
             "linecolor": "#506784",
             "minorgridcolor": "#506784",
             "startlinecolor": "#A2B1C6"
            },
            "baxis": {
             "endlinecolor": "#A2B1C6",
             "gridcolor": "#506784",
             "linecolor": "#506784",
             "minorgridcolor": "#506784",
             "startlinecolor": "#A2B1C6"
            },
            "type": "carpet"
           }
          ],
          "choropleth": [
           {
            "colorbar": {
             "outlinewidth": 0,
             "ticks": ""
            },
            "type": "choropleth"
           }
          ],
          "contour": [
           {
            "colorbar": {
             "outlinewidth": 0,
             "ticks": ""
            },
            "colorscale": [
             [
              0,
              "#0d0887"
             ],
             [
              0.1111111111111111,
              "#46039f"
             ],
             [
              0.2222222222222222,
              "#7201a8"
             ],
             [
              0.3333333333333333,
              "#9c179e"
             ],
             [
              0.4444444444444444,
              "#bd3786"
             ],
             [
              0.5555555555555556,
              "#d8576b"
             ],
             [
              0.6666666666666666,
              "#ed7953"
             ],
             [
              0.7777777777777778,
              "#fb9f3a"
             ],
             [
              0.8888888888888888,
              "#fdca26"
             ],
             [
              1,
              "#f0f921"
             ]
            ],
            "type": "contour"
           }
          ],
          "contourcarpet": [
           {
            "colorbar": {
             "outlinewidth": 0,
             "ticks": ""
            },
            "type": "contourcarpet"
           }
          ],
          "heatmap": [
           {
            "colorbar": {
             "outlinewidth": 0,
             "ticks": ""
            },
            "colorscale": [
             [
              0,
              "#0d0887"
             ],
             [
              0.1111111111111111,
              "#46039f"
             ],
             [
              0.2222222222222222,
              "#7201a8"
             ],
             [
              0.3333333333333333,
              "#9c179e"
             ],
             [
              0.4444444444444444,
              "#bd3786"
             ],
             [
              0.5555555555555556,
              "#d8576b"
             ],
             [
              0.6666666666666666,
              "#ed7953"
             ],
             [
              0.7777777777777778,
              "#fb9f3a"
             ],
             [
              0.8888888888888888,
              "#fdca26"
             ],
             [
              1,
              "#f0f921"
             ]
            ],
            "type": "heatmap"
           }
          ],
          "heatmapgl": [
           {
            "colorbar": {
             "outlinewidth": 0,
             "ticks": ""
            },
            "colorscale": [
             [
              0,
              "#0d0887"
             ],
             [
              0.1111111111111111,
              "#46039f"
             ],
             [
              0.2222222222222222,
              "#7201a8"
             ],
             [
              0.3333333333333333,
              "#9c179e"
             ],
             [
              0.4444444444444444,
              "#bd3786"
             ],
             [
              0.5555555555555556,
              "#d8576b"
             ],
             [
              0.6666666666666666,
              "#ed7953"
             ],
             [
              0.7777777777777778,
              "#fb9f3a"
             ],
             [
              0.8888888888888888,
              "#fdca26"
             ],
             [
              1,
              "#f0f921"
             ]
            ],
            "type": "heatmapgl"
           }
          ],
          "histogram": [
           {
            "marker": {
             "pattern": {
              "fillmode": "overlay",
              "size": 10,
              "solidity": 0.2
             }
            },
            "type": "histogram"
           }
          ],
          "histogram2d": [
           {
            "colorbar": {
             "outlinewidth": 0,
             "ticks": ""
            },
            "colorscale": [
             [
              0,
              "#0d0887"
             ],
             [
              0.1111111111111111,
              "#46039f"
             ],
             [
              0.2222222222222222,
              "#7201a8"
             ],
             [
              0.3333333333333333,
              "#9c179e"
             ],
             [
              0.4444444444444444,
              "#bd3786"
             ],
             [
              0.5555555555555556,
              "#d8576b"
             ],
             [
              0.6666666666666666,
              "#ed7953"
             ],
             [
              0.7777777777777778,
              "#fb9f3a"
             ],
             [
              0.8888888888888888,
              "#fdca26"
             ],
             [
              1,
              "#f0f921"
             ]
            ],
            "type": "histogram2d"
           }
          ],
          "histogram2dcontour": [
           {
            "colorbar": {
             "outlinewidth": 0,
             "ticks": ""
            },
            "colorscale": [
             [
              0,
              "#0d0887"
             ],
             [
              0.1111111111111111,
              "#46039f"
             ],
             [
              0.2222222222222222,
              "#7201a8"
             ],
             [
              0.3333333333333333,
              "#9c179e"
             ],
             [
              0.4444444444444444,
              "#bd3786"
             ],
             [
              0.5555555555555556,
              "#d8576b"
             ],
             [
              0.6666666666666666,
              "#ed7953"
             ],
             [
              0.7777777777777778,
              "#fb9f3a"
             ],
             [
              0.8888888888888888,
              "#fdca26"
             ],
             [
              1,
              "#f0f921"
             ]
            ],
            "type": "histogram2dcontour"
           }
          ],
          "mesh3d": [
           {
            "colorbar": {
             "outlinewidth": 0,
             "ticks": ""
            },
            "type": "mesh3d"
           }
          ],
          "parcoords": [
           {
            "line": {
             "colorbar": {
              "outlinewidth": 0,
              "ticks": ""
             }
            },
            "type": "parcoords"
           }
          ],
          "pie": [
           {
            "automargin": true,
            "type": "pie"
           }
          ],
          "scatter": [
           {
            "marker": {
             "line": {
              "color": "#283442"
             }
            },
            "type": "scatter"
           }
          ],
          "scatter3d": [
           {
            "line": {
             "colorbar": {
              "outlinewidth": 0,
              "ticks": ""
             }
            },
            "marker": {
             "colorbar": {
              "outlinewidth": 0,
              "ticks": ""
             }
            },
            "type": "scatter3d"
           }
          ],
          "scattercarpet": [
           {
            "marker": {
             "colorbar": {
              "outlinewidth": 0,
              "ticks": ""
             }
            },
            "type": "scattercarpet"
           }
          ],
          "scattergeo": [
           {
            "marker": {
             "colorbar": {
              "outlinewidth": 0,
              "ticks": ""
             }
            },
            "type": "scattergeo"
           }
          ],
          "scattergl": [
           {
            "marker": {
             "line": {
              "color": "#283442"
             }
            },
            "type": "scattergl"
           }
          ],
          "scattermapbox": [
           {
            "marker": {
             "colorbar": {
              "outlinewidth": 0,
              "ticks": ""
             }
            },
            "type": "scattermapbox"
           }
          ],
          "scatterpolar": [
           {
            "marker": {
             "colorbar": {
              "outlinewidth": 0,
              "ticks": ""
             }
            },
            "type": "scatterpolar"
           }
          ],
          "scatterpolargl": [
           {
            "marker": {
             "colorbar": {
              "outlinewidth": 0,
              "ticks": ""
             }
            },
            "type": "scatterpolargl"
           }
          ],
          "scatterternary": [
           {
            "marker": {
             "colorbar": {
              "outlinewidth": 0,
              "ticks": ""
             }
            },
            "type": "scatterternary"
           }
          ],
          "surface": [
           {
            "colorbar": {
             "outlinewidth": 0,
             "ticks": ""
            },
            "colorscale": [
             [
              0,
              "#0d0887"
             ],
             [
              0.1111111111111111,
              "#46039f"
             ],
             [
              0.2222222222222222,
              "#7201a8"
             ],
             [
              0.3333333333333333,
              "#9c179e"
             ],
             [
              0.4444444444444444,
              "#bd3786"
             ],
             [
              0.5555555555555556,
              "#d8576b"
             ],
             [
              0.6666666666666666,
              "#ed7953"
             ],
             [
              0.7777777777777778,
              "#fb9f3a"
             ],
             [
              0.8888888888888888,
              "#fdca26"
             ],
             [
              1,
              "#f0f921"
             ]
            ],
            "type": "surface"
           }
          ],
          "table": [
           {
            "cells": {
             "fill": {
              "color": "#506784"
             },
             "line": {
              "color": "rgb(17,17,17)"
             }
            },
            "header": {
             "fill": {
              "color": "#2a3f5f"
             },
             "line": {
              "color": "rgb(17,17,17)"
             }
            },
            "type": "table"
           }
          ]
         },
         "layout": {
          "annotationdefaults": {
           "arrowcolor": "#f2f5fa",
           "arrowhead": 0,
           "arrowwidth": 1
          },
          "autotypenumbers": "strict",
          "coloraxis": {
           "colorbar": {
            "outlinewidth": 0,
            "ticks": ""
           }
          },
          "colorscale": {
           "diverging": [
            [
             0,
             "#8e0152"
            ],
            [
             0.1,
             "#c51b7d"
            ],
            [
             0.2,
             "#de77ae"
            ],
            [
             0.3,
             "#f1b6da"
            ],
            [
             0.4,
             "#fde0ef"
            ],
            [
             0.5,
             "#f7f7f7"
            ],
            [
             0.6,
             "#e6f5d0"
            ],
            [
             0.7,
             "#b8e186"
            ],
            [
             0.8,
             "#7fbc41"
            ],
            [
             0.9,
             "#4d9221"
            ],
            [
             1,
             "#276419"
            ]
           ],
           "sequential": [
            [
             0,
             "#0d0887"
            ],
            [
             0.1111111111111111,
             "#46039f"
            ],
            [
             0.2222222222222222,
             "#7201a8"
            ],
            [
             0.3333333333333333,
             "#9c179e"
            ],
            [
             0.4444444444444444,
             "#bd3786"
            ],
            [
             0.5555555555555556,
             "#d8576b"
            ],
            [
             0.6666666666666666,
             "#ed7953"
            ],
            [
             0.7777777777777778,
             "#fb9f3a"
            ],
            [
             0.8888888888888888,
             "#fdca26"
            ],
            [
             1,
             "#f0f921"
            ]
           ],
           "sequentialminus": [
            [
             0,
             "#0d0887"
            ],
            [
             0.1111111111111111,
             "#46039f"
            ],
            [
             0.2222222222222222,
             "#7201a8"
            ],
            [
             0.3333333333333333,
             "#9c179e"
            ],
            [
             0.4444444444444444,
             "#bd3786"
            ],
            [
             0.5555555555555556,
             "#d8576b"
            ],
            [
             0.6666666666666666,
             "#ed7953"
            ],
            [
             0.7777777777777778,
             "#fb9f3a"
            ],
            [
             0.8888888888888888,
             "#fdca26"
            ],
            [
             1,
             "#f0f921"
            ]
           ]
          },
          "colorway": [
           "#636efa",
           "#EF553B",
           "#00cc96",
           "#ab63fa",
           "#FFA15A",
           "#19d3f3",
           "#FF6692",
           "#B6E880",
           "#FF97FF",
           "#FECB52"
          ],
          "font": {
           "color": "#f2f5fa"
          },
          "geo": {
           "bgcolor": "rgb(17,17,17)",
           "lakecolor": "rgb(17,17,17)",
           "landcolor": "rgb(17,17,17)",
           "showlakes": true,
           "showland": true,
           "subunitcolor": "#506784"
          },
          "hoverlabel": {
           "align": "left"
          },
          "hovermode": "closest",
          "mapbox": {
           "style": "dark"
          },
          "paper_bgcolor": "rgb(17,17,17)",
          "plot_bgcolor": "rgb(17,17,17)",
          "polar": {
           "angularaxis": {
            "gridcolor": "#506784",
            "linecolor": "#506784",
            "ticks": ""
           },
           "bgcolor": "rgb(17,17,17)",
           "radialaxis": {
            "gridcolor": "#506784",
            "linecolor": "#506784",
            "ticks": ""
           }
          },
          "scene": {
           "xaxis": {
            "backgroundcolor": "rgb(17,17,17)",
            "gridcolor": "#506784",
            "gridwidth": 2,
            "linecolor": "#506784",
            "showbackground": true,
            "ticks": "",
            "zerolinecolor": "#C8D4E3"
           },
           "yaxis": {
            "backgroundcolor": "rgb(17,17,17)",
            "gridcolor": "#506784",
            "gridwidth": 2,
            "linecolor": "#506784",
            "showbackground": true,
            "ticks": "",
            "zerolinecolor": "#C8D4E3"
           },
           "zaxis": {
            "backgroundcolor": "rgb(17,17,17)",
            "gridcolor": "#506784",
            "gridwidth": 2,
            "linecolor": "#506784",
            "showbackground": true,
            "ticks": "",
            "zerolinecolor": "#C8D4E3"
           }
          },
          "shapedefaults": {
           "line": {
            "color": "#f2f5fa"
           }
          },
          "sliderdefaults": {
           "bgcolor": "#C8D4E3",
           "bordercolor": "rgb(17,17,17)",
           "borderwidth": 1,
           "tickwidth": 0
          },
          "ternary": {
           "aaxis": {
            "gridcolor": "#506784",
            "linecolor": "#506784",
            "ticks": ""
           },
           "baxis": {
            "gridcolor": "#506784",
            "linecolor": "#506784",
            "ticks": ""
           },
           "bgcolor": "rgb(17,17,17)",
           "caxis": {
            "gridcolor": "#506784",
            "linecolor": "#506784",
            "ticks": ""
           }
          },
          "title": {
           "x": 0.05
          },
          "updatemenudefaults": {
           "bgcolor": "#506784",
           "borderwidth": 0
          },
          "xaxis": {
           "automargin": true,
           "gridcolor": "#283442",
           "linecolor": "#506784",
           "ticks": "",
           "title": {
            "standoff": 15
           },
           "zerolinecolor": "#283442",
           "zerolinewidth": 2
          },
          "yaxis": {
           "automargin": true,
           "gridcolor": "#283442",
           "linecolor": "#506784",
           "ticks": "",
           "title": {
            "standoff": 15
           },
           "zerolinecolor": "#283442",
           "zerolinewidth": 2
          }
         }
        },
        "title": {
         "text": "Ratings by Director"
        },
        "xaxis": {
         "anchor": "y",
         "domain": [
          0,
          1
         ],
         "title": {
          "text": "rating"
         }
        },
        "yaxis": {
         "anchor": "x",
         "categoryarray": [
          "Peter Hoar",
          "Toby Haynes",
          "Adam Smith",
          "Hettie MacDonald",
          "Catherine Morshead",
          "Richard Senior",
          "Nick Hurran",
          "Daniel O'Hara",
          "Colin Teague",
          "Colm McCarthy",
          "Rachel Talalay",
          "Jamie Payne",
          "Ben Wheatley",
          "Steve Hughes",
          "Daniel Nettheim",
          "Alice Troughton",
          "0",
          "Mat King",
          "James Hawes",
          "Graeme Harper",
          "Ed Bazalgette",
          "Stephen Woolfenden",
          "Saul Metzstein",
          "Julian Simpson",
          "Farren Blackburn",
          "Douglas Mackinnon",
          "Bill Anderson",
          "Ashley Way",
          "Lawrence Gough",
          "Joe Ahearne",
          "Brian Grant",
          "Wayne Yip",
          "Paul Murphy",
          "Jonny Campbell",
          "Paul Wilmshurst",
          "Keith Boak",
          "James Strong",
          "Charles Palmer",
          "Jeremy Webb",
          "Andrew Gunn",
          "Richard Clark",
          "Mark Tonderai",
          "Dan Zeff",
          "Sheree Folkson",
          "Euros Lyn",
          "Wayne Che Yip",
          "Justin Molotnikov",
          "Jamie Childs",
          "Sallie Aprahamian",
          "Jennifer Perrott"
         ],
         "categoryorder": "array",
         "domain": [
          0,
          1
         ],
         "title": {
          "text": "Director"
         }
        }
       }
      }
     },
     "metadata": {},
     "output_type": "display_data"
    }
   ],
   "source": [
    "fig = px.box(df.sort_values(['rating','Director']), \n",
    "    x='rating', \n",
    "    y='Director',\n",
    "    color='Director',\n",
    "    points='all',\n",
    "    title='Ratings by Director',\n",
    "    color_discrete_sequence=theme_discrete)\n",
    "\n",
    "fig.update_traces(quartilemethod='linear', jitter=1, showlegend=False)\n",
    "\n",
    "format_and_show_tall(fig)"
   ]
  },
  {
   "cell_type": "code",
   "execution_count": 77,
   "metadata": {},
   "outputs": [
    {
     "data": {
      "application/vnd.plotly.v1+json": {
       "config": {
        "plotlyServerURL": "https://plot.ly"
       },
       "data": [
        {
         "alignmentgroup": "True",
         "boxpoints": "all",
         "hovertemplate": "Producer=%{y}<br>rating=%{x}<extra></extra>",
         "jitter": 1,
         "legendgroup": "Alex Mercer",
         "marker": {
          "color": "rgb(95, 70, 144)"
         },
         "name": "Alex Mercer",
         "notched": false,
         "offsetgroup": "Alex Mercer",
         "orientation": "h",
         "quartilemethod": "linear",
         "showlegend": false,
         "type": "box",
         "x": [
          5.2,
          5.3,
          5.5,
          5.9,
          6,
          6.4,
          6.4,
          6.6,
          7.1,
          7.1
         ],
         "x0": " ",
         "xaxis": "x",
         "y": [
          "Alex Mercer",
          "Alex Mercer",
          "Alex Mercer",
          "Alex Mercer",
          "Alex Mercer",
          "Alex Mercer",
          "Alex Mercer",
          "Alex Mercer",
          "Alex Mercer",
          "Alex Mercer"
         ],
         "y0": " ",
         "yaxis": "y"
        },
        {
         "alignmentgroup": "True",
         "boxpoints": "all",
         "hovertemplate": "Producer=%{y}<br>rating=%{x}<extra></extra>",
         "jitter": 1,
         "legendgroup": "Nikki Wilson",
         "marker": {
          "color": "rgb(29, 105, 150)"
         },
         "name": "Nikki Wilson",
         "notched": false,
         "offsetgroup": "Nikki Wilson",
         "orientation": "h",
         "quartilemethod": "linear",
         "showlegend": false,
         "type": "box",
         "x": [
          6,
          7.1,
          7.1,
          7.2,
          7.3,
          7.4,
          7.5,
          7.8,
          8,
          8.1,
          8.5,
          8.6,
          8.6
         ],
         "x0": " ",
         "xaxis": "x",
         "y": [
          "Nikki Wilson",
          "Nikki Wilson",
          "Nikki Wilson",
          "Nikki Wilson",
          "Nikki Wilson",
          "Nikki Wilson",
          "Nikki Wilson",
          "Nikki Wilson",
          "Nikki Wilson",
          "Nikki Wilson",
          "Nikki Wilson",
          "Nikki Wilson",
          "Nikki Wilson"
         ],
         "y0": " ",
         "yaxis": "y"
        },
        {
         "alignmentgroup": "True",
         "boxpoints": "all",
         "hovertemplate": "Producer=%{y}<br>rating=%{x}<extra></extra>",
         "jitter": 1,
         "legendgroup": "Paul Frift",
         "marker": {
          "color": "rgb(56, 166, 165)"
         },
         "name": "Paul Frift",
         "notched": false,
         "offsetgroup": "Paul Frift",
         "orientation": "h",
         "quartilemethod": "linear",
         "showlegend": false,
         "type": "box",
         "x": [
          6.1
         ],
         "x0": " ",
         "xaxis": "x",
         "y": [
          "Paul Frift"
         ],
         "y0": " ",
         "yaxis": "y"
        },
        {
         "alignmentgroup": "True",
         "boxpoints": "all",
         "hovertemplate": "Producer=%{y}<br>rating=%{x}<extra></extra>",
         "jitter": 1,
         "legendgroup": "Phil Collinson",
         "marker": {
          "color": "rgb(15, 133, 84)"
         },
         "name": "Phil Collinson",
         "notched": false,
         "offsetgroup": "Phil Collinson",
         "orientation": "h",
         "quartilemethod": "linear",
         "showlegend": false,
         "type": "box",
         "x": [
          6.1,
          6.2,
          6.7,
          6.9,
          7,
          7,
          7,
          7.1,
          7.2,
          7.2,
          7.5,
          7.5,
          7.6,
          7.6,
          7.6,
          7.6,
          7.7,
          7.7,
          7.8,
          7.8,
          7.8,
          7.9,
          7.9,
          8,
          8.1,
          8.1,
          8.2,
          8.4,
          8.4,
          8.4,
          8.5,
          8.7,
          8.7,
          8.7,
          8.7,
          8.8,
          8.8,
          9,
          9.1,
          9.1,
          9.1,
          9.1,
          9.2,
          9.3,
          9.3,
          9.4,
          9.5,
          9.8
         ],
         "x0": " ",
         "xaxis": "x",
         "y": [
          "Phil Collinson",
          "Phil Collinson",
          "Phil Collinson",
          "Phil Collinson",
          "Phil Collinson",
          "Phil Collinson",
          "Phil Collinson",
          "Phil Collinson",
          "Phil Collinson",
          "Phil Collinson",
          "Phil Collinson",
          "Phil Collinson",
          "Phil Collinson",
          "Phil Collinson",
          "Phil Collinson",
          "Phil Collinson",
          "Phil Collinson",
          "Phil Collinson",
          "Phil Collinson",
          "Phil Collinson",
          "Phil Collinson",
          "Phil Collinson",
          "Phil Collinson",
          "Phil Collinson",
          "Phil Collinson",
          "Phil Collinson",
          "Phil Collinson",
          "Phil Collinson",
          "Phil Collinson",
          "Phil Collinson",
          "Phil Collinson",
          "Phil Collinson",
          "Phil Collinson",
          "Phil Collinson",
          "Phil Collinson",
          "Phil Collinson",
          "Phil Collinson",
          "Phil Collinson",
          "Phil Collinson",
          "Phil Collinson",
          "Phil Collinson",
          "Phil Collinson",
          "Phil Collinson",
          "Phil Collinson",
          "Phil Collinson",
          "Phil Collinson",
          "Phil Collinson",
          "Phil Collinson"
         ],
         "y0": " ",
         "yaxis": "y"
        },
        {
         "alignmentgroup": "True",
         "boxpoints": "all",
         "hovertemplate": "Producer=%{y}<br>rating=%{x}<extra></extra>",
         "jitter": 1,
         "legendgroup": "Nicola Wilson",
         "marker": {
          "color": "rgb(115, 175, 72)"
         },
         "name": "Nicola Wilson",
         "notched": false,
         "offsetgroup": "Nicola Wilson",
         "orientation": "h",
         "quartilemethod": "linear",
         "showlegend": false,
         "type": "box",
         "x": [
          6.2,
          7
         ],
         "x0": " ",
         "xaxis": "x",
         "y": [
          "Nicola Wilson",
          "Nicola Wilson"
         ],
         "y0": " ",
         "yaxis": "y"
        },
        {
         "alignmentgroup": "True",
         "boxpoints": "all",
         "hovertemplate": "Producer=%{y}<br>rating=%{x}<extra></extra>",
         "jitter": 1,
         "legendgroup": "Marcus Wilson",
         "marker": {
          "color": "rgb(237, 173, 8)"
         },
         "name": "Marcus Wilson",
         "notched": false,
         "offsetgroup": "Marcus Wilson",
         "orientation": "h",
         "quartilemethod": "linear",
         "showlegend": false,
         "type": "box",
         "x": [
          6.8,
          7.3,
          7.3,
          7.3,
          7.4,
          7.5,
          7.5,
          7.5,
          7.5,
          7.6,
          7.8,
          8.1,
          8.1,
          8.5,
          8.5,
          8.6,
          8.7,
          8.9,
          8.9,
          9,
          9.1
         ],
         "x0": " ",
         "xaxis": "x",
         "y": [
          "Marcus Wilson",
          "Marcus Wilson",
          "Marcus Wilson",
          "Marcus Wilson",
          "Marcus Wilson",
          "Marcus Wilson",
          "Marcus Wilson",
          "Marcus Wilson",
          "Marcus Wilson",
          "Marcus Wilson",
          "Marcus Wilson",
          "Marcus Wilson",
          "Marcus Wilson",
          "Marcus Wilson",
          "Marcus Wilson",
          "Marcus Wilson",
          "Marcus Wilson",
          "Marcus Wilson",
          "Marcus Wilson",
          "Marcus Wilson",
          "Marcus Wilson"
         ],
         "y0": " ",
         "yaxis": "y"
        },
        {
         "alignmentgroup": "True",
         "boxpoints": "all",
         "hovertemplate": "Producer=%{y}<br>rating=%{x}<extra></extra>",
         "jitter": 1,
         "legendgroup": "Peter Bennett",
         "marker": {
          "color": "rgb(225, 124, 5)"
         },
         "name": "Peter Bennett",
         "notched": false,
         "offsetgroup": "Peter Bennett",
         "orientation": "h",
         "quartilemethod": "linear",
         "showlegend": false,
         "type": "box",
         "x": [
          6.8,
          7,
          7.2,
          7.3,
          7.5,
          7.5,
          7.6,
          7.7,
          7.9,
          7.9,
          7.9,
          8,
          8.5,
          8.5,
          8.5,
          8.5,
          8.6,
          8.7,
          8.7,
          8.9,
          9,
          9.1,
          9.2,
          9.2,
          9.6
         ],
         "x0": " ",
         "xaxis": "x",
         "y": [
          "Peter Bennett",
          "Peter Bennett",
          "Peter Bennett",
          "Peter Bennett",
          "Peter Bennett",
          "Peter Bennett",
          "Peter Bennett",
          "Peter Bennett",
          "Peter Bennett",
          "Peter Bennett",
          "Peter Bennett",
          "Peter Bennett",
          "Peter Bennett",
          "Peter Bennett",
          "Peter Bennett",
          "Peter Bennett",
          "Peter Bennett",
          "Peter Bennett",
          "Peter Bennett",
          "Peter Bennett",
          "Peter Bennett",
          "Peter Bennett",
          "Peter Bennett",
          "Peter Bennett",
          "Peter Bennett"
         ],
         "y0": " ",
         "yaxis": "y"
        },
        {
         "alignmentgroup": "True",
         "boxpoints": "all",
         "hovertemplate": "Producer=%{y}<br>rating=%{x}<extra></extra>",
         "jitter": 1,
         "legendgroup": "Patrick Schweitzer",
         "marker": {
          "color": "rgb(204, 80, 62)"
         },
         "name": "Patrick Schweitzer",
         "notched": false,
         "offsetgroup": "Patrick Schweitzer",
         "orientation": "h",
         "quartilemethod": "linear",
         "showlegend": false,
         "type": "box",
         "x": [
          7.1,
          9.3
         ],
         "x0": " ",
         "xaxis": "x",
         "y": [
          "Patrick Schweitzer",
          "Patrick Schweitzer"
         ],
         "y0": " ",
         "yaxis": "y"
        },
        {
         "alignmentgroup": "True",
         "boxpoints": "all",
         "hovertemplate": "Producer=%{y}<br>rating=%{x}<extra></extra>",
         "jitter": 1,
         "legendgroup": "Sanne Wohlenberg",
         "marker": {
          "color": "rgb(148, 52, 110)"
         },
         "name": "Sanne Wohlenberg",
         "notched": false,
         "offsetgroup": "Sanne Wohlenberg",
         "orientation": "h",
         "quartilemethod": "linear",
         "showlegend": false,
         "type": "box",
         "x": [
          7.1,
          8.6,
          9
         ],
         "x0": " ",
         "xaxis": "x",
         "y": [
          "Sanne Wohlenberg",
          "Sanne Wohlenberg",
          "Sanne Wohlenberg"
         ],
         "y0": " ",
         "yaxis": "y"
        },
        {
         "alignmentgroup": "True",
         "boxpoints": "all",
         "hovertemplate": "Producer=%{y}<br>rating=%{x}<extra></extra>",
         "jitter": 1,
         "legendgroup": "Denise Paul",
         "marker": {
          "color": "rgb(111, 64, 112)"
         },
         "name": "Denise Paul",
         "notched": false,
         "offsetgroup": "Denise Paul",
         "orientation": "h",
         "quartilemethod": "linear",
         "showlegend": false,
         "type": "box",
         "x": [
          7.4,
          7.4,
          8,
          9.1
         ],
         "x0": " ",
         "xaxis": "x",
         "y": [
          "Denise Paul",
          "Denise Paul",
          "Denise Paul",
          "Denise Paul"
         ],
         "y0": " ",
         "yaxis": "y"
        },
        {
         "alignmentgroup": "True",
         "boxpoints": "all",
         "hovertemplate": "Producer=%{y}<br>rating=%{x}<extra></extra>",
         "jitter": 1,
         "legendgroup": "Susie Liggat",
         "marker": {
          "color": "rgb(102, 102, 102)"
         },
         "name": "Susie Liggat",
         "notched": false,
         "offsetgroup": "Susie Liggat",
         "orientation": "h",
         "quartilemethod": "linear",
         "showlegend": false,
         "type": "box",
         "x": [
          7.5,
          7.6,
          7.8,
          8.1,
          8.9,
          9,
          9.2
         ],
         "x0": " ",
         "xaxis": "x",
         "y": [
          "Susie Liggat",
          "Susie Liggat",
          "Susie Liggat",
          "Susie Liggat",
          "Susie Liggat",
          "Susie Liggat",
          "Susie Liggat"
         ],
         "y0": " ",
         "yaxis": "y"
        },
        {
         "alignmentgroup": "True",
         "boxpoints": "all",
         "hovertemplate": "Producer=%{y}<br>rating=%{x}<extra></extra>",
         "jitter": 1,
         "legendgroup": "Derek Ritchie",
         "marker": {
          "color": "rgb(95, 70, 144)"
         },
         "name": "Derek Ritchie",
         "notched": false,
         "offsetgroup": "Derek Ritchie",
         "orientation": "h",
         "quartilemethod": "linear",
         "showlegend": false,
         "type": "box",
         "x": [
          7.6,
          7.7,
          8.1,
          8.3
         ],
         "x0": " ",
         "xaxis": "x",
         "y": [
          "Derek Ritchie",
          "Derek Ritchie",
          "Derek Ritchie",
          "Derek Ritchie"
         ],
         "y0": " ",
         "yaxis": "y"
        },
        {
         "alignmentgroup": "True",
         "boxpoints": "all",
         "hovertemplate": "Producer=%{y}<br>rating=%{x}<extra></extra>",
         "jitter": 1,
         "legendgroup": "0",
         "marker": {
          "color": "rgb(29, 105, 150)"
         },
         "name": "0",
         "notched": false,
         "offsetgroup": "0",
         "orientation": "h",
         "quartilemethod": "linear",
         "showlegend": false,
         "type": "box",
         "x": [
          7.7
         ],
         "x0": " ",
         "xaxis": "x",
         "y": [
          "0"
         ],
         "y0": " ",
         "yaxis": "y"
        },
        {
         "alignmentgroup": "True",
         "boxpoints": "all",
         "hovertemplate": "Producer=%{y}<br>rating=%{x}<extra></extra>",
         "jitter": 1,
         "legendgroup": "Tracie Simpson",
         "marker": {
          "color": "rgb(56, 166, 165)"
         },
         "name": "Tracie Simpson",
         "notched": false,
         "offsetgroup": "Tracie Simpson",
         "orientation": "h",
         "quartilemethod": "linear",
         "showlegend": false,
         "type": "box",
         "x": [
          8.2,
          8.3,
          8.6,
          8.7,
          8.8
         ],
         "x0": " ",
         "xaxis": "x",
         "y": [
          "Tracie Simpson",
          "Tracie Simpson",
          "Tracie Simpson",
          "Tracie Simpson",
          "Tracie Simpson"
         ],
         "y0": " ",
         "yaxis": "y"
        }
       ],
       "layout": {
        "boxmode": "overlay",
        "height": 550,
        "legend": {
         "title": {
          "text": "Producer"
         },
         "tracegroupgap": 0
        },
        "template": {
         "data": {
          "bar": [
           {
            "error_x": {
             "color": "#f2f5fa"
            },
            "error_y": {
             "color": "#f2f5fa"
            },
            "marker": {
             "line": {
              "color": "rgb(17,17,17)",
              "width": 0.5
             },
             "pattern": {
              "fillmode": "overlay",
              "size": 10,
              "solidity": 0.2
             }
            },
            "type": "bar"
           }
          ],
          "barpolar": [
           {
            "marker": {
             "line": {
              "color": "rgb(17,17,17)",
              "width": 0.5
             },
             "pattern": {
              "fillmode": "overlay",
              "size": 10,
              "solidity": 0.2
             }
            },
            "type": "barpolar"
           }
          ],
          "carpet": [
           {
            "aaxis": {
             "endlinecolor": "#A2B1C6",
             "gridcolor": "#506784",
             "linecolor": "#506784",
             "minorgridcolor": "#506784",
             "startlinecolor": "#A2B1C6"
            },
            "baxis": {
             "endlinecolor": "#A2B1C6",
             "gridcolor": "#506784",
             "linecolor": "#506784",
             "minorgridcolor": "#506784",
             "startlinecolor": "#A2B1C6"
            },
            "type": "carpet"
           }
          ],
          "choropleth": [
           {
            "colorbar": {
             "outlinewidth": 0,
             "ticks": ""
            },
            "type": "choropleth"
           }
          ],
          "contour": [
           {
            "colorbar": {
             "outlinewidth": 0,
             "ticks": ""
            },
            "colorscale": [
             [
              0,
              "#0d0887"
             ],
             [
              0.1111111111111111,
              "#46039f"
             ],
             [
              0.2222222222222222,
              "#7201a8"
             ],
             [
              0.3333333333333333,
              "#9c179e"
             ],
             [
              0.4444444444444444,
              "#bd3786"
             ],
             [
              0.5555555555555556,
              "#d8576b"
             ],
             [
              0.6666666666666666,
              "#ed7953"
             ],
             [
              0.7777777777777778,
              "#fb9f3a"
             ],
             [
              0.8888888888888888,
              "#fdca26"
             ],
             [
              1,
              "#f0f921"
             ]
            ],
            "type": "contour"
           }
          ],
          "contourcarpet": [
           {
            "colorbar": {
             "outlinewidth": 0,
             "ticks": ""
            },
            "type": "contourcarpet"
           }
          ],
          "heatmap": [
           {
            "colorbar": {
             "outlinewidth": 0,
             "ticks": ""
            },
            "colorscale": [
             [
              0,
              "#0d0887"
             ],
             [
              0.1111111111111111,
              "#46039f"
             ],
             [
              0.2222222222222222,
              "#7201a8"
             ],
             [
              0.3333333333333333,
              "#9c179e"
             ],
             [
              0.4444444444444444,
              "#bd3786"
             ],
             [
              0.5555555555555556,
              "#d8576b"
             ],
             [
              0.6666666666666666,
              "#ed7953"
             ],
             [
              0.7777777777777778,
              "#fb9f3a"
             ],
             [
              0.8888888888888888,
              "#fdca26"
             ],
             [
              1,
              "#f0f921"
             ]
            ],
            "type": "heatmap"
           }
          ],
          "heatmapgl": [
           {
            "colorbar": {
             "outlinewidth": 0,
             "ticks": ""
            },
            "colorscale": [
             [
              0,
              "#0d0887"
             ],
             [
              0.1111111111111111,
              "#46039f"
             ],
             [
              0.2222222222222222,
              "#7201a8"
             ],
             [
              0.3333333333333333,
              "#9c179e"
             ],
             [
              0.4444444444444444,
              "#bd3786"
             ],
             [
              0.5555555555555556,
              "#d8576b"
             ],
             [
              0.6666666666666666,
              "#ed7953"
             ],
             [
              0.7777777777777778,
              "#fb9f3a"
             ],
             [
              0.8888888888888888,
              "#fdca26"
             ],
             [
              1,
              "#f0f921"
             ]
            ],
            "type": "heatmapgl"
           }
          ],
          "histogram": [
           {
            "marker": {
             "pattern": {
              "fillmode": "overlay",
              "size": 10,
              "solidity": 0.2
             }
            },
            "type": "histogram"
           }
          ],
          "histogram2d": [
           {
            "colorbar": {
             "outlinewidth": 0,
             "ticks": ""
            },
            "colorscale": [
             [
              0,
              "#0d0887"
             ],
             [
              0.1111111111111111,
              "#46039f"
             ],
             [
              0.2222222222222222,
              "#7201a8"
             ],
             [
              0.3333333333333333,
              "#9c179e"
             ],
             [
              0.4444444444444444,
              "#bd3786"
             ],
             [
              0.5555555555555556,
              "#d8576b"
             ],
             [
              0.6666666666666666,
              "#ed7953"
             ],
             [
              0.7777777777777778,
              "#fb9f3a"
             ],
             [
              0.8888888888888888,
              "#fdca26"
             ],
             [
              1,
              "#f0f921"
             ]
            ],
            "type": "histogram2d"
           }
          ],
          "histogram2dcontour": [
           {
            "colorbar": {
             "outlinewidth": 0,
             "ticks": ""
            },
            "colorscale": [
             [
              0,
              "#0d0887"
             ],
             [
              0.1111111111111111,
              "#46039f"
             ],
             [
              0.2222222222222222,
              "#7201a8"
             ],
             [
              0.3333333333333333,
              "#9c179e"
             ],
             [
              0.4444444444444444,
              "#bd3786"
             ],
             [
              0.5555555555555556,
              "#d8576b"
             ],
             [
              0.6666666666666666,
              "#ed7953"
             ],
             [
              0.7777777777777778,
              "#fb9f3a"
             ],
             [
              0.8888888888888888,
              "#fdca26"
             ],
             [
              1,
              "#f0f921"
             ]
            ],
            "type": "histogram2dcontour"
           }
          ],
          "mesh3d": [
           {
            "colorbar": {
             "outlinewidth": 0,
             "ticks": ""
            },
            "type": "mesh3d"
           }
          ],
          "parcoords": [
           {
            "line": {
             "colorbar": {
              "outlinewidth": 0,
              "ticks": ""
             }
            },
            "type": "parcoords"
           }
          ],
          "pie": [
           {
            "automargin": true,
            "type": "pie"
           }
          ],
          "scatter": [
           {
            "marker": {
             "line": {
              "color": "#283442"
             }
            },
            "type": "scatter"
           }
          ],
          "scatter3d": [
           {
            "line": {
             "colorbar": {
              "outlinewidth": 0,
              "ticks": ""
             }
            },
            "marker": {
             "colorbar": {
              "outlinewidth": 0,
              "ticks": ""
             }
            },
            "type": "scatter3d"
           }
          ],
          "scattercarpet": [
           {
            "marker": {
             "colorbar": {
              "outlinewidth": 0,
              "ticks": ""
             }
            },
            "type": "scattercarpet"
           }
          ],
          "scattergeo": [
           {
            "marker": {
             "colorbar": {
              "outlinewidth": 0,
              "ticks": ""
             }
            },
            "type": "scattergeo"
           }
          ],
          "scattergl": [
           {
            "marker": {
             "line": {
              "color": "#283442"
             }
            },
            "type": "scattergl"
           }
          ],
          "scattermapbox": [
           {
            "marker": {
             "colorbar": {
              "outlinewidth": 0,
              "ticks": ""
             }
            },
            "type": "scattermapbox"
           }
          ],
          "scatterpolar": [
           {
            "marker": {
             "colorbar": {
              "outlinewidth": 0,
              "ticks": ""
             }
            },
            "type": "scatterpolar"
           }
          ],
          "scatterpolargl": [
           {
            "marker": {
             "colorbar": {
              "outlinewidth": 0,
              "ticks": ""
             }
            },
            "type": "scatterpolargl"
           }
          ],
          "scatterternary": [
           {
            "marker": {
             "colorbar": {
              "outlinewidth": 0,
              "ticks": ""
             }
            },
            "type": "scatterternary"
           }
          ],
          "surface": [
           {
            "colorbar": {
             "outlinewidth": 0,
             "ticks": ""
            },
            "colorscale": [
             [
              0,
              "#0d0887"
             ],
             [
              0.1111111111111111,
              "#46039f"
             ],
             [
              0.2222222222222222,
              "#7201a8"
             ],
             [
              0.3333333333333333,
              "#9c179e"
             ],
             [
              0.4444444444444444,
              "#bd3786"
             ],
             [
              0.5555555555555556,
              "#d8576b"
             ],
             [
              0.6666666666666666,
              "#ed7953"
             ],
             [
              0.7777777777777778,
              "#fb9f3a"
             ],
             [
              0.8888888888888888,
              "#fdca26"
             ],
             [
              1,
              "#f0f921"
             ]
            ],
            "type": "surface"
           }
          ],
          "table": [
           {
            "cells": {
             "fill": {
              "color": "#506784"
             },
             "line": {
              "color": "rgb(17,17,17)"
             }
            },
            "header": {
             "fill": {
              "color": "#2a3f5f"
             },
             "line": {
              "color": "rgb(17,17,17)"
             }
            },
            "type": "table"
           }
          ]
         },
         "layout": {
          "annotationdefaults": {
           "arrowcolor": "#f2f5fa",
           "arrowhead": 0,
           "arrowwidth": 1
          },
          "autotypenumbers": "strict",
          "coloraxis": {
           "colorbar": {
            "outlinewidth": 0,
            "ticks": ""
           }
          },
          "colorscale": {
           "diverging": [
            [
             0,
             "#8e0152"
            ],
            [
             0.1,
             "#c51b7d"
            ],
            [
             0.2,
             "#de77ae"
            ],
            [
             0.3,
             "#f1b6da"
            ],
            [
             0.4,
             "#fde0ef"
            ],
            [
             0.5,
             "#f7f7f7"
            ],
            [
             0.6,
             "#e6f5d0"
            ],
            [
             0.7,
             "#b8e186"
            ],
            [
             0.8,
             "#7fbc41"
            ],
            [
             0.9,
             "#4d9221"
            ],
            [
             1,
             "#276419"
            ]
           ],
           "sequential": [
            [
             0,
             "#0d0887"
            ],
            [
             0.1111111111111111,
             "#46039f"
            ],
            [
             0.2222222222222222,
             "#7201a8"
            ],
            [
             0.3333333333333333,
             "#9c179e"
            ],
            [
             0.4444444444444444,
             "#bd3786"
            ],
            [
             0.5555555555555556,
             "#d8576b"
            ],
            [
             0.6666666666666666,
             "#ed7953"
            ],
            [
             0.7777777777777778,
             "#fb9f3a"
            ],
            [
             0.8888888888888888,
             "#fdca26"
            ],
            [
             1,
             "#f0f921"
            ]
           ],
           "sequentialminus": [
            [
             0,
             "#0d0887"
            ],
            [
             0.1111111111111111,
             "#46039f"
            ],
            [
             0.2222222222222222,
             "#7201a8"
            ],
            [
             0.3333333333333333,
             "#9c179e"
            ],
            [
             0.4444444444444444,
             "#bd3786"
            ],
            [
             0.5555555555555556,
             "#d8576b"
            ],
            [
             0.6666666666666666,
             "#ed7953"
            ],
            [
             0.7777777777777778,
             "#fb9f3a"
            ],
            [
             0.8888888888888888,
             "#fdca26"
            ],
            [
             1,
             "#f0f921"
            ]
           ]
          },
          "colorway": [
           "#636efa",
           "#EF553B",
           "#00cc96",
           "#ab63fa",
           "#FFA15A",
           "#19d3f3",
           "#FF6692",
           "#B6E880",
           "#FF97FF",
           "#FECB52"
          ],
          "font": {
           "color": "#f2f5fa"
          },
          "geo": {
           "bgcolor": "rgb(17,17,17)",
           "lakecolor": "rgb(17,17,17)",
           "landcolor": "rgb(17,17,17)",
           "showlakes": true,
           "showland": true,
           "subunitcolor": "#506784"
          },
          "hoverlabel": {
           "align": "left"
          },
          "hovermode": "closest",
          "mapbox": {
           "style": "dark"
          },
          "paper_bgcolor": "rgb(17,17,17)",
          "plot_bgcolor": "rgb(17,17,17)",
          "polar": {
           "angularaxis": {
            "gridcolor": "#506784",
            "linecolor": "#506784",
            "ticks": ""
           },
           "bgcolor": "rgb(17,17,17)",
           "radialaxis": {
            "gridcolor": "#506784",
            "linecolor": "#506784",
            "ticks": ""
           }
          },
          "scene": {
           "xaxis": {
            "backgroundcolor": "rgb(17,17,17)",
            "gridcolor": "#506784",
            "gridwidth": 2,
            "linecolor": "#506784",
            "showbackground": true,
            "ticks": "",
            "zerolinecolor": "#C8D4E3"
           },
           "yaxis": {
            "backgroundcolor": "rgb(17,17,17)",
            "gridcolor": "#506784",
            "gridwidth": 2,
            "linecolor": "#506784",
            "showbackground": true,
            "ticks": "",
            "zerolinecolor": "#C8D4E3"
           },
           "zaxis": {
            "backgroundcolor": "rgb(17,17,17)",
            "gridcolor": "#506784",
            "gridwidth": 2,
            "linecolor": "#506784",
            "showbackground": true,
            "ticks": "",
            "zerolinecolor": "#C8D4E3"
           }
          },
          "shapedefaults": {
           "line": {
            "color": "#f2f5fa"
           }
          },
          "sliderdefaults": {
           "bgcolor": "#C8D4E3",
           "bordercolor": "rgb(17,17,17)",
           "borderwidth": 1,
           "tickwidth": 0
          },
          "ternary": {
           "aaxis": {
            "gridcolor": "#506784",
            "linecolor": "#506784",
            "ticks": ""
           },
           "baxis": {
            "gridcolor": "#506784",
            "linecolor": "#506784",
            "ticks": ""
           },
           "bgcolor": "rgb(17,17,17)",
           "caxis": {
            "gridcolor": "#506784",
            "linecolor": "#506784",
            "ticks": ""
           }
          },
          "title": {
           "x": 0.05
          },
          "updatemenudefaults": {
           "bgcolor": "#506784",
           "borderwidth": 0
          },
          "xaxis": {
           "automargin": true,
           "gridcolor": "#283442",
           "linecolor": "#506784",
           "ticks": "",
           "title": {
            "standoff": 15
           },
           "zerolinecolor": "#283442",
           "zerolinewidth": 2
          },
          "yaxis": {
           "automargin": true,
           "gridcolor": "#283442",
           "linecolor": "#506784",
           "ticks": "",
           "title": {
            "standoff": 15
           },
           "zerolinecolor": "#283442",
           "zerolinewidth": 2
          }
         }
        },
        "title": {
         "text": "Ratings by Producer"
        },
        "xaxis": {
         "anchor": "y",
         "domain": [
          0,
          1
         ],
         "title": {
          "text": "rating"
         }
        },
        "yaxis": {
         "anchor": "x",
         "categoryarray": [
          "Tracie Simpson",
          "0",
          "Derek Ritchie",
          "Susie Liggat",
          "Denise Paul",
          "Sanne Wohlenberg",
          "Patrick Schweitzer",
          "Peter Bennett",
          "Marcus Wilson",
          "Nicola Wilson",
          "Phil Collinson",
          "Paul Frift",
          "Nikki Wilson",
          "Alex Mercer"
         ],
         "categoryorder": "array",
         "domain": [
          0,
          1
         ],
         "title": {
          "text": "Producer"
         }
        }
       }
      }
     },
     "metadata": {},
     "output_type": "display_data"
    }
   ],
   "source": [
    "fig = px.box(df.sort_values(['rating','Producer']), \n",
    "    x='rating', \n",
    "    y='Producer',\n",
    "    color='Producer',\n",
    "    points='all',\n",
    "    title='Ratings by Producer',\n",
    "    color_discrete_sequence=theme_discrete)\n",
    "\n",
    "fig.update_traces(quartilemethod='linear', jitter=1, showlegend=False)\n",
    "\n",
    "format_and_show(fig)"
   ]
  },
  {
   "cell_type": "code",
   "execution_count": 95,
   "metadata": {},
   "outputs": [
    {
     "data": {
      "application/vnd.plotly.v1+json": {
       "config": {
        "plotlyServerURL": "https://plot.ly"
       },
       "data": [
        {
         "alignmentgroup": "True",
         "bingroup": "x",
         "histfunc": "sum",
         "hovertemplate": "doctorid=9<br>rating=%{x}<br>sum of doctorid=%{y}<extra></extra>",
         "legendgroup": "9",
         "marker": {
          "color": "rgb(75, 41, 145)",
          "pattern": {
           "shape": ""
          }
         },
         "name": "9",
         "nbinsx": 75,
         "offsetgroup": "9",
         "orientation": "v",
         "showlegend": true,
         "type": "histogram",
         "x": [
          7.6,
          9.1,
          8.7,
          9.1,
          9.2,
          8.4,
          7.2,
          8.7,
          7.1,
          7,
          7.6,
          7.6,
          7.2
         ],
         "xaxis": "x",
         "y": [
          9,
          9,
          9,
          9,
          9,
          9,
          9,
          9,
          9,
          9,
          9,
          9,
          9
         ],
         "yaxis": "y"
        },
        {
         "alignmentgroup": "True",
         "hovertemplate": "doctorid=9<br>rating=%{x}<extra></extra>",
         "legendgroup": "9",
         "marker": {
          "color": "rgb(75, 41, 145)"
         },
         "name": "9",
         "offsetgroup": "9",
         "scalegroup": "x",
         "showlegend": false,
         "type": "violin",
         "x": [
          7.6,
          9.1,
          8.7,
          9.1,
          9.2,
          8.4,
          7.2,
          8.7,
          7.1,
          7,
          7.6,
          7.6,
          7.2
         ],
         "xaxis": "x2",
         "yaxis": "y2"
        },
        {
         "alignmentgroup": "True",
         "bingroup": "x",
         "histfunc": "sum",
         "hovertemplate": "doctorid=10<br>rating=%{x}<br>sum of doctorid=%{y}<extra></extra>",
         "legendgroup": "10",
         "marker": {
          "color": "rgb(135, 44, 162)",
          "pattern": {
           "shape": ""
          }
         },
         "name": "10",
         "nbinsx": 75,
         "offsetgroup": "10",
         "orientation": "v",
         "showlegend": true,
         "type": "histogram",
         "x": [
          8.1,
          9.2,
          8.8,
          8.7,
          8.4,
          7.7,
          7.8,
          8.1,
          7.5,
          9,
          7.7,
          7.8,
          9.4,
          9.5,
          9,
          8.9,
          9.1,
          9.1,
          7.6,
          7.5,
          9.8,
          7,
          6.7,
          7.5,
          7.9,
          8.4,
          9.3,
          7.8,
          7.9,
          6.9,
          8.7,
          8.8,
          8.2,
          6.1,
          6.2,
          8.1,
          7.8,
          7,
          7.6,
          9.3,
          8.5,
          8
         ],
         "xaxis": "x",
         "y": [
          10,
          10,
          10,
          10,
          10,
          10,
          10,
          10,
          10,
          10,
          10,
          10,
          10,
          10,
          10,
          10,
          10,
          10,
          10,
          10,
          10,
          10,
          10,
          10,
          10,
          10,
          10,
          10,
          10,
          10,
          10,
          10,
          10,
          10,
          10,
          10,
          10,
          10,
          10,
          10,
          10,
          10
         ],
         "yaxis": "y"
        },
        {
         "alignmentgroup": "True",
         "hovertemplate": "doctorid=10<br>rating=%{x}<extra></extra>",
         "legendgroup": "10",
         "marker": {
          "color": "rgb(135, 44, 162)"
         },
         "name": "10",
         "offsetgroup": "10",
         "scalegroup": "x",
         "showlegend": false,
         "type": "violin",
         "x": [
          8.1,
          9.2,
          8.8,
          8.7,
          8.4,
          7.7,
          7.8,
          8.1,
          7.5,
          9,
          7.7,
          7.8,
          9.4,
          9.5,
          9,
          8.9,
          9.1,
          9.1,
          7.6,
          7.5,
          9.8,
          7,
          6.7,
          7.5,
          7.9,
          8.4,
          9.3,
          7.8,
          7.9,
          6.9,
          8.7,
          8.8,
          8.2,
          6.1,
          6.2,
          8.1,
          7.8,
          7,
          7.6,
          9.3,
          8.5,
          8
         ],
         "xaxis": "x2",
         "yaxis": "y2"
        },
        {
         "alignmentgroup": "True",
         "bingroup": "x",
         "histfunc": "sum",
         "hovertemplate": "doctorid=11<br>rating=%{x}<br>sum of doctorid=%{y}<extra></extra>",
         "legendgroup": "11",
         "marker": {
          "color": "rgb(192, 54, 157)",
          "pattern": {
           "shape": ""
          }
         },
         "name": "11",
         "nbinsx": 75,
         "offsetgroup": "11",
         "orientation": "v",
         "showlegend": true,
         "type": "histogram",
         "x": [
          8.5,
          7.5,
          8.1,
          7.7,
          8.6,
          7.3,
          8.7,
          7.5,
          7.6,
          7.3,
          8.5,
          8,
          7.4,
          7.8,
          7.5,
          7.4,
          7.4,
          9.1,
          7.1,
          9,
          8.1,
          9,
          7.5,
          9.1,
          7.6,
          6.8,
          8.7,
          8.6,
          7.1,
          8.2,
          7.3,
          7.5,
          8.8,
          8.3,
          9.1,
          9.2,
          8.6,
          8.9,
          8.9,
          6.8,
          9.3,
          7.3
         ],
         "xaxis": "x",
         "y": [
          11,
          11,
          11,
          11,
          11,
          11,
          11,
          11,
          11,
          11,
          11,
          11,
          11,
          11,
          11,
          11,
          11,
          11,
          11,
          11,
          11,
          11,
          11,
          11,
          11,
          11,
          11,
          11,
          11,
          11,
          11,
          11,
          11,
          11,
          11,
          11,
          11,
          11,
          11,
          11,
          11,
          11
         ],
         "yaxis": "y"
        },
        {
         "alignmentgroup": "True",
         "hovertemplate": "doctorid=11<br>rating=%{x}<extra></extra>",
         "legendgroup": "11",
         "marker": {
          "color": "rgb(192, 54, 157)"
         },
         "name": "11",
         "offsetgroup": "11",
         "scalegroup": "x",
         "showlegend": false,
         "type": "violin",
         "x": [
          8.5,
          7.5,
          8.1,
          7.7,
          8.6,
          7.3,
          8.7,
          7.5,
          7.6,
          7.3,
          8.5,
          8,
          7.4,
          7.8,
          7.5,
          7.4,
          7.4,
          9.1,
          7.1,
          9,
          8.1,
          9,
          7.5,
          9.1,
          7.6,
          6.8,
          8.7,
          8.6,
          7.1,
          8.2,
          7.3,
          7.5,
          8.8,
          8.3,
          9.1,
          9.2,
          8.6,
          8.9,
          8.9,
          6.8,
          9.3,
          7.3
         ],
         "xaxis": "x2",
         "yaxis": "y2"
        },
        {
         "alignmentgroup": "True",
         "bingroup": "x",
         "histfunc": "sum",
         "hovertemplate": "doctorid=12<br>rating=%{x}<br>sum of doctorid=%{y}<extra></extra>",
         "legendgroup": "12",
         "marker": {
          "color": "rgb(234, 79, 136)",
          "pattern": {
           "shape": ""
          }
         },
         "name": "12",
         "nbinsx": 75,
         "offsetgroup": "12",
         "orientation": "v",
         "showlegend": true,
         "type": "histogram",
         "x": [
          7.9,
          7.5,
          9.6,
          8.7,
          7.2,
          8.6,
          8.6,
          7.3,
          7.7,
          8.1,
          8.5,
          7.2,
          7.1,
          7,
          9.2,
          6,
          9,
          7.5,
          8.6,
          8.3,
          7.6,
          8,
          7.8,
          7.9,
          8.9,
          8,
          7.4,
          7,
          8.5,
          7.1,
          6.1,
          8.7,
          7.9,
          8.5,
          8.5,
          8.1,
          7.7,
          8.5
         ],
         "xaxis": "x",
         "y": [
          12,
          12,
          12,
          12,
          12,
          12,
          12,
          12,
          12,
          12,
          12,
          12,
          12,
          12,
          12,
          12,
          12,
          12,
          12,
          12,
          12,
          12,
          12,
          12,
          12,
          12,
          12,
          12,
          12,
          12,
          12,
          12,
          12,
          12,
          12,
          12,
          12,
          12
         ],
         "yaxis": "y"
        },
        {
         "alignmentgroup": "True",
         "hovertemplate": "doctorid=12<br>rating=%{x}<extra></extra>",
         "legendgroup": "12",
         "marker": {
          "color": "rgb(234, 79, 136)"
         },
         "name": "12",
         "offsetgroup": "12",
         "scalegroup": "x",
         "showlegend": false,
         "type": "violin",
         "x": [
          7.9,
          7.5,
          9.6,
          8.7,
          7.2,
          8.6,
          8.6,
          7.3,
          7.7,
          8.1,
          8.5,
          7.2,
          7.1,
          7,
          9.2,
          6,
          9,
          7.5,
          8.6,
          8.3,
          7.6,
          8,
          7.8,
          7.9,
          8.9,
          8,
          7.4,
          7,
          8.5,
          7.1,
          6.1,
          8.7,
          7.9,
          8.5,
          8.5,
          8.1,
          7.7,
          8.5
         ],
         "xaxis": "x2",
         "yaxis": "y2"
        },
        {
         "alignmentgroup": "True",
         "bingroup": "x",
         "histfunc": "sum",
         "hovertemplate": "doctorid=13<br>rating=%{x}<br>sum of doctorid=%{y}<extra></extra>",
         "legendgroup": "13",
         "marker": {
          "color": "rgb(250, 120, 118)",
          "pattern": {
           "shape": ""
          }
         },
         "name": "13",
         "nbinsx": 75,
         "offsetgroup": "13",
         "orientation": "v",
         "showlegend": true,
         "type": "histogram",
         "x": [
          6.4,
          5.9,
          6.4,
          6.6,
          6.2,
          5.3,
          7.1,
          7.1,
          5.5,
          5.2,
          6
         ],
         "xaxis": "x",
         "y": [
          13,
          13,
          13,
          13,
          13,
          13,
          13,
          13,
          13,
          13,
          13
         ],
         "yaxis": "y"
        },
        {
         "alignmentgroup": "True",
         "hovertemplate": "doctorid=13<br>rating=%{x}<extra></extra>",
         "legendgroup": "13",
         "marker": {
          "color": "rgb(250, 120, 118)"
         },
         "name": "13",
         "offsetgroup": "13",
         "scalegroup": "x",
         "showlegend": false,
         "type": "violin",
         "x": [
          6.4,
          5.9,
          6.4,
          6.6,
          6.2,
          5.3,
          7.1,
          7.1,
          5.5,
          5.2,
          6
         ],
         "xaxis": "x2",
         "yaxis": "y2"
        }
       ],
       "layout": {
        "barmode": "relative",
        "height": 800,
        "legend": {
         "title": {
          "text": "doctorid"
         },
         "tracegroupgap": 0
        },
        "template": {
         "data": {
          "bar": [
           {
            "error_x": {
             "color": "#f2f5fa"
            },
            "error_y": {
             "color": "#f2f5fa"
            },
            "marker": {
             "line": {
              "color": "rgb(17,17,17)",
              "width": 0.5
             },
             "pattern": {
              "fillmode": "overlay",
              "size": 10,
              "solidity": 0.2
             }
            },
            "type": "bar"
           }
          ],
          "barpolar": [
           {
            "marker": {
             "line": {
              "color": "rgb(17,17,17)",
              "width": 0.5
             },
             "pattern": {
              "fillmode": "overlay",
              "size": 10,
              "solidity": 0.2
             }
            },
            "type": "barpolar"
           }
          ],
          "carpet": [
           {
            "aaxis": {
             "endlinecolor": "#A2B1C6",
             "gridcolor": "#506784",
             "linecolor": "#506784",
             "minorgridcolor": "#506784",
             "startlinecolor": "#A2B1C6"
            },
            "baxis": {
             "endlinecolor": "#A2B1C6",
             "gridcolor": "#506784",
             "linecolor": "#506784",
             "minorgridcolor": "#506784",
             "startlinecolor": "#A2B1C6"
            },
            "type": "carpet"
           }
          ],
          "choropleth": [
           {
            "colorbar": {
             "outlinewidth": 0,
             "ticks": ""
            },
            "type": "choropleth"
           }
          ],
          "contour": [
           {
            "colorbar": {
             "outlinewidth": 0,
             "ticks": ""
            },
            "colorscale": [
             [
              0,
              "#0d0887"
             ],
             [
              0.1111111111111111,
              "#46039f"
             ],
             [
              0.2222222222222222,
              "#7201a8"
             ],
             [
              0.3333333333333333,
              "#9c179e"
             ],
             [
              0.4444444444444444,
              "#bd3786"
             ],
             [
              0.5555555555555556,
              "#d8576b"
             ],
             [
              0.6666666666666666,
              "#ed7953"
             ],
             [
              0.7777777777777778,
              "#fb9f3a"
             ],
             [
              0.8888888888888888,
              "#fdca26"
             ],
             [
              1,
              "#f0f921"
             ]
            ],
            "type": "contour"
           }
          ],
          "contourcarpet": [
           {
            "colorbar": {
             "outlinewidth": 0,
             "ticks": ""
            },
            "type": "contourcarpet"
           }
          ],
          "heatmap": [
           {
            "colorbar": {
             "outlinewidth": 0,
             "ticks": ""
            },
            "colorscale": [
             [
              0,
              "#0d0887"
             ],
             [
              0.1111111111111111,
              "#46039f"
             ],
             [
              0.2222222222222222,
              "#7201a8"
             ],
             [
              0.3333333333333333,
              "#9c179e"
             ],
             [
              0.4444444444444444,
              "#bd3786"
             ],
             [
              0.5555555555555556,
              "#d8576b"
             ],
             [
              0.6666666666666666,
              "#ed7953"
             ],
             [
              0.7777777777777778,
              "#fb9f3a"
             ],
             [
              0.8888888888888888,
              "#fdca26"
             ],
             [
              1,
              "#f0f921"
             ]
            ],
            "type": "heatmap"
           }
          ],
          "heatmapgl": [
           {
            "colorbar": {
             "outlinewidth": 0,
             "ticks": ""
            },
            "colorscale": [
             [
              0,
              "#0d0887"
             ],
             [
              0.1111111111111111,
              "#46039f"
             ],
             [
              0.2222222222222222,
              "#7201a8"
             ],
             [
              0.3333333333333333,
              "#9c179e"
             ],
             [
              0.4444444444444444,
              "#bd3786"
             ],
             [
              0.5555555555555556,
              "#d8576b"
             ],
             [
              0.6666666666666666,
              "#ed7953"
             ],
             [
              0.7777777777777778,
              "#fb9f3a"
             ],
             [
              0.8888888888888888,
              "#fdca26"
             ],
             [
              1,
              "#f0f921"
             ]
            ],
            "type": "heatmapgl"
           }
          ],
          "histogram": [
           {
            "marker": {
             "pattern": {
              "fillmode": "overlay",
              "size": 10,
              "solidity": 0.2
             }
            },
            "type": "histogram"
           }
          ],
          "histogram2d": [
           {
            "colorbar": {
             "outlinewidth": 0,
             "ticks": ""
            },
            "colorscale": [
             [
              0,
              "#0d0887"
             ],
             [
              0.1111111111111111,
              "#46039f"
             ],
             [
              0.2222222222222222,
              "#7201a8"
             ],
             [
              0.3333333333333333,
              "#9c179e"
             ],
             [
              0.4444444444444444,
              "#bd3786"
             ],
             [
              0.5555555555555556,
              "#d8576b"
             ],
             [
              0.6666666666666666,
              "#ed7953"
             ],
             [
              0.7777777777777778,
              "#fb9f3a"
             ],
             [
              0.8888888888888888,
              "#fdca26"
             ],
             [
              1,
              "#f0f921"
             ]
            ],
            "type": "histogram2d"
           }
          ],
          "histogram2dcontour": [
           {
            "colorbar": {
             "outlinewidth": 0,
             "ticks": ""
            },
            "colorscale": [
             [
              0,
              "#0d0887"
             ],
             [
              0.1111111111111111,
              "#46039f"
             ],
             [
              0.2222222222222222,
              "#7201a8"
             ],
             [
              0.3333333333333333,
              "#9c179e"
             ],
             [
              0.4444444444444444,
              "#bd3786"
             ],
             [
              0.5555555555555556,
              "#d8576b"
             ],
             [
              0.6666666666666666,
              "#ed7953"
             ],
             [
              0.7777777777777778,
              "#fb9f3a"
             ],
             [
              0.8888888888888888,
              "#fdca26"
             ],
             [
              1,
              "#f0f921"
             ]
            ],
            "type": "histogram2dcontour"
           }
          ],
          "mesh3d": [
           {
            "colorbar": {
             "outlinewidth": 0,
             "ticks": ""
            },
            "type": "mesh3d"
           }
          ],
          "parcoords": [
           {
            "line": {
             "colorbar": {
              "outlinewidth": 0,
              "ticks": ""
             }
            },
            "type": "parcoords"
           }
          ],
          "pie": [
           {
            "automargin": true,
            "type": "pie"
           }
          ],
          "scatter": [
           {
            "marker": {
             "line": {
              "color": "#283442"
             }
            },
            "type": "scatter"
           }
          ],
          "scatter3d": [
           {
            "line": {
             "colorbar": {
              "outlinewidth": 0,
              "ticks": ""
             }
            },
            "marker": {
             "colorbar": {
              "outlinewidth": 0,
              "ticks": ""
             }
            },
            "type": "scatter3d"
           }
          ],
          "scattercarpet": [
           {
            "marker": {
             "colorbar": {
              "outlinewidth": 0,
              "ticks": ""
             }
            },
            "type": "scattercarpet"
           }
          ],
          "scattergeo": [
           {
            "marker": {
             "colorbar": {
              "outlinewidth": 0,
              "ticks": ""
             }
            },
            "type": "scattergeo"
           }
          ],
          "scattergl": [
           {
            "marker": {
             "line": {
              "color": "#283442"
             }
            },
            "type": "scattergl"
           }
          ],
          "scattermapbox": [
           {
            "marker": {
             "colorbar": {
              "outlinewidth": 0,
              "ticks": ""
             }
            },
            "type": "scattermapbox"
           }
          ],
          "scatterpolar": [
           {
            "marker": {
             "colorbar": {
              "outlinewidth": 0,
              "ticks": ""
             }
            },
            "type": "scatterpolar"
           }
          ],
          "scatterpolargl": [
           {
            "marker": {
             "colorbar": {
              "outlinewidth": 0,
              "ticks": ""
             }
            },
            "type": "scatterpolargl"
           }
          ],
          "scatterternary": [
           {
            "marker": {
             "colorbar": {
              "outlinewidth": 0,
              "ticks": ""
             }
            },
            "type": "scatterternary"
           }
          ],
          "surface": [
           {
            "colorbar": {
             "outlinewidth": 0,
             "ticks": ""
            },
            "colorscale": [
             [
              0,
              "#0d0887"
             ],
             [
              0.1111111111111111,
              "#46039f"
             ],
             [
              0.2222222222222222,
              "#7201a8"
             ],
             [
              0.3333333333333333,
              "#9c179e"
             ],
             [
              0.4444444444444444,
              "#bd3786"
             ],
             [
              0.5555555555555556,
              "#d8576b"
             ],
             [
              0.6666666666666666,
              "#ed7953"
             ],
             [
              0.7777777777777778,
              "#fb9f3a"
             ],
             [
              0.8888888888888888,
              "#fdca26"
             ],
             [
              1,
              "#f0f921"
             ]
            ],
            "type": "surface"
           }
          ],
          "table": [
           {
            "cells": {
             "fill": {
              "color": "#506784"
             },
             "line": {
              "color": "rgb(17,17,17)"
             }
            },
            "header": {
             "fill": {
              "color": "#2a3f5f"
             },
             "line": {
              "color": "rgb(17,17,17)"
             }
            },
            "type": "table"
           }
          ]
         },
         "layout": {
          "annotationdefaults": {
           "arrowcolor": "#f2f5fa",
           "arrowhead": 0,
           "arrowwidth": 1
          },
          "autotypenumbers": "strict",
          "coloraxis": {
           "colorbar": {
            "outlinewidth": 0,
            "ticks": ""
           }
          },
          "colorscale": {
           "diverging": [
            [
             0,
             "#8e0152"
            ],
            [
             0.1,
             "#c51b7d"
            ],
            [
             0.2,
             "#de77ae"
            ],
            [
             0.3,
             "#f1b6da"
            ],
            [
             0.4,
             "#fde0ef"
            ],
            [
             0.5,
             "#f7f7f7"
            ],
            [
             0.6,
             "#e6f5d0"
            ],
            [
             0.7,
             "#b8e186"
            ],
            [
             0.8,
             "#7fbc41"
            ],
            [
             0.9,
             "#4d9221"
            ],
            [
             1,
             "#276419"
            ]
           ],
           "sequential": [
            [
             0,
             "#0d0887"
            ],
            [
             0.1111111111111111,
             "#46039f"
            ],
            [
             0.2222222222222222,
             "#7201a8"
            ],
            [
             0.3333333333333333,
             "#9c179e"
            ],
            [
             0.4444444444444444,
             "#bd3786"
            ],
            [
             0.5555555555555556,
             "#d8576b"
            ],
            [
             0.6666666666666666,
             "#ed7953"
            ],
            [
             0.7777777777777778,
             "#fb9f3a"
            ],
            [
             0.8888888888888888,
             "#fdca26"
            ],
            [
             1,
             "#f0f921"
            ]
           ],
           "sequentialminus": [
            [
             0,
             "#0d0887"
            ],
            [
             0.1111111111111111,
             "#46039f"
            ],
            [
             0.2222222222222222,
             "#7201a8"
            ],
            [
             0.3333333333333333,
             "#9c179e"
            ],
            [
             0.4444444444444444,
             "#bd3786"
            ],
            [
             0.5555555555555556,
             "#d8576b"
            ],
            [
             0.6666666666666666,
             "#ed7953"
            ],
            [
             0.7777777777777778,
             "#fb9f3a"
            ],
            [
             0.8888888888888888,
             "#fdca26"
            ],
            [
             1,
             "#f0f921"
            ]
           ]
          },
          "colorway": [
           "#636efa",
           "#EF553B",
           "#00cc96",
           "#ab63fa",
           "#FFA15A",
           "#19d3f3",
           "#FF6692",
           "#B6E880",
           "#FF97FF",
           "#FECB52"
          ],
          "font": {
           "color": "#f2f5fa"
          },
          "geo": {
           "bgcolor": "rgb(17,17,17)",
           "lakecolor": "rgb(17,17,17)",
           "landcolor": "rgb(17,17,17)",
           "showlakes": true,
           "showland": true,
           "subunitcolor": "#506784"
          },
          "hoverlabel": {
           "align": "left"
          },
          "hovermode": "closest",
          "mapbox": {
           "style": "dark"
          },
          "paper_bgcolor": "rgb(17,17,17)",
          "plot_bgcolor": "rgb(17,17,17)",
          "polar": {
           "angularaxis": {
            "gridcolor": "#506784",
            "linecolor": "#506784",
            "ticks": ""
           },
           "bgcolor": "rgb(17,17,17)",
           "radialaxis": {
            "gridcolor": "#506784",
            "linecolor": "#506784",
            "ticks": ""
           }
          },
          "scene": {
           "xaxis": {
            "backgroundcolor": "rgb(17,17,17)",
            "gridcolor": "#506784",
            "gridwidth": 2,
            "linecolor": "#506784",
            "showbackground": true,
            "ticks": "",
            "zerolinecolor": "#C8D4E3"
           },
           "yaxis": {
            "backgroundcolor": "rgb(17,17,17)",
            "gridcolor": "#506784",
            "gridwidth": 2,
            "linecolor": "#506784",
            "showbackground": true,
            "ticks": "",
            "zerolinecolor": "#C8D4E3"
           },
           "zaxis": {
            "backgroundcolor": "rgb(17,17,17)",
            "gridcolor": "#506784",
            "gridwidth": 2,
            "linecolor": "#506784",
            "showbackground": true,
            "ticks": "",
            "zerolinecolor": "#C8D4E3"
           }
          },
          "shapedefaults": {
           "line": {
            "color": "#f2f5fa"
           }
          },
          "sliderdefaults": {
           "bgcolor": "#C8D4E3",
           "bordercolor": "rgb(17,17,17)",
           "borderwidth": 1,
           "tickwidth": 0
          },
          "ternary": {
           "aaxis": {
            "gridcolor": "#506784",
            "linecolor": "#506784",
            "ticks": ""
           },
           "baxis": {
            "gridcolor": "#506784",
            "linecolor": "#506784",
            "ticks": ""
           },
           "bgcolor": "rgb(17,17,17)",
           "caxis": {
            "gridcolor": "#506784",
            "linecolor": "#506784",
            "ticks": ""
           }
          },
          "title": {
           "x": 0.05
          },
          "updatemenudefaults": {
           "bgcolor": "#506784",
           "borderwidth": 0
          },
          "xaxis": {
           "automargin": true,
           "gridcolor": "#283442",
           "linecolor": "#506784",
           "ticks": "",
           "title": {
            "standoff": 15
           },
           "zerolinecolor": "#283442",
           "zerolinewidth": 2
          },
          "yaxis": {
           "automargin": true,
           "gridcolor": "#283442",
           "linecolor": "#506784",
           "ticks": "",
           "title": {
            "standoff": 15
           },
           "zerolinecolor": "#283442",
           "zerolinewidth": 2
          }
         }
        },
        "title": {
         "text": "Ratings by Doctor"
        },
        "xaxis": {
         "anchor": "y",
         "domain": [
          0,
          1
         ],
         "title": {
          "text": "rating"
         }
        },
        "xaxis2": {
         "anchor": "y2",
         "domain": [
          0,
          1
         ],
         "matches": "x",
         "showgrid": true,
         "showticklabels": false
        },
        "yaxis": {
         "anchor": "x",
         "categoryarray": [
          13,
          12,
          11,
          10,
          9
         ],
         "categoryorder": "array",
         "domain": [
          0,
          0.7326
         ],
         "title": {
          "text": "sum of doctorid"
         }
        },
        "yaxis2": {
         "anchor": "x2",
         "categoryarray": [
          13,
          12,
          11,
          10,
          9
         ],
         "categoryorder": "array",
         "domain": [
          0.7426,
          1
         ],
         "matches": "y2",
         "showgrid": false,
         "showline": false,
         "showticklabels": false,
         "ticks": ""
        }
       }
      }
     },
     "metadata": {},
     "output_type": "display_data"
    }
   ],
   "source": [
    "fig = px.histogram(df.sort_values(['doctorid']), \n",
    "    x='rating', \n",
    "    y='doctorid',\n",
    "    color='doctorid',\n",
    "    title='Ratings by Doctor',\n",
    "    marginal='violin',\n",
    "    nbins=75,\n",
    "    color_discrete_sequence=theme_sequential)\n",
    "\n",
    "format_and_show_tall(fig)"
   ]
  }
 ],
 "metadata": {
  "interpreter": {
   "hash": "183bbf6827d058c2a2fb0f4acdc0420849dda2b4380af0e437e38c64d798d8b7"
  },
  "kernelspec": {
   "display_name": "Python 3.9.7 ('base')",
   "language": "python",
   "name": "python3"
  },
  "language_info": {
   "codemirror_mode": {
    "name": "ipython",
    "version": 3
   },
   "file_extension": ".py",
   "mimetype": "text/x-python",
   "name": "python",
   "nbconvert_exporter": "python",
   "pygments_lexer": "ipython3",
   "version": "3.9.7"
  },
  "orig_nbformat": 4
 },
 "nbformat": 4,
 "nbformat_minor": 2
}
